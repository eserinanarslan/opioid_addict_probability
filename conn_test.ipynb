{
 "cells": [
  {
   "cell_type": "code",
   "execution_count": 3,
   "id": "7a55f2a7-242b-4876-ae07-63a754f86ce8",
   "metadata": {
    "pycharm": {
     "name": "#%%\n"
    }
   },
   "outputs": [],
   "source": [
    "#!/usr/bin/python\n",
    "import psycopg2\n",
    "from config import config\n",
    "import pandas.io.sql as psql\n",
    "\n",
    "import os\n",
    "import pandas as pd"
   ]
  },
  {
   "cell_type": "code",
   "execution_count": 4,
   "id": "b2c05df0-367f-4d27-aef2-d58740acd703",
   "metadata": {},
   "outputs": [
    {
     "name": "stdout",
     "output_type": "stream",
     "text": [
      "Connecting to the PostgreSQL database...\n"
     ]
    },
    {
     "name": "stderr",
     "output_type": "stream",
     "text": [
      "/opt/homebrew/Cellar/jupyterlab/3.4.5/libexec/lib/python3.10/site-packages/pandas/io/sql.py:762: UserWarning: pandas only support SQLAlchemy connectable(engine/connection) ordatabase string URI or sqlite3 DBAPI2 connectionother DBAPI2 objects are not tested, please consider using SQLAlchemy\n",
      "  warnings.warn(\n"
     ]
    },
    {
     "name": "stdout",
     "output_type": "stream",
     "text": [
      "Database connection closed.\n"
     ]
    }
   ],
   "source": [
    "\n",
    "\n",
    "\n",
    "def connect():\n",
    "    \"\"\" Connect to the PostgreSQL database server \"\"\"\n",
    "    conn = None\n",
    "    try:\n",
    "        # read connection parameters\n",
    "        params = config()\n",
    "\n",
    "        # connect to the PostgreSQL server\n",
    "        print('Connecting to the PostgreSQL database...')\n",
    "        conn = psycopg2.connect(**params)\n",
    "\n",
    "        # create a cursor\n",
    "        cur = conn.cursor()\n",
    "        \n",
    "        # Open and read the file as a single buffer\n",
    "        sql_path = os.path.join(\"sql\", \"model_data.sql\")\n",
    "        with open(sql_path) as query_string:\n",
    "            postgreSQL_select_Query = query_string.read()\n",
    "        \n",
    "        dataframe = psql.read_sql(postgreSQL_select_Query, conn)\n",
    "        return dataframe\n",
    "\n",
    "    # close the communication with the PostgreSQL\n",
    "        cur.close()\n",
    "    except (Exception, psycopg2.DatabaseError) as error:\n",
    "        print(error)\n",
    "    finally:\n",
    "        if conn is not None:\n",
    "            conn.close()\n",
    "            print('Database connection closed.')\n",
    "\n",
    "\n",
    "if __name__ == '__main__':\n",
    "    df = connect()\n"
   ]
  },
  {
   "cell_type": "code",
   "execution_count": 6,
   "id": "4c587a46-c0bf-44ca-bfa8-c04aeec021f8",
   "metadata": {},
   "outputs": [
    {
     "data": {
      "text/html": [
       "<div>\n",
       "<style scoped>\n",
       "    .dataframe tbody tr th:only-of-type {\n",
       "        vertical-align: middle;\n",
       "    }\n",
       "\n",
       "    .dataframe tbody tr th {\n",
       "        vertical-align: top;\n",
       "    }\n",
       "\n",
       "    .dataframe thead th {\n",
       "        text-align: right;\n",
       "    }\n",
       "</style>\n",
       "<table border=\"1\" class=\"dataframe\">\n",
       "  <thead>\n",
       "    <tr style=\"text-align: right;\">\n",
       "      <th></th>\n",
       "      <th>id</th>\n",
       "      <th>gender</th>\n",
       "      <th>dateOfBirth</th>\n",
       "      <th>postalCode</th>\n",
       "      <th>race</th>\n",
       "      <th>date</th>\n",
       "      <th>bmi</th>\n",
       "      <th>height</th>\n",
       "      <th>weight</th>\n",
       "      <th>socioEconomic</th>\n",
       "      <th>...</th>\n",
       "      <th>lastTwelveMonthsLabTestResult4</th>\n",
       "      <th>lastTwelveMonthsDepartment4</th>\n",
       "      <th>lastTwelveMonthsMedicationNameCode4</th>\n",
       "      <th>lastTwelveMonthsMedicationReason4</th>\n",
       "      <th>lastTwelveMonthsLabTestType5</th>\n",
       "      <th>lastTwelveMonthsLabTestResult5</th>\n",
       "      <th>lastTwelveMonthsDepartment5</th>\n",
       "      <th>lastTwelveMonthsMedicationNameCode5</th>\n",
       "      <th>lastTwelveMonthsMedicationReason5</th>\n",
       "      <th>patient_id</th>\n",
       "    </tr>\n",
       "  </thead>\n",
       "  <tbody>\n",
       "    <tr>\n",
       "      <th>0</th>\n",
       "      <td>cb50e6de-a996-4563-9f9e-9277b650723d</td>\n",
       "      <td>female</td>\n",
       "      <td>1970-12-26</td>\n",
       "      <td>02215</td>\n",
       "      <td>white</td>\n",
       "      <td>2022-01-01</td>\n",
       "      <td>25.5</td>\n",
       "      <td>120.0</td>\n",
       "      <td>145.0</td>\n",
       "      <td>upper-middle</td>\n",
       "      <td>...</td>\n",
       "      <td>None</td>\n",
       "      <td>None</td>\n",
       "      <td>None</td>\n",
       "      <td>None</td>\n",
       "      <td>None</td>\n",
       "      <td>None</td>\n",
       "      <td>None</td>\n",
       "      <td>None</td>\n",
       "      <td>None</td>\n",
       "      <td>d80538f5-203a-4a1e-9b41-2919e174f19b</td>\n",
       "    </tr>\n",
       "    <tr>\n",
       "      <th>1</th>\n",
       "      <td>33559f10-352b-4c0d-809f-3d5a1ec75784</td>\n",
       "      <td>female</td>\n",
       "      <td>1970-12-26</td>\n",
       "      <td>02215</td>\n",
       "      <td>white</td>\n",
       "      <td>2022-01-01</td>\n",
       "      <td>25.5</td>\n",
       "      <td>120.0</td>\n",
       "      <td>145.0</td>\n",
       "      <td>upper-middle</td>\n",
       "      <td>...</td>\n",
       "      <td>None</td>\n",
       "      <td>None</td>\n",
       "      <td>None</td>\n",
       "      <td>None</td>\n",
       "      <td>None</td>\n",
       "      <td>None</td>\n",
       "      <td>None</td>\n",
       "      <td>None</td>\n",
       "      <td>None</td>\n",
       "      <td>d80538f5-203a-4a1e-9b41-2919e174f19b</td>\n",
       "    </tr>\n",
       "    <tr>\n",
       "      <th>2</th>\n",
       "      <td>a98e228e-cfcc-423a-8fb8-6a2dbb04f62a</td>\n",
       "      <td>female</td>\n",
       "      <td>1970-12-26</td>\n",
       "      <td>02215</td>\n",
       "      <td>white</td>\n",
       "      <td>2022-01-01</td>\n",
       "      <td>25.5</td>\n",
       "      <td>120.0</td>\n",
       "      <td>145.0</td>\n",
       "      <td>upper-middle</td>\n",
       "      <td>...</td>\n",
       "      <td>None</td>\n",
       "      <td>None</td>\n",
       "      <td>None</td>\n",
       "      <td>None</td>\n",
       "      <td>None</td>\n",
       "      <td>None</td>\n",
       "      <td>None</td>\n",
       "      <td>None</td>\n",
       "      <td>None</td>\n",
       "      <td>d80538f5-203a-4a1e-9b41-2919e174f19b</td>\n",
       "    </tr>\n",
       "    <tr>\n",
       "      <th>3</th>\n",
       "      <td>480ebad7-4738-446f-ad8f-1e260c69ad51</td>\n",
       "      <td>male</td>\n",
       "      <td>1955-12-26</td>\n",
       "      <td>18215</td>\n",
       "      <td>other</td>\n",
       "      <td>2022-01-01</td>\n",
       "      <td>25.5</td>\n",
       "      <td>120.0</td>\n",
       "      <td>145.0</td>\n",
       "      <td>upper-middle</td>\n",
       "      <td>...</td>\n",
       "      <td>None</td>\n",
       "      <td>None</td>\n",
       "      <td>None</td>\n",
       "      <td>None</td>\n",
       "      <td>None</td>\n",
       "      <td>None</td>\n",
       "      <td>None</td>\n",
       "      <td>None</td>\n",
       "      <td>None</td>\n",
       "      <td>9310554d-f01a-4e7d-bffb-00808e1beb3a</td>\n",
       "    </tr>\n",
       "  </tbody>\n",
       "</table>\n",
       "<p>4 rows × 91 columns</p>\n",
       "</div>"
      ],
      "text/plain": [
       "                                     id  gender dateOfBirth postalCode   race  \\\n",
       "0  cb50e6de-a996-4563-9f9e-9277b650723d  female  1970-12-26      02215  white   \n",
       "1  33559f10-352b-4c0d-809f-3d5a1ec75784  female  1970-12-26      02215  white   \n",
       "2  a98e228e-cfcc-423a-8fb8-6a2dbb04f62a  female  1970-12-26      02215  white   \n",
       "3  480ebad7-4738-446f-ad8f-1e260c69ad51    male  1955-12-26      18215  other   \n",
       "\n",
       "         date   bmi  height  weight socioEconomic  ...  \\\n",
       "0  2022-01-01  25.5   120.0   145.0  upper-middle  ...   \n",
       "1  2022-01-01  25.5   120.0   145.0  upper-middle  ...   \n",
       "2  2022-01-01  25.5   120.0   145.0  upper-middle  ...   \n",
       "3  2022-01-01  25.5   120.0   145.0  upper-middle  ...   \n",
       "\n",
       "  lastTwelveMonthsLabTestResult4 lastTwelveMonthsDepartment4  \\\n",
       "0                           None                        None   \n",
       "1                           None                        None   \n",
       "2                           None                        None   \n",
       "3                           None                        None   \n",
       "\n",
       "  lastTwelveMonthsMedicationNameCode4  lastTwelveMonthsMedicationReason4  \\\n",
       "0                                None                               None   \n",
       "1                                None                               None   \n",
       "2                                None                               None   \n",
       "3                                None                               None   \n",
       "\n",
       "   lastTwelveMonthsLabTestType5  lastTwelveMonthsLabTestResult5  \\\n",
       "0                          None                            None   \n",
       "1                          None                            None   \n",
       "2                          None                            None   \n",
       "3                          None                            None   \n",
       "\n",
       "   lastTwelveMonthsDepartment5 lastTwelveMonthsMedicationNameCode5  \\\n",
       "0                         None                                None   \n",
       "1                         None                                None   \n",
       "2                         None                                None   \n",
       "3                         None                                None   \n",
       "\n",
       "  lastTwelveMonthsMedicationReason5                            patient_id  \n",
       "0                              None  d80538f5-203a-4a1e-9b41-2919e174f19b  \n",
       "1                              None  d80538f5-203a-4a1e-9b41-2919e174f19b  \n",
       "2                              None  d80538f5-203a-4a1e-9b41-2919e174f19b  \n",
       "3                              None  9310554d-f01a-4e7d-bffb-00808e1beb3a  \n",
       "\n",
       "[4 rows x 91 columns]"
      ]
     },
     "execution_count": 6,
     "metadata": {},
     "output_type": "execute_result"
    }
   ],
   "source": [
    "df.head()"
   ]
  },
  {
   "cell_type": "code",
   "execution_count": 5,
   "id": "02e2ad7e-ec7f-482e-b5d1-9d4aaeee1064",
   "metadata": {},
   "outputs": [
    {
     "name": "stdout",
     "output_type": "stream",
     "text": [
      "\u001b[33mDEPRECATION: Configuring installation scheme with distutils config files is deprecated and will no longer work in the near future. If you are using a Homebrew or Linuxbrew Python, please see discussion at https://github.com/Homebrew/homebrew-core/issues/76621\u001b[0m\u001b[33m\n",
      "\u001b[0mCollecting psycopg2\n",
      "  Using cached psycopg2-2.9.5.tar.gz (384 kB)\n",
      "  Preparing metadata (setup.py) ... \u001b[?25lerror\n",
      "  \u001b[1;31merror\u001b[0m: \u001b[1msubprocess-exited-with-error\u001b[0m\n",
      "  \n",
      "  \u001b[31m×\u001b[0m \u001b[32mpython setup.py egg_info\u001b[0m did not run successfully.\n",
      "  \u001b[31m│\u001b[0m exit code: \u001b[1;36m1\u001b[0m\n",
      "  \u001b[31m╰─>\u001b[0m \u001b[31m[25 lines of output]\u001b[0m\n",
      "  \u001b[31m   \u001b[0m /opt/homebrew/lib/python3.9/site-packages/setuptools/config/setupcfg.py:508: SetuptoolsDeprecationWarning: The license_file parameter is deprecated, use license_files instead.\n",
      "  \u001b[31m   \u001b[0m   warnings.warn(msg, warning_class)\n",
      "  \u001b[31m   \u001b[0m running egg_info\n",
      "  \u001b[31m   \u001b[0m creating /private/var/folders/7p/k227m_450jsfhrwrkgf7wdtw0000gn/T/pip-pip-egg-info-bcxhou1y/psycopg2.egg-info\n",
      "  \u001b[31m   \u001b[0m writing /private/var/folders/7p/k227m_450jsfhrwrkgf7wdtw0000gn/T/pip-pip-egg-info-bcxhou1y/psycopg2.egg-info/PKG-INFO\n",
      "  \u001b[31m   \u001b[0m writing dependency_links to /private/var/folders/7p/k227m_450jsfhrwrkgf7wdtw0000gn/T/pip-pip-egg-info-bcxhou1y/psycopg2.egg-info/dependency_links.txt\n",
      "  \u001b[31m   \u001b[0m writing top-level names to /private/var/folders/7p/k227m_450jsfhrwrkgf7wdtw0000gn/T/pip-pip-egg-info-bcxhou1y/psycopg2.egg-info/top_level.txt\n",
      "  \u001b[31m   \u001b[0m writing manifest file '/private/var/folders/7p/k227m_450jsfhrwrkgf7wdtw0000gn/T/pip-pip-egg-info-bcxhou1y/psycopg2.egg-info/SOURCES.txt'\n",
      "  \u001b[31m   \u001b[0m \n",
      "  \u001b[31m   \u001b[0m Error: pg_config executable not found.\n",
      "  \u001b[31m   \u001b[0m \n",
      "  \u001b[31m   \u001b[0m pg_config is required to build psycopg2 from source.  Please add the directory\n",
      "  \u001b[31m   \u001b[0m containing pg_config to the $PATH or specify the full executable path with the\n",
      "  \u001b[31m   \u001b[0m option:\n",
      "  \u001b[31m   \u001b[0m \n",
      "  \u001b[31m   \u001b[0m     python setup.py build_ext --pg-config /path/to/pg_config build ...\n",
      "  \u001b[31m   \u001b[0m \n",
      "  \u001b[31m   \u001b[0m or with the pg_config option in 'setup.cfg'.\n",
      "  \u001b[31m   \u001b[0m \n",
      "  \u001b[31m   \u001b[0m If you prefer to avoid building psycopg2 from source, please install the PyPI\n",
      "  \u001b[31m   \u001b[0m 'psycopg2-binary' package instead.\n",
      "  \u001b[31m   \u001b[0m \n",
      "  \u001b[31m   \u001b[0m For further information please check the 'doc/src/install.rst' file (also at\n",
      "  \u001b[31m   \u001b[0m <https://www.psycopg.org/docs/install.html>).\n",
      "  \u001b[31m   \u001b[0m \n",
      "  \u001b[31m   \u001b[0m \u001b[31m[end of output]\u001b[0m\n",
      "  \n",
      "  \u001b[1;35mnote\u001b[0m: This error originates from a subprocess, and is likely not a problem with pip.\n",
      "\u001b[1;31merror\u001b[0m: \u001b[1mmetadata-generation-failed\u001b[0m\n",
      "\n",
      "\u001b[31m×\u001b[0m Encountered error while generating package metadata.\n",
      "\u001b[31m╰─>\u001b[0m See above for output.\n",
      "\n",
      "\u001b[1;35mnote\u001b[0m: This is an issue with the package mentioned above, not pip.\n",
      "\u001b[1;36mhint\u001b[0m: See above for details.\n",
      "\u001b[?25h"
     ]
    }
   ],
   "source": [
    "!pip install psycopg2"
   ]
  },
  {
   "cell_type": "code",
   "execution_count": null,
   "id": "ed759c12-0692-4ff0-8754-e7909e47a162",
   "metadata": {},
   "outputs": [],
   "source": [
    "pip install psycopg2-binary"
   ]
  },
  {
   "cell_type": "code",
   "execution_count": null,
   "id": "5cd2cb24-6965-4982-864c-2d1a5df9aa6d",
   "metadata": {},
   "outputs": [],
   "source": [
    "import psycopg2\n",
    "conn = psycopg2.connect(\n",
    "    host=\"cn4ce-test-postgre.postgres.database.azure.com\",\n",
    "    database=\"postgres\",\n",
    "    user=\"cliexa_postgre_admin@cn4ce-test-postgre\",\n",
    "    password=\"f1saqwe!qa@201kaweq\")"
   ]
  },
  {
   "cell_type": "code",
   "execution_count": null,
   "id": "10bd1f43-2caa-452d-a4b9-b0d2bbfe5157",
   "metadata": {},
   "outputs": [],
   "source": [
    "import configparser\n",
    "\n",
    "config = configparser.ConfigParser()\n",
    "config.read_file(open(r'config.ini'))\n",
    "host = config.get('postgresql', 'host')\n",
    "database = config.get('postgresql', 'database')\n",
    "user = config.get('postgresql', 'user')\n",
    "password = config.get('postgresql', 'password')"
   ]
  },
  {
   "cell_type": "code",
   "execution_count": null,
   "id": "832b54df-4eeb-40fa-9ad5-6bc0715e1bed",
   "metadata": {},
   "outputs": [],
   "source": [
    "#!/usr/bin/python\n",
    "from configparser import ConfigParser\n",
    "\n",
    "\n",
    "def config(filename='config.ini', section='postgresql'):\n",
    "    # create a parser\n",
    "    parser = ConfigParser()\n",
    "    # read config file\n",
    "    parser.read(filename)\n",
    "\n",
    "    # get section, default to postgresql\n",
    "    db = {}\n",
    "    if parser.has_section(section):\n",
    "        params = parser.items(section)\n",
    "        for param in params:\n",
    "            db[param[0]] = param[1]\n",
    "    else:\n",
    "        raise Exception('Section {0} not found in the {1} file'.format(section, filename))\n",
    "\n",
    "    return db"
   ]
  },
  {
   "cell_type": "code",
   "execution_count": 2,
   "id": "c2201a76-9693-44cd-a453-a072cefd1604",
   "metadata": {},
   "outputs": [
    {
     "ename": "AttributeError",
     "evalue": "'NoneType' object has no attribute 'head'",
     "output_type": "error",
     "traceback": [
      "\u001b[0;31m---------------------------------------------------------------------------\u001b[0m",
      "\u001b[0;31mAttributeError\u001b[0m                            Traceback (most recent call last)",
      "Input \u001b[0;32mIn [2]\u001b[0m, in \u001b[0;36m<cell line: 1>\u001b[0;34m()\u001b[0m\n\u001b[0;32m----> 1\u001b[0m \u001b[43mdf\u001b[49m\u001b[38;5;241;43m.\u001b[39;49m\u001b[43mhead\u001b[49m()\n",
      "\u001b[0;31mAttributeError\u001b[0m: 'NoneType' object has no attribute 'head'"
     ]
    }
   ],
   "source": [
    "df.head()"
   ]
  },
  {
   "cell_type": "code",
   "execution_count": null,
   "id": "56cab493-042f-4ff5-b7ce-9004e15664f4",
   "metadata": {},
   "outputs": [],
   "source": [
    "#!/usr/bin/python\n",
    "import psycopg2\n",
    "from config import config\n",
    "import pandas.io.sql as psql\n",
    "\n",
    "\n",
    "def connect():\n",
    "    \"\"\" Connect to the PostgreSQL database server \"\"\"\n",
    "    conn = None\n",
    "    try:\n",
    "        # read connection parameters\n",
    "        params = config()\n",
    "\n",
    "        # connect to the PostgreSQL server\n",
    "        print('Connecting to the PostgreSQL database...')\n",
    "        conn = psycopg2.connect(**params)\n",
    "\n",
    "        # create a cursor\n",
    "        cur = conn.cursor()\n",
    "        \n",
    "        # Open and read the file as a single buffer\n",
    "        sql_path = os.path.join(\"sql\", \"model_data.sql\")\n",
    "        with open(sql_path) as query_string:\n",
    "            postgreSQL_select_Query = query_string.read()\n",
    "        \n",
    "        dataframe = psql.read_sql(postgreSQL_select_Query, conn)\n",
    "\n",
    "        \n",
    "    # execute a statement\n",
    "        print('PostgreSQL database version:')\n",
    "        cur.execute('SELECT version()')\n",
    "\n",
    "        # display the PostgreSQL database server version\n",
    "        db_version = cur.fetchone()\n",
    "        print(db_version)\n",
    "       \n",
    "    # close the communication with the PostgreSQL\n",
    "        cur.close()\n",
    "    except (Exception, psycopg2.DatabaseError) as error:\n",
    "        print(error)\n",
    "    finally:\n",
    "        if conn is not None:\n",
    "            conn.close()\n",
    "            print('Database connection closed.')\n",
    "\n",
    "\n",
    "if __name__ == '__main__':\n",
    "    connect()\n"
   ]
  },
  {
   "cell_type": "code",
   "execution_count": null,
   "id": "39c6167e-9cc4-407a-b04b-764edbfb781c",
   "metadata": {},
   "outputs": [],
   "source": [
    "import psycopg2 as pg\n",
    "import pandas.io.sql as psql\n",
    "connection = pg.connect(\"host=localhost dbname=kinder user=your_username password=your_password\")\n",
    "dataframe = psql.read_sql('SELECT * FROM product_product', connection)\n",
    "product_category = psql.read_sql_query('select * from product_category', connection)"
   ]
  },
  {
   "cell_type": "code",
   "execution_count": null,
   "id": "1e801df0-5f8d-4b69-95c6-fa311b6c66ae",
   "metadata": {
    "tags": []
   },
   "outputs": [],
   "source": [
    "#!/usr/bin/python\n",
    "import psycopg2\n",
    "from config import config\n",
    "\n",
    "def connect_postgre():\n",
    "    \"\"\" Connect to the PostgreSQL database server \"\"\"\n",
    "    conn = None\n",
    "    try:\n",
    "        # read connection parameters\n",
    "        params = config()\n",
    "\n",
    "        # connect to the PostgreSQL server\n",
    "        print('Connecting to the PostgreSQL database...')\n",
    "        conn = psycopg2.connect(**params)\n",
    "\n",
    "        # create a cursor\n",
    "        cur = conn.cursor()\n",
    "        \n",
    "    # execute a statement\n",
    "        print('PostgreSQL database version:')\n",
    "        cur.execute('SELECT version()')\n",
    "\n",
    "        # display the PostgreSQL database server version\n",
    "        db_version = cur.fetchone()\n",
    "        print(db_version)\n",
    "        \n",
    "        #postgreSQL_select_Query = '''SELECT * FROM postgres.public.\"modelData\" md'''\n",
    "        \n",
    "        # Open and read the file as a single buffer\n",
    "        sql_path = os.path.join(\"sql\", \"model_data.sql\")\n",
    "        with open(sql_path) as query_string:\n",
    "            postgreSQL_select_Query = query_string.read()\n",
    "       \n",
    "        cur.execute(postgreSQL_select_Query)\n",
    "        print(\"Selecting rows from mobile table using cursor.fetchall\")\n",
    "        patient_records = cur.fetchall()\n",
    "\n",
    "        print(\"Print each row and it's columns values\")\n",
    "        print(\"****\", len(patient_records))\n",
    "        \n",
    "        feature_path = os.path.join('src', 'features.txt')\n",
    "        with open(feature_path, 'r') as fp:\n",
    "            model_features=pd.read_csv(fp, sep = \",\", names=[\"columns\"], header=None)\n",
    "            patient_df = pd.DataFrame(columns = model_features['columns'])\n",
    "        i = 0   \n",
    "        for col in patient_records:\n",
    "            print(col[5])\n",
    "            print(i)\n",
    "\n",
    "            patient_df.loc[i][\"patientId\"] = col[0]\n",
    "            patient_df.loc[i][\"gender\"] = col[1]\n",
    "            patient_df.loc[i][\"dateOfBirth\"] = col[2]\n",
    "            patient_df.loc[i][\"postalCode\"] = col[3]\n",
    "            patient_df.loc[i][\"race\"] = col[4]\n",
    "            patient_df.loc[i][\"date\"] = col[5]\n",
    "            i = i+1\n",
    "            print(i)\n",
    "\n",
    "            \"\"\"print(\"col = \", col)\n",
    "            print(\"patientId = \", col[0])\n",
    "            print(\"gender = \", col[1])\n",
    "            print(\"dateOfBirth = \", col[2])\n",
    "            print(\"postalCode = \", col[3])\n",
    "            print(\"race = \", col[4])\n",
    "            print(\"date = \", col[5], \"\\n\")\n",
    "            print(patient_records)\"\"\"\n",
    "            return patient_df\n",
    "\n",
    "    # close the communication with the PostgreSQL\n",
    "        cur.close()\n",
    "    except (Exception, psycopg2.DatabaseError) as error:\n",
    "        print(error)\n",
    "    finally:\n",
    "        if conn is not None:\n",
    "            conn.close()\n",
    "            print('Database connection closed.')\n",
    "\n",
    "\n",
    "if __name__ == '__main__':\n",
    "    patient_df = connect_postgre()"
   ]
  },
  {
   "cell_type": "code",
   "execution_count": null,
   "id": "c301c2d7-7cf9-4dc3-a454-14c927618dbe",
   "metadata": {},
   "outputs": [],
   "source": [
    "patient_df.head()"
   ]
  },
  {
   "cell_type": "code",
   "execution_count": null,
   "id": "d3cf6eca-6ff3-418c-831e-ea344789d06a",
   "metadata": {
    "pycharm": {
     "name": "#%%\n"
    }
   },
   "outputs": [],
   "source": [
    "pip install flask"
   ]
  },
  {
   "cell_type": "code",
   "execution_count": null,
   "id": "28ff6929",
   "metadata": {
    "collapsed": false,
    "jupyter": {
     "outputs_hidden": false
    },
    "pycharm": {
     "name": "#%%\n"
    }
   },
   "outputs": [],
   "source": [
    "print(os.getcwd())"
   ]
  },
  {
   "cell_type": "code",
   "execution_count": null,
   "id": "94bb3c0c",
   "metadata": {
    "collapsed": false,
    "jupyter": {
     "outputs_hidden": false
    },
    "pycharm": {
     "name": "#%%\n"
    }
   },
   "outputs": [],
   "source": [
    "def create_connection(db_file):\n",
    "    \"\"\" create a database connection to the SQLite database\n",
    "        specified by the db_file\n",
    "    :param db_file: database file\n",
    "    :return: Connection object or None\n",
    "    \"\"\"\n",
    "    conn = None\n",
    "    try:\n",
    "        conn = sql.connect(\"dataset/opioid_df.db\")\n",
    "    except Error as e:\n",
    "        print(e)\n",
    "\n",
    "    return conn"
   ]
  },
  {
   "cell_type": "code",
   "execution_count": null,
   "id": "88ad43a4",
   "metadata": {
    "collapsed": false,
    "jupyter": {
     "outputs_hidden": false
    },
    "pycharm": {
     "name": "#%%\n"
    }
   },
   "outputs": [],
   "source": [
    "def select_all_tasks(conn):\n",
    "    \"\"\"\n",
    "    Query all rows in the tasks table\n",
    "    :param conn: the Connection object\n",
    "    :return:\n",
    "    \"\"\"\n",
    "    cur = conn.cursor()\n",
    "    cur.execute(\"SELECT * FROM oud_df\")\n",
    "\n",
    "    rows = cur.fetchall()\n",
    "\n",
    "    for row in rows:\n",
    "        print(row)"
   ]
  },
  {
   "cell_type": "code",
   "execution_count": null,
   "id": "028ae8c5",
   "metadata": {
    "collapsed": false,
    "jupyter": {
     "outputs_hidden": false
    },
    "pycharm": {
     "name": "#%%\n"
    }
   },
   "outputs": [],
   "source": [
    "def main():\n",
    "    database = os.getcwd() + r\"/dataset/oud_df.db\"\n",
    "    print(database)\n",
    "\n",
    "    # create a database connection\n",
    "    conn = create_connection(database)\n",
    "    print(conn)\n",
    "    with conn:\n",
    "        print(\"2. Query all tasks\")\n",
    "        select_all_tasks(conn)"
   ]
  },
  {
   "cell_type": "code",
   "execution_count": null,
   "id": "940f45b2",
   "metadata": {
    "collapsed": false,
    "jupyter": {
     "outputs_hidden": false
    },
    "pycharm": {
     "name": "#%%\n"
    }
   },
   "outputs": [],
   "source": [
    "if __name__ == '__main__':\n",
    "    main()"
   ]
  },
  {
   "cell_type": "code",
   "execution_count": null,
   "id": "b2e914ae-d1e9-4587-94b0-1d4be12bc73c",
   "metadata": {
    "pycharm": {
     "name": "#%%\n"
    }
   },
   "outputs": [],
   "source": [
    "#conn = sql.connect(os.getcwd()+\"/dataset/opioid_df.db\")\n",
    "con_deneme = sql.connect(\"dataset/opioid_df.db\")"
   ]
  },
  {
   "cell_type": "code",
   "execution_count": null,
   "id": "f13abd1c-c1ca-4375-a3dc-a8c410970b42",
   "metadata": {
    "pycharm": {
     "name": "#%%\n"
    },
    "tags": []
   },
   "outputs": [],
   "source": [
    "#data = pd.read_sql(\"SELECT * FROM opioid_df\", conn).drop(columns=\"index\")\n",
    "data = pd.read_sql(\"SELECT * FROM opioid_df\", con_deneme).drop(columns=\"index\")\n"
   ]
  },
  {
   "cell_type": "code",
   "execution_count": null,
   "id": "3f8cbcfb",
   "metadata": {
    "collapsed": false,
    "jupyter": {
     "outputs_hidden": false
    },
    "pycharm": {
     "name": "#%%\n"
    }
   },
   "outputs": [],
   "source": []
  },
  {
   "cell_type": "code",
   "execution_count": null,
   "id": "069ff817-ba65-4c66-953b-10f014b12238",
   "metadata": {
    "pycharm": {
     "name": "#%%\n"
    }
   },
   "outputs": [],
   "source": [
    "data.head()"
   ]
  },
  {
   "cell_type": "raw",
   "id": "3699661f-f607-49fe-9341-3ad0faa978a8",
   "metadata": {
    "pycharm": {
     "name": "#%% raw\n"
    }
   },
   "source": [
    "conn2 = sql.connect(os.getcwd()+\"/dataset/Unique_Churn_Results.db\")\n",
    "unique_data = pd.read_sql(\"SELECT * FROM Unique_Churn_Results\", conn2).drop(columns=\"index\")\n"
   ]
  },
  {
   "cell_type": "code",
   "execution_count": null,
   "id": "1cca8c9b-b70f-467c-af6b-9d9b6e2290bb",
   "metadata": {
    "pycharm": {
     "name": "#%%\n"
    },
    "tags": []
   },
   "outputs": [],
   "source": [
    "unique_data = pd.read_csv(\"dataset/Unique_Churn_Results.csv\")\n",
    "unique_data.head()"
   ]
  },
  {
   "cell_type": "code",
   "execution_count": null,
   "id": "e856f0a1-dfdb-4d2e-bbc5-fcf8fc14a65d",
   "metadata": {
    "pycharm": {
     "name": "#%%\n"
    }
   },
   "outputs": [],
   "source": [
    "print(os.getcwd())"
   ]
  },
  {
   "cell_type": "code",
   "execution_count": null,
   "id": "96cd2fb7",
   "metadata": {
    "collapsed": false,
    "jupyter": {
     "outputs_hidden": false
    },
    "pycharm": {
     "name": "#%%\n"
    }
   },
   "outputs": [],
   "source": [
    "test_df = pd.read_csv(\"dataset/opioid_dataset.csv\")\n",
    "test_df.head()"
   ]
  },
  {
   "cell_type": "code",
   "execution_count": null,
   "id": "7dfbc3bf",
   "metadata": {
    "collapsed": false,
    "jupyter": {
     "outputs_hidden": false
    },
    "pycharm": {
     "name": "#%%\n"
    }
   },
   "outputs": [],
   "source": []
  },
  {
   "cell_type": "markdown",
   "id": "2ab1f01f-aa42-4ea2-a1f1-f4416d2abecb",
   "metadata": {},
   "source": [
    "## PostgreSQL COnnection"
   ]
  },
  {
   "cell_type": "code",
   "execution_count": null,
   "id": "b3c99d28-2fa9-46b0-ba50-a1e4b8a8544e",
   "metadata": {},
   "outputs": [],
   "source": [
    "pip install psycopg2"
   ]
  },
  {
   "cell_type": "code",
   "execution_count": null,
   "id": "93361777-0e17-42f3-bbc1-d63d7a46010a",
   "metadata": {},
   "outputs": [],
   "source": []
  },
  {
   "cell_type": "code",
   "execution_count": null,
   "id": "a9336cb3-ed80-4420-a008-351fcce2f6e3",
   "metadata": {},
   "outputs": [],
   "source": []
  }
 ],
 "metadata": {
  "kernelspec": {
   "display_name": "Python 3 (ipykernel)",
   "language": "python",
   "name": "python3"
  },
  "language_info": {
   "codemirror_mode": {
    "name": "ipython",
    "version": 3
   },
   "file_extension": ".py",
   "mimetype": "text/x-python",
   "name": "python",
   "nbconvert_exporter": "python",
   "pygments_lexer": "ipython3",
   "version": "3.10.6"
  }
 },
 "nbformat": 4,
 "nbformat_minor": 5
}
