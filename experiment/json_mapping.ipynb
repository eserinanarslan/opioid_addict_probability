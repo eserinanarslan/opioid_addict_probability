{
 "cells": [
  {
   "cell_type": "code",
   "execution_count": 92,
   "id": "e6e3a71b-542a-4b85-a62f-5ed913580005",
   "metadata": {
    "pycharm": {
     "name": "#%%\n"
    }
   },
   "outputs": [],
   "source": [
    "import pandas as pd\n",
    "import numpy as np\n",
    "from datetime import date, datetime\n"
   ]
  },
  {
   "cell_type": "code",
   "execution_count": 93,
   "id": "dddf2ec9-c9e0-4d2d-8e3b-73335f044c6f",
   "metadata": {
    "pycharm": {
     "name": "#%%\n"
    }
   },
   "outputs": [
    {
     "data": {
      "text/html": [
       "<div>\n",
       "<style scoped>\n",
       "    .dataframe tbody tr th:only-of-type {\n",
       "        vertical-align: middle;\n",
       "    }\n",
       "\n",
       "    .dataframe tbody tr th {\n",
       "        vertical-align: top;\n",
       "    }\n",
       "\n",
       "    .dataframe thead th {\n",
       "        text-align: right;\n",
       "    }\n",
       "</style>\n",
       "<table border=\"1\" class=\"dataframe\">\n",
       "  <thead>\n",
       "    <tr style=\"text-align: right;\">\n",
       "      <th></th>\n",
       "      <th>patient</th>\n",
       "      <th>aiDataset</th>\n",
       "    </tr>\n",
       "  </thead>\n",
       "  <tbody>\n",
       "    <tr>\n",
       "      <th>id</th>\n",
       "      <td>d80538f5-203a-4a1e-9b41-2919e174f19b</td>\n",
       "      <td>NaN</td>\n",
       "    </tr>\n",
       "    <tr>\n",
       "      <th>gender</th>\n",
       "      <td>female</td>\n",
       "      <td>NaN</td>\n",
       "    </tr>\n",
       "    <tr>\n",
       "      <th>dateOfBirth</th>\n",
       "      <td>1970-12-26</td>\n",
       "      <td>NaN</td>\n",
       "    </tr>\n",
       "    <tr>\n",
       "      <th>address</th>\n",
       "      <td>{'postalCode': '02215'}</td>\n",
       "      <td>NaN</td>\n",
       "    </tr>\n",
       "    <tr>\n",
       "      <th>race</th>\n",
       "      <td>white</td>\n",
       "      <td>NaN</td>\n",
       "    </tr>\n",
       "  </tbody>\n",
       "</table>\n",
       "</div>"
      ],
      "text/plain": [
       "                                          patient aiDataset\n",
       "id           d80538f5-203a-4a1e-9b41-2919e174f19b       NaN\n",
       "gender                                     female       NaN\n",
       "dateOfBirth                            1970-12-26       NaN\n",
       "address                   {'postalCode': '02215'}       NaN\n",
       "race                                        white       NaN"
      ]
     },
     "execution_count": 93,
     "metadata": {},
     "output_type": "execute_result"
    }
   ],
   "source": [
    "patient_df = pd.read_json('dataset/prediction_cases/case_1.json', orient='columns')\n",
    "\n",
    "patient_df.head()"
   ]
  },
  {
   "cell_type": "code",
   "execution_count": 94,
   "id": "cb8fecb6-7b04-4392-a589-ee45a1e82c7d",
   "metadata": {
    "pycharm": {
     "name": "#%%\n"
    }
   },
   "outputs": [],
   "source": [
    "patient_df['id'] = patient_df['patient']['id']\n",
    "patient_df['gender'] = patient_df['patient']['gender']\n",
    "patient_df['dateOfBirth'] = patient_df['patient']['dateOfBirth']\n",
    "patient_df['race'] = patient_df['patient']['race']\n",
    "for value, key in patient_df['patient']['address'].items():\n",
    "    patient_df[value] = key"
   ]
  },
  {
   "cell_type": "code",
   "execution_count": 95,
   "id": "5f33321a-07a9-4b47-a453-85ba45bcb404",
   "metadata": {
    "pycharm": {
     "name": "#%%\n"
    }
   },
   "outputs": [
    {
     "data": {
      "text/html": [
       "<div>\n",
       "<style scoped>\n",
       "    .dataframe tbody tr th:only-of-type {\n",
       "        vertical-align: middle;\n",
       "    }\n",
       "\n",
       "    .dataframe tbody tr th {\n",
       "        vertical-align: top;\n",
       "    }\n",
       "\n",
       "    .dataframe thead th {\n",
       "        text-align: right;\n",
       "    }\n",
       "</style>\n",
       "<table border=\"1\" class=\"dataframe\">\n",
       "  <thead>\n",
       "    <tr style=\"text-align: right;\">\n",
       "      <th></th>\n",
       "      <th>patient</th>\n",
       "      <th>aiDataset</th>\n",
       "      <th>id</th>\n",
       "      <th>gender</th>\n",
       "      <th>dateOfBirth</th>\n",
       "      <th>race</th>\n",
       "      <th>postalCode</th>\n",
       "    </tr>\n",
       "  </thead>\n",
       "  <tbody>\n",
       "    <tr>\n",
       "      <th>id</th>\n",
       "      <td>d80538f5-203a-4a1e-9b41-2919e174f19b</td>\n",
       "      <td>NaN</td>\n",
       "      <td>d80538f5-203a-4a1e-9b41-2919e174f19b</td>\n",
       "      <td>female</td>\n",
       "      <td>1970-12-26</td>\n",
       "      <td>white</td>\n",
       "      <td>02215</td>\n",
       "    </tr>\n",
       "    <tr>\n",
       "      <th>gender</th>\n",
       "      <td>female</td>\n",
       "      <td>NaN</td>\n",
       "      <td>d80538f5-203a-4a1e-9b41-2919e174f19b</td>\n",
       "      <td>female</td>\n",
       "      <td>1970-12-26</td>\n",
       "      <td>white</td>\n",
       "      <td>02215</td>\n",
       "    </tr>\n",
       "    <tr>\n",
       "      <th>dateOfBirth</th>\n",
       "      <td>1970-12-26</td>\n",
       "      <td>NaN</td>\n",
       "      <td>d80538f5-203a-4a1e-9b41-2919e174f19b</td>\n",
       "      <td>female</td>\n",
       "      <td>1970-12-26</td>\n",
       "      <td>white</td>\n",
       "      <td>02215</td>\n",
       "    </tr>\n",
       "    <tr>\n",
       "      <th>address</th>\n",
       "      <td>{'postalCode': '02215'}</td>\n",
       "      <td>NaN</td>\n",
       "      <td>d80538f5-203a-4a1e-9b41-2919e174f19b</td>\n",
       "      <td>female</td>\n",
       "      <td>1970-12-26</td>\n",
       "      <td>white</td>\n",
       "      <td>02215</td>\n",
       "    </tr>\n",
       "    <tr>\n",
       "      <th>race</th>\n",
       "      <td>white</td>\n",
       "      <td>NaN</td>\n",
       "      <td>d80538f5-203a-4a1e-9b41-2919e174f19b</td>\n",
       "      <td>female</td>\n",
       "      <td>1970-12-26</td>\n",
       "      <td>white</td>\n",
       "      <td>02215</td>\n",
       "    </tr>\n",
       "  </tbody>\n",
       "</table>\n",
       "</div>"
      ],
      "text/plain": [
       "                                          patient aiDataset  \\\n",
       "id           d80538f5-203a-4a1e-9b41-2919e174f19b       NaN   \n",
       "gender                                     female       NaN   \n",
       "dateOfBirth                            1970-12-26       NaN   \n",
       "address                   {'postalCode': '02215'}       NaN   \n",
       "race                                        white       NaN   \n",
       "\n",
       "                                               id  gender dateOfBirth   race  \\\n",
       "id           d80538f5-203a-4a1e-9b41-2919e174f19b  female  1970-12-26  white   \n",
       "gender       d80538f5-203a-4a1e-9b41-2919e174f19b  female  1970-12-26  white   \n",
       "dateOfBirth  d80538f5-203a-4a1e-9b41-2919e174f19b  female  1970-12-26  white   \n",
       "address      d80538f5-203a-4a1e-9b41-2919e174f19b  female  1970-12-26  white   \n",
       "race         d80538f5-203a-4a1e-9b41-2919e174f19b  female  1970-12-26  white   \n",
       "\n",
       "            postalCode  \n",
       "id               02215  \n",
       "gender           02215  \n",
       "dateOfBirth      02215  \n",
       "address          02215  \n",
       "race             02215  "
      ]
     },
     "execution_count": 95,
     "metadata": {},
     "output_type": "execute_result"
    }
   ],
   "source": [
    "patient_df.head()"
   ]
  },
  {
   "cell_type": "code",
   "execution_count": 96,
   "id": "1d6e8822-c82b-4856-aaf4-7225224e3ea1",
   "metadata": {
    "pycharm": {
     "name": "#%%\n"
    }
   },
   "outputs": [],
   "source": [
    "for value_aa, key_aa in patient_df['aiDataset']['data'][0].items():\n",
    "    if (value_aa == \"date\"):\n",
    "        patient_df[value_aa] = key_aa\n",
    "    else:\n",
    "        for val, key in patient_df['aiDataset']['data'][0]['socialScore'].items():\n",
    "            if(val not in ('lastThreeMonths','lastSixMonths','lastTwelveMonths')):\n",
    "                patient_df[val] = key"
   ]
  },
  {
   "cell_type": "code",
   "execution_count": 97,
   "id": "7e4687f5-ab5a-461e-afc6-24de13df12fa",
   "metadata": {
    "pycharm": {
     "name": "#%%\n"
    }
   },
   "outputs": [
    {
     "data": {
      "text/html": [
       "<div>\n",
       "<style scoped>\n",
       "    .dataframe tbody tr th:only-of-type {\n",
       "        vertical-align: middle;\n",
       "    }\n",
       "\n",
       "    .dataframe tbody tr th {\n",
       "        vertical-align: top;\n",
       "    }\n",
       "\n",
       "    .dataframe thead th {\n",
       "        text-align: right;\n",
       "    }\n",
       "</style>\n",
       "<table border=\"1\" class=\"dataframe\">\n",
       "  <thead>\n",
       "    <tr style=\"text-align: right;\">\n",
       "      <th></th>\n",
       "      <th>patient</th>\n",
       "      <th>aiDataset</th>\n",
       "      <th>id</th>\n",
       "      <th>gender</th>\n",
       "      <th>dateOfBirth</th>\n",
       "      <th>race</th>\n",
       "      <th>postalCode</th>\n",
       "      <th>date</th>\n",
       "      <th>bmi</th>\n",
       "      <th>height</th>\n",
       "      <th>weight</th>\n",
       "      <th>socioEconomic</th>\n",
       "      <th>alcohol</th>\n",
       "      <th>drugUse</th>\n",
       "      <th>smokingStatus</th>\n",
       "      <th>anxiety</th>\n",
       "      <th>depression</th>\n",
       "    </tr>\n",
       "  </thead>\n",
       "  <tbody>\n",
       "    <tr>\n",
       "      <th>id</th>\n",
       "      <td>d80538f5-203a-4a1e-9b41-2919e174f19b</td>\n",
       "      <td>NaN</td>\n",
       "      <td>d80538f5-203a-4a1e-9b41-2919e174f19b</td>\n",
       "      <td>female</td>\n",
       "      <td>1970-12-26</td>\n",
       "      <td>white</td>\n",
       "      <td>02215</td>\n",
       "      <td>2022-01-01</td>\n",
       "      <td>25.5</td>\n",
       "      <td>120.0</td>\n",
       "      <td>145.0</td>\n",
       "      <td>upper-middle</td>\n",
       "      <td>former</td>\n",
       "      <td>frequent</td>\n",
       "      <td>current</td>\n",
       "      <td>False</td>\n",
       "      <td>True</td>\n",
       "    </tr>\n",
       "    <tr>\n",
       "      <th>gender</th>\n",
       "      <td>female</td>\n",
       "      <td>NaN</td>\n",
       "      <td>d80538f5-203a-4a1e-9b41-2919e174f19b</td>\n",
       "      <td>female</td>\n",
       "      <td>1970-12-26</td>\n",
       "      <td>white</td>\n",
       "      <td>02215</td>\n",
       "      <td>2022-01-01</td>\n",
       "      <td>25.5</td>\n",
       "      <td>120.0</td>\n",
       "      <td>145.0</td>\n",
       "      <td>upper-middle</td>\n",
       "      <td>former</td>\n",
       "      <td>frequent</td>\n",
       "      <td>current</td>\n",
       "      <td>False</td>\n",
       "      <td>True</td>\n",
       "    </tr>\n",
       "    <tr>\n",
       "      <th>dateOfBirth</th>\n",
       "      <td>1970-12-26</td>\n",
       "      <td>NaN</td>\n",
       "      <td>d80538f5-203a-4a1e-9b41-2919e174f19b</td>\n",
       "      <td>female</td>\n",
       "      <td>1970-12-26</td>\n",
       "      <td>white</td>\n",
       "      <td>02215</td>\n",
       "      <td>2022-01-01</td>\n",
       "      <td>25.5</td>\n",
       "      <td>120.0</td>\n",
       "      <td>145.0</td>\n",
       "      <td>upper-middle</td>\n",
       "      <td>former</td>\n",
       "      <td>frequent</td>\n",
       "      <td>current</td>\n",
       "      <td>False</td>\n",
       "      <td>True</td>\n",
       "    </tr>\n",
       "    <tr>\n",
       "      <th>address</th>\n",
       "      <td>{'postalCode': '02215'}</td>\n",
       "      <td>NaN</td>\n",
       "      <td>d80538f5-203a-4a1e-9b41-2919e174f19b</td>\n",
       "      <td>female</td>\n",
       "      <td>1970-12-26</td>\n",
       "      <td>white</td>\n",
       "      <td>02215</td>\n",
       "      <td>2022-01-01</td>\n",
       "      <td>25.5</td>\n",
       "      <td>120.0</td>\n",
       "      <td>145.0</td>\n",
       "      <td>upper-middle</td>\n",
       "      <td>former</td>\n",
       "      <td>frequent</td>\n",
       "      <td>current</td>\n",
       "      <td>False</td>\n",
       "      <td>True</td>\n",
       "    </tr>\n",
       "    <tr>\n",
       "      <th>race</th>\n",
       "      <td>white</td>\n",
       "      <td>NaN</td>\n",
       "      <td>d80538f5-203a-4a1e-9b41-2919e174f19b</td>\n",
       "      <td>female</td>\n",
       "      <td>1970-12-26</td>\n",
       "      <td>white</td>\n",
       "      <td>02215</td>\n",
       "      <td>2022-01-01</td>\n",
       "      <td>25.5</td>\n",
       "      <td>120.0</td>\n",
       "      <td>145.0</td>\n",
       "      <td>upper-middle</td>\n",
       "      <td>former</td>\n",
       "      <td>frequent</td>\n",
       "      <td>current</td>\n",
       "      <td>False</td>\n",
       "      <td>True</td>\n",
       "    </tr>\n",
       "  </tbody>\n",
       "</table>\n",
       "</div>"
      ],
      "text/plain": [
       "                                          patient aiDataset  \\\n",
       "id           d80538f5-203a-4a1e-9b41-2919e174f19b       NaN   \n",
       "gender                                     female       NaN   \n",
       "dateOfBirth                            1970-12-26       NaN   \n",
       "address                   {'postalCode': '02215'}       NaN   \n",
       "race                                        white       NaN   \n",
       "\n",
       "                                               id  gender dateOfBirth   race  \\\n",
       "id           d80538f5-203a-4a1e-9b41-2919e174f19b  female  1970-12-26  white   \n",
       "gender       d80538f5-203a-4a1e-9b41-2919e174f19b  female  1970-12-26  white   \n",
       "dateOfBirth  d80538f5-203a-4a1e-9b41-2919e174f19b  female  1970-12-26  white   \n",
       "address      d80538f5-203a-4a1e-9b41-2919e174f19b  female  1970-12-26  white   \n",
       "race         d80538f5-203a-4a1e-9b41-2919e174f19b  female  1970-12-26  white   \n",
       "\n",
       "            postalCode        date   bmi  height  weight socioEconomic  \\\n",
       "id               02215  2022-01-01  25.5   120.0   145.0  upper-middle   \n",
       "gender           02215  2022-01-01  25.5   120.0   145.0  upper-middle   \n",
       "dateOfBirth      02215  2022-01-01  25.5   120.0   145.0  upper-middle   \n",
       "address          02215  2022-01-01  25.5   120.0   145.0  upper-middle   \n",
       "race             02215  2022-01-01  25.5   120.0   145.0  upper-middle   \n",
       "\n",
       "            alcohol   drugUse smokingStatus  anxiety  depression  \n",
       "id           former  frequent       current    False        True  \n",
       "gender       former  frequent       current    False        True  \n",
       "dateOfBirth  former  frequent       current    False        True  \n",
       "address      former  frequent       current    False        True  \n",
       "race         former  frequent       current    False        True  "
      ]
     },
     "execution_count": 97,
     "metadata": {},
     "output_type": "execute_result"
    }
   ],
   "source": [
    "patient_df.head()"
   ]
  },
  {
   "cell_type": "code",
   "execution_count": 98,
   "id": "35cbf301-7f32-457f-bffc-cbf80f828100",
   "metadata": {
    "pycharm": {
     "name": "#%%\n"
    }
   },
   "outputs": [],
   "source": [
    "for month in ('lastThreeMonths','lastSixMonths','lastTwelveMonths'):\n",
    "    for aa, bb in patient_df['aiDataset']['data'][0]['socialScore'][month][0].items():\n",
    "        aa = month + \"_\"+ aa\n",
    "        patient_df[aa] = bb"
   ]
  },
  {
   "cell_type": "code",
   "execution_count": 99,
   "id": "4f6a29ff-92b8-4438-a72e-ab9256349295",
   "metadata": {
    "pycharm": {
     "name": "#%%\n"
    }
   },
   "outputs": [
    {
     "data": {
      "text/plain": [
       "Index(['patient', 'aiDataset', 'id', 'gender', 'dateOfBirth', 'race',\n",
       "       'postalCode', 'date', 'bmi', 'height', 'weight', 'socioEconomic',\n",
       "       'alcohol', 'drugUse', 'smokingStatus', 'anxiety', 'depression',\n",
       "       'lastThreeMonths_labTestType', 'lastThreeMonths_labTestResult',\n",
       "       'lastThreeMonths_department', 'lastThreeMonths_medicationNameCode',\n",
       "       'lastThreeMonths_medicationReason', 'lastSixMonths_labTestType',\n",
       "       'lastSixMonths_labTestResult', 'lastSixMonths_department',\n",
       "       'lastSixMonths_medicationNameCode', 'lastSixMonths_medicationReason',\n",
       "       'lastTwelveMonths_labTestType', 'lastTwelveMonths_labTestResult',\n",
       "       'lastTwelveMonths_department', 'lastTwelveMonths_medicationNameCode',\n",
       "       'lastTwelveMonths_medicationReason'],\n",
       "      dtype='object')"
      ]
     },
     "execution_count": 99,
     "metadata": {},
     "output_type": "execute_result"
    }
   ],
   "source": [
    "patient_df.columns"
   ]
  },
  {
   "cell_type": "code",
   "execution_count": 100,
   "id": "deee0840-52a9-4ff9-aa89-30fe36f8299b",
   "metadata": {
    "pycharm": {
     "name": "#%%\n"
    }
   },
   "outputs": [
    {
     "data": {
      "text/plain": [
       "(6, 32)"
      ]
     },
     "execution_count": 100,
     "metadata": {},
     "output_type": "execute_result"
    }
   ],
   "source": [
    "patient_df.shape"
   ]
  },
  {
   "cell_type": "code",
   "execution_count": 101,
   "id": "f3eace93-2ff9-479d-8dbd-330298063726",
   "metadata": {
    "pycharm": {
     "name": "#%%\n"
    }
   },
   "outputs": [
    {
     "data": {
      "text/plain": [
       "(1, 30)"
      ]
     },
     "execution_count": 101,
     "metadata": {},
     "output_type": "execute_result"
    }
   ],
   "source": [
    "patient_df = patient_df.reset_index(drop=True)\n",
    "patient_df = patient_df.drop(columns=['patient', 'aiDataset'])\n",
    "patient_df = patient_df.drop_duplicates()\n",
    "patient_df.shape"
   ]
  },
  {
   "cell_type": "code",
   "execution_count": 102,
   "id": "5a62660d-0df3-406d-9c70-a3e607b2d706",
   "metadata": {
    "pycharm": {
     "name": "#%%\n"
    }
   },
   "outputs": [
    {
     "data": {
      "text/html": [
       "<div>\n",
       "<style scoped>\n",
       "    .dataframe tbody tr th:only-of-type {\n",
       "        vertical-align: middle;\n",
       "    }\n",
       "\n",
       "    .dataframe tbody tr th {\n",
       "        vertical-align: top;\n",
       "    }\n",
       "\n",
       "    .dataframe thead th {\n",
       "        text-align: right;\n",
       "    }\n",
       "</style>\n",
       "<table border=\"1\" class=\"dataframe\">\n",
       "  <thead>\n",
       "    <tr style=\"text-align: right;\">\n",
       "      <th></th>\n",
       "      <th>id</th>\n",
       "      <th>gender</th>\n",
       "      <th>dateOfBirth</th>\n",
       "      <th>race</th>\n",
       "      <th>postalCode</th>\n",
       "      <th>date</th>\n",
       "      <th>bmi</th>\n",
       "      <th>height</th>\n",
       "      <th>weight</th>\n",
       "      <th>socioEconomic</th>\n",
       "      <th>...</th>\n",
       "      <th>lastSixMonths_labTestType</th>\n",
       "      <th>lastSixMonths_labTestResult</th>\n",
       "      <th>lastSixMonths_department</th>\n",
       "      <th>lastSixMonths_medicationNameCode</th>\n",
       "      <th>lastSixMonths_medicationReason</th>\n",
       "      <th>lastTwelveMonths_labTestType</th>\n",
       "      <th>lastTwelveMonths_labTestResult</th>\n",
       "      <th>lastTwelveMonths_department</th>\n",
       "      <th>lastTwelveMonths_medicationNameCode</th>\n",
       "      <th>lastTwelveMonths_medicationReason</th>\n",
       "    </tr>\n",
       "  </thead>\n",
       "  <tbody>\n",
       "    <tr>\n",
       "      <th>0</th>\n",
       "      <td>d80538f5-203a-4a1e-9b41-2919e174f19b</td>\n",
       "      <td>female</td>\n",
       "      <td>1970-12-26</td>\n",
       "      <td>white</td>\n",
       "      <td>02215</td>\n",
       "      <td>2022-01-01</td>\n",
       "      <td>25.5</td>\n",
       "      <td>120.0</td>\n",
       "      <td>145.0</td>\n",
       "      <td>upper-middle</td>\n",
       "      <td>...</td>\n",
       "      <td>1</td>\n",
       "      <td>80</td>\n",
       "      <td>B</td>\n",
       "      <td>furomid</td>\n",
       "      <td>diuretic</td>\n",
       "      <td>1</td>\n",
       "      <td>150</td>\n",
       "      <td>C</td>\n",
       "      <td>lizik</td>\n",
       "      <td>diuretic</td>\n",
       "    </tr>\n",
       "  </tbody>\n",
       "</table>\n",
       "<p>1 rows × 30 columns</p>\n",
       "</div>"
      ],
      "text/plain": [
       "                                     id  gender dateOfBirth   race postalCode  \\\n",
       "0  d80538f5-203a-4a1e-9b41-2919e174f19b  female  1970-12-26  white      02215   \n",
       "\n",
       "         date   bmi  height  weight socioEconomic  ...  \\\n",
       "0  2022-01-01  25.5   120.0   145.0  upper-middle  ...   \n",
       "\n",
       "  lastSixMonths_labTestType lastSixMonths_labTestResult  \\\n",
       "0                         1                          80   \n",
       "\n",
       "  lastSixMonths_department  lastSixMonths_medicationNameCode  \\\n",
       "0                        B                           furomid   \n",
       "\n",
       "   lastSixMonths_medicationReason  lastTwelveMonths_labTestType  \\\n",
       "0                        diuretic                             1   \n",
       "\n",
       "   lastTwelveMonths_labTestResult lastTwelveMonths_department  \\\n",
       "0                             150                           C   \n",
       "\n",
       "  lastTwelveMonths_medicationNameCode lastTwelveMonths_medicationReason  \n",
       "0                               lizik                          diuretic  \n",
       "\n",
       "[1 rows x 30 columns]"
      ]
     },
     "execution_count": 102,
     "metadata": {},
     "output_type": "execute_result"
    }
   ],
   "source": [
    "patient_df.head()"
   ]
  },
  {
   "cell_type": "code",
   "execution_count": 103,
   "id": "f59144bf-cb12-4ff6-b6b2-c9ff7ae372c6",
   "metadata": {
    "pycharm": {
     "name": "#%%\n"
    }
   },
   "outputs": [
    {
     "data": {
      "text/plain": [
       "Index(['id', 'gender', 'dateOfBirth', 'race', 'postalCode', 'date', 'bmi',\n",
       "       'height', 'weight', 'socioEconomic', 'alcohol', 'drugUse',\n",
       "       'smokingStatus', 'anxiety', 'depression', 'lastThreeMonths_labTestType',\n",
       "       'lastThreeMonths_labTestResult', 'lastThreeMonths_department',\n",
       "       'lastThreeMonths_medicationNameCode',\n",
       "       'lastThreeMonths_medicationReason', 'lastSixMonths_labTestType',\n",
       "       'lastSixMonths_labTestResult', 'lastSixMonths_department',\n",
       "       'lastSixMonths_medicationNameCode', 'lastSixMonths_medicationReason',\n",
       "       'lastTwelveMonths_labTestType', 'lastTwelveMonths_labTestResult',\n",
       "       'lastTwelveMonths_department', 'lastTwelveMonths_medicationNameCode',\n",
       "       'lastTwelveMonths_medicationReason'],\n",
       "      dtype='object')"
      ]
     },
     "execution_count": 103,
     "metadata": {},
     "output_type": "execute_result"
    }
   ],
   "source": [
    "patient_df.columns"
   ]
  },
  {
   "cell_type": "code",
   "execution_count": 104,
   "id": "1f74f772-1341-4088-86b3-ab763e855fb5",
   "metadata": {
    "tags": [],
    "pycharm": {
     "name": "#%%\n"
    }
   },
   "outputs": [
    {
     "data": {
      "text/plain": [
       "id                                      object\n",
       "gender                                  object\n",
       "dateOfBirth                             object\n",
       "race                                    object\n",
       "postalCode                              object\n",
       "date                                    object\n",
       "bmi                                    float64\n",
       "height                                 float64\n",
       "weight                                 float64\n",
       "socioEconomic                           object\n",
       "alcohol                                 object\n",
       "drugUse                                 object\n",
       "smokingStatus                           object\n",
       "anxiety                                   bool\n",
       "depression                                bool\n",
       "lastThreeMonths_labTestType              int64\n",
       "lastThreeMonths_labTestResult            int64\n",
       "lastThreeMonths_department              object\n",
       "lastThreeMonths_medicationNameCode      object\n",
       "lastThreeMonths_medicationReason        object\n",
       "lastSixMonths_labTestType                int64\n",
       "lastSixMonths_labTestResult              int64\n",
       "lastSixMonths_department                object\n",
       "lastSixMonths_medicationNameCode        object\n",
       "lastSixMonths_medicationReason          object\n",
       "lastTwelveMonths_labTestType             int64\n",
       "lastTwelveMonths_labTestResult           int64\n",
       "lastTwelveMonths_department             object\n",
       "lastTwelveMonths_medicationNameCode     object\n",
       "lastTwelveMonths_medicationReason       object\n",
       "dtype: object"
      ]
     },
     "execution_count": 104,
     "metadata": {},
     "output_type": "execute_result"
    }
   ],
   "source": [
    "patient_df.dtypes"
   ]
  },
  {
   "cell_type": "code",
   "execution_count": 105,
   "id": "28fb6431-d60a-4c52-8ffd-8e5f3f1684a9",
   "metadata": {
    "pycharm": {
     "name": "#%%\n"
    }
   },
   "outputs": [],
   "source": [
    "patient_df['dateOfBirth'] = pd.to_datetime(patient_df['dateOfBirth'], yearfirst = True)#, format='%d%b%Y:%H:%M:%S.%f')"
   ]
  },
  {
   "cell_type": "code",
   "execution_count": 106,
   "id": "56a3471e-1716-4c85-a2de-b7ca86a7e69f",
   "metadata": {
    "pycharm": {
     "name": "#%%\n"
    }
   },
   "outputs": [],
   "source": [
    "def age(birthdate):\n",
    "    dates = pd.DatetimeIndex(patient_df.dateOfBirth)\n",
    "    today = date.today()\n",
    "    age = today.year - dates.year\n",
    "    return age[0]"
   ]
  },
  {
   "cell_type": "code",
   "execution_count": 107,
   "id": "d511acd4-6d43-4911-a79a-61df381fb5db",
   "metadata": {
    "pycharm": {
     "name": "#%%\n"
    }
   },
   "outputs": [
    {
     "name": "stdout",
     "output_type": "stream",
     "text": [
      "53\n"
     ]
    }
   ],
   "source": [
    "print(age(patient_df['dateOfBirth']))"
   ]
  },
  {
   "cell_type": "code",
   "execution_count": 108,
   "id": "4c1ba188-078a-41f1-a540-ce3afd07b9b4",
   "metadata": {
    "pycharm": {
     "name": "#%%\n"
    }
   },
   "outputs": [],
   "source": [
    "patient_df['age'] = age(patient_df['dateOfBirth'])"
   ]
  },
  {
   "cell_type": "code",
   "execution_count": 109,
   "id": "2f74be86-5e88-400b-9deb-755a11036640",
   "metadata": {
    "pycharm": {
     "name": "#%%\n"
    }
   },
   "outputs": [
    {
     "data": {
      "text/html": [
       "<div>\n",
       "<style scoped>\n",
       "    .dataframe tbody tr th:only-of-type {\n",
       "        vertical-align: middle;\n",
       "    }\n",
       "\n",
       "    .dataframe tbody tr th {\n",
       "        vertical-align: top;\n",
       "    }\n",
       "\n",
       "    .dataframe thead th {\n",
       "        text-align: right;\n",
       "    }\n",
       "</style>\n",
       "<table border=\"1\" class=\"dataframe\">\n",
       "  <thead>\n",
       "    <tr style=\"text-align: right;\">\n",
       "      <th></th>\n",
       "      <th>id</th>\n",
       "      <th>gender</th>\n",
       "      <th>dateOfBirth</th>\n",
       "      <th>race</th>\n",
       "      <th>postalCode</th>\n",
       "      <th>date</th>\n",
       "      <th>bmi</th>\n",
       "      <th>height</th>\n",
       "      <th>weight</th>\n",
       "      <th>socioEconomic</th>\n",
       "      <th>...</th>\n",
       "      <th>lastSixMonths_labTestResult</th>\n",
       "      <th>lastSixMonths_department</th>\n",
       "      <th>lastSixMonths_medicationNameCode</th>\n",
       "      <th>lastSixMonths_medicationReason</th>\n",
       "      <th>lastTwelveMonths_labTestType</th>\n",
       "      <th>lastTwelveMonths_labTestResult</th>\n",
       "      <th>lastTwelveMonths_department</th>\n",
       "      <th>lastTwelveMonths_medicationNameCode</th>\n",
       "      <th>lastTwelveMonths_medicationReason</th>\n",
       "      <th>age</th>\n",
       "    </tr>\n",
       "  </thead>\n",
       "  <tbody>\n",
       "    <tr>\n",
       "      <th>0</th>\n",
       "      <td>d80538f5-203a-4a1e-9b41-2919e174f19b</td>\n",
       "      <td>female</td>\n",
       "      <td>1970-12-26</td>\n",
       "      <td>white</td>\n",
       "      <td>02215</td>\n",
       "      <td>2022-01-01</td>\n",
       "      <td>25.5</td>\n",
       "      <td>120.0</td>\n",
       "      <td>145.0</td>\n",
       "      <td>upper-middle</td>\n",
       "      <td>...</td>\n",
       "      <td>80</td>\n",
       "      <td>B</td>\n",
       "      <td>furomid</td>\n",
       "      <td>diuretic</td>\n",
       "      <td>1</td>\n",
       "      <td>150</td>\n",
       "      <td>C</td>\n",
       "      <td>lizik</td>\n",
       "      <td>diuretic</td>\n",
       "      <td>53</td>\n",
       "    </tr>\n",
       "  </tbody>\n",
       "</table>\n",
       "<p>1 rows × 31 columns</p>\n",
       "</div>"
      ],
      "text/plain": [
       "                                     id  gender dateOfBirth   race postalCode  \\\n",
       "0  d80538f5-203a-4a1e-9b41-2919e174f19b  female  1970-12-26  white      02215   \n",
       "\n",
       "         date   bmi  height  weight socioEconomic  ...  \\\n",
       "0  2022-01-01  25.5   120.0   145.0  upper-middle  ...   \n",
       "\n",
       "  lastSixMonths_labTestResult lastSixMonths_department  \\\n",
       "0                          80                        B   \n",
       "\n",
       "  lastSixMonths_medicationNameCode  lastSixMonths_medicationReason  \\\n",
       "0                          furomid                        diuretic   \n",
       "\n",
       "   lastTwelveMonths_labTestType  lastTwelveMonths_labTestResult  \\\n",
       "0                             1                             150   \n",
       "\n",
       "   lastTwelveMonths_department lastTwelveMonths_medicationNameCode  \\\n",
       "0                            C                               lizik   \n",
       "\n",
       "  lastTwelveMonths_medicationReason age  \n",
       "0                          diuretic  53  \n",
       "\n",
       "[1 rows x 31 columns]"
      ]
     },
     "execution_count": 109,
     "metadata": {},
     "output_type": "execute_result"
    }
   ],
   "source": [
    "patient_df.head()"
   ]
  },
  {
   "cell_type": "code",
   "execution_count": 149,
   "id": "adcf966f-68b4-4031-8e56-716786d7954c",
   "metadata": {
    "pycharm": {
     "name": "#%%\n"
    }
   },
   "outputs": [],
   "source": [
    "def calc_oud_score(patient_df):\n",
    "       \n",
    "    def calc_age_weight(age):\n",
    "        #print(\"içerdeyim _ age\")\n",
    "        if (age > 65):\n",
    "            age_weight = 1\n",
    "        elif (age <= 65 and age > 44):\n",
    "            age_weight = 3\n",
    "        elif (age <= 44):\n",
    "            age_weight = 5\n",
    "        else:\n",
    "            age_weight = 0\n",
    "\n",
    "        #print(\"age_weight : \", age_weight)\n",
    "        \n",
    "        return age_weight\n",
    "    \n",
    "    def calc_gender_weight(gender):\n",
    "        #print(\"içerdeyim _ gender\")\n",
    "\n",
    "        if (gender == 'female'):\n",
    "            gender_weight = 1\n",
    "        elif (gender == 'male'):\n",
    "            gender_weight = 3\n",
    "        else:\n",
    "            gender_weight = 5\n",
    "        \n",
    "        #print(\"gender_weight : \", gender_weight)\n",
    "        \n",
    "        return gender_weight\n",
    " \n",
    "    def calc_race_weight(race):\n",
    "        #print(\"içerdeyim _ race\")\n",
    "\n",
    "        if (race == 'white'):\n",
    "            race_weight = 1\n",
    "        elif (race == 'other'):\n",
    "            race_weight = 3\n",
    "        elif (race == 'black'):\n",
    "            race_weight = 5\n",
    "        else:\n",
    "            race_weight = 5\n",
    "        \n",
    "        #print(\"race_weight : \", race_weight)\n",
    "\n",
    "        return race_weight\n",
    "\n",
    "    def calc_bmi_weight(bmi):\n",
    "        #print(\"içerdeyim _ bmi\")\n",
    "\n",
    "        if (bmi < 24.9):\n",
    "            bmi_weight = 1\n",
    "        elif (age >= 25 and age < 30):\n",
    "            bmi_weight = 3\n",
    "        elif (age >= 30 and age < 35):\n",
    "            bmi_weight = 5\n",
    "        else:\n",
    "            bmi_weight = 10\n",
    "            \n",
    "        #print(\"bmi_weight : \", bmi_weight)\n",
    "\n",
    "        return bmi_weight\n",
    "\n",
    "    def calc_timezone_weight(timezone):\n",
    "        #print(\"içerdeyim _ timezone\")\n",
    "\n",
    "        if (timezone == 'West/North-East'):\n",
    "            timezone_weight = 1\n",
    "        elif (timezone == 'Mid-West'):\n",
    "            timezone_weight = 3\n",
    "        elif (timezone == 'South'):\n",
    "            timezone_weight = 5\n",
    "        else:\n",
    "            timezone_weight = 10\n",
    "            \n",
    "        #print(\"timezone_weight : \", timezone_weight)\n",
    "\n",
    "        return timezone_weight\n",
    "    \n",
    "    def calc_socioeconomic_weight(socioEconomic):\n",
    "        #print(\"içerdeyim _ socioEconomic\")\n",
    "\n",
    "        if (socioEconomic == 'None'):\n",
    "            socioeconomic_weight = 0\n",
    "        elif (socioEconomic == 'Upper'):\n",
    "            socioeconomic_weight = 1\n",
    "        elif (socioEconomic == 'Middle'):\n",
    "            socioeconomic_weight = 3\n",
    "        elif (socioEconomic == 'Lower'):\n",
    "            socioeconomic_weight = 5\n",
    "        else:\n",
    "            socioeconomic_weight = 5\n",
    "            \n",
    "        #print(\"socioeconomic_weight : \", socioeconomic_weight)\n",
    "\n",
    "        return socioeconomic_weight\n",
    "    \n",
    "    def calc_alcohol_weight(alcohol):\n",
    "        #print(\"içerdeyim _ alcohol\")\n",
    "\n",
    "        if (alcohol == 'None'):\n",
    "            alcohol_weight = 0\n",
    "        elif (alcohol == 'Former'):\n",
    "            alcohol_weight = 3\n",
    "        elif (alcohol == 'Current'):\n",
    "            alcohol_weight = 5\n",
    "        elif (alcohol == 'Frequent'):\n",
    "            alcohol_weight = 10\n",
    "        else:\n",
    "            alcohol_weight = 10\n",
    "            \n",
    "        #print(\"alcohol_weight : \", alcohol_weight)\n",
    "\n",
    "        return alcohol_weight\n",
    "\n",
    "    def calc_drup_use_weight(drugUse):\n",
    "        #print(\"içerdeyim _ drugUse\")\n",
    "\n",
    "        if (drugUse == 'None'):\n",
    "            drup_use_weight = 0\n",
    "        elif (drugUse == 'Former'):\n",
    "            drup_use_weight = 3\n",
    "        elif (drugUse == 'Current'):\n",
    "            drup_use_weight = 5\n",
    "        elif (drugUse == 'Frequent'):\n",
    "            drup_use_weight = 10\n",
    "        else:\n",
    "            drup_use_weight = 10\n",
    "\n",
    "        #print(\"drup_use_weight : \", drup_use_weight)\n",
    "\n",
    "        return drup_use_weight\n",
    "\n",
    "    def calc_smoking_status_weight(smokingStatus):\n",
    "        #print(\"içerdeyim _ smokingStatus\")\n",
    "\n",
    "        if (smokingStatus == 'None'):\n",
    "            smoking_status_weight = 0\n",
    "        elif (smokingStatus == 'Former'):\n",
    "            smoking_status_weight = 3\n",
    "        elif (smokingStatus == 'Current'):\n",
    "            smoking_status_weight = 5\n",
    "        else:\n",
    "            smoking_status_weight = 10\n",
    "            \n",
    "        #print(\"smoking_status_weight : \", smoking_status_weight)\n",
    "\n",
    "        return smoking_status_weight\n",
    "    \n",
    "    def type_constant(feature):\n",
    "        if (feature == 'age'):\n",
    "            feature_cons = 1\n",
    "        elif (feature == 'gender'):\n",
    "            feature_cons = 2\n",
    "        elif (feature == 'race'):\n",
    "            feature_cons = 1\n",
    "        elif (feature == 'bmi'):\n",
    "            feature_cons = 2\n",
    "        elif (feature == 'timezone'):\n",
    "            feature_cons = 1\n",
    "        elif (feature == 'socioEconomic'):\n",
    "            feature_cons = 1\n",
    "        elif (feature == 'alcohol'):\n",
    "            feature_cons = 1\n",
    "        elif (feature == 'drugUse'):\n",
    "            feature_cons = 2\n",
    "        elif (feature == 'smokingStatus'):\n",
    "            feature_cons = 2\n",
    "        else:\n",
    "            feature_cons = 0\n",
    "            \n",
    "        #print(\"feature_cons : \", feature_cons)\n",
    "\n",
    "        return feature_cons\n",
    "\n",
    "    def oud_risk_score_calculator(age, gender, race, bmi, timezone, socioEconomic, alcohol, drugUse, smokingStatus):\n",
    "        age_score = calc_age_weight(age) * type_constant('age')\n",
    "        gender_score = calc_gender_weight(gender) * type_constant('gender')\n",
    "        race_score = calc_race_weight(race) * type_constant('race')\n",
    "        bmi_score = calc_bmi_weight(bmi) * type_constant('bmi')\n",
    "        timezone_score = calc_timezone_weight(timezone) * type_constant('timezone')\n",
    "        socioEconomic_score = calc_socioeconomic_weight(socioEconomic) * type_constant('socioEconomic')\n",
    "        alcohol_score = calc_alcohol_weight(alcohol) * type_constant('alcohol')\n",
    "        drugUse_score = calc_drup_use_weight(drugUse) * type_constant('drugUse')\n",
    "        smokingStatus_score = calc_smoking_status_weight(smokingStatus) * type_constant('smokingStatus')\n",
    "\n",
    "        calculator_score = age_score + gender_score + race_score + bmi_score + timezone_score + socioEconomic_score + alcohol_score + drugUse_score + smokingStatus_score\n",
    "        return calculator_score\n",
    "    \n",
    "    def scale_cal_score(score):\n",
    "\n",
    "        score =  ((100 * (score - 7)) / 98) / 100\n",
    "        #score = score.apply(lambda x: '{:.5f}'.format(x))\n",
    "        return round(score, 5)\n",
    "    \n",
    "    age = patient_df.iloc[0].age\n",
    "    #print(age)\n",
    "    \n",
    "    gender = patient_df.iloc[0].gender\n",
    "    #print(gender)\n",
    "\n",
    "    race = patient_df.iloc[0].race\n",
    "    #print(race)\n",
    "    \n",
    "    bmi = patient_df.iloc[0].bmi\n",
    "    #print(bmi)\n",
    "    \n",
    "    timezone = 'other'\n",
    "    \n",
    "    socioEconomic = patient_df.iloc[0].socioEconomic\n",
    "    #print(socioEconomic)\n",
    "    \n",
    "    alcohol = patient_df.iloc[0].alcohol\n",
    "    #print(alcohol)\n",
    "    \n",
    "    drugUse = patient_df.iloc[0].drugUse\n",
    "    #print(drugUse)\n",
    "    \n",
    "    smokingStatus = patient_df.iloc[0].smokingStatus\n",
    "    #print(smokingStatus)\n",
    "        \n",
    "    score =  oud_risk_score_calculator(age, gender, race, bmi, timezone, socioEconomic, alcohol, drugUse, smokingStatus)\n",
    "    \n",
    "    scaled_score = scale_cal_score(score)\n",
    "    \n",
    "    return scaled_score\n"
   ]
  },
  {
   "cell_type": "code",
   "execution_count": 150,
   "id": "ac4560a1-b673-4c81-804c-68742981e118",
   "metadata": {
    "pycharm": {
     "name": "#%%\n"
    }
   },
   "outputs": [
    {
     "data": {
      "text/plain": [
       "0.85714"
      ]
     },
     "execution_count": 150,
     "metadata": {},
     "output_type": "execute_result"
    }
   ],
   "source": [
    "calc_oud_score(patient_df)"
   ]
  },
  {
   "cell_type": "code",
   "execution_count": null,
   "id": "c2bed9d5-68ec-450e-af09-e897750eaafd",
   "metadata": {
    "pycharm": {
     "name": "#%%\n"
    }
   },
   "outputs": [],
   "source": []
  }
 ],
 "metadata": {
  "kernelspec": {
   "display_name": "Python 3 (ipykernel)",
   "language": "python",
   "name": "python3"
  },
  "language_info": {
   "codemirror_mode": {
    "name": "ipython",
    "version": 3
   },
   "file_extension": ".py",
   "mimetype": "text/x-python",
   "name": "python",
   "nbconvert_exporter": "python",
   "pygments_lexer": "ipython3",
   "version": "3.10.6"
  }
 },
 "nbformat": 4,
 "nbformat_minor": 5
}