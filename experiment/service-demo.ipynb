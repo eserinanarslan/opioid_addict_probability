{
 "cells": [
  {
   "cell_type": "code",
   "execution_count": null,
   "outputs": [],
   "source": [
    "...\n",
    "@app.get('/programming_languages')\n",
    "def list_programming_languages():\n",
    "   before_year = request.args.get('before_year') or '30000'\n",
    "   after_year = request.args.get('after_year') or '0'\n",
    "   qualifying_data = list(\n",
    "       filter(\n",
    "           lambda pl: int(before_year) > pl['publication_year'] > int(after_year),\n",
    "           in_memory_datastore.values()\n",
    "       )\n",
    "   )\n",
    "\n",
    "   return {\"programming_languages\": qualifying_data}"
   ],
   "metadata": {
    "collapsed": false,
    "pycharm": {
     "name": "#%%\n"
    }
   }
  },
  {
   "cell_type": "code",
   "execution_count": null,
   "id": "30b0922d-1a83-411d-b8ff-e422345d0adb",
   "metadata": {
    "pycharm": {
     "name": "#%%\n"
    }
   },
   "outputs": [],
   "source": [
    "data_opioid.columns"
   ]
  },
  {
   "cell_type": "code",
   "execution_count": null,
   "id": "3e1da677-a518-4140-b9ff-8f1070c05224",
   "metadata": {
    "pycharm": {
     "name": "#%%\n"
    }
   },
   "outputs": [],
   "source": [
    "unique_data.columns"
   ]
  },
  {
   "cell_type": "code",
   "execution_count": null,
   "id": "cf5fdc5b-e329-4f70-a213-221e6862b19b",
   "metadata": {
    "pycharm": {
     "name": "#%%\n"
    }
   },
   "outputs": [],
   "source": [
    "data_opioid = data_opioid.rename({'OUD_Score': 'Opioid_Score', 'PatientId': 'patient_id'}, axis=1)\n",
    "unique_data = unique_data.rename({'OUD_Score': 'Opioid_Score', 'PatientId': 'patient_id'}, axis=1)"
   ]
  },
  {
   "cell_type": "code",
   "execution_count": null,
   "id": "40985999-f723-4f2f-80e5-39bd965edf5a",
   "metadata": {
    "pycharm": {
     "name": "#%%\n"
    }
   },
   "outputs": [],
   "source": [
    "data_opioid.fillna(\"NA\", inplace=True)\n",
    "unique_data.fillna(\"NA\", inplace=True)"
   ]
  },
  {
   "cell_type": "code",
   "execution_count": null,
   "id": "08126509-1ef0-46c6-a247-b8f250756ce7",
   "metadata": {
    "pycharm": {
     "name": "#%%\n"
    }
   },
   "outputs": [],
   "source": [
    "def column_format(data):\n",
    "    data['Opioid_Risk'] = 'Medium'\n",
    "    data['Random_Forest_Probability'] = data['Random_Forest_Probability'].apply(lambda x: '{:.5f}'.format(x))\n",
    "    data['Calibrated_Random_Forest_Probability'] = data['Calibrated_Random_Forest_Probability'].apply(\n",
    "        lambda x: '{:.5f}'.format(x))\n",
    "    data['Naive_Bias_Probability'] = data['Naive_Bias_Probability'].apply(lambda x: '{:.5f}'.format(x))\n",
    "    data['Isotonic_Calibrated_Naive_Bias_Probability'] = data['Isotonic_Calibrated_Naive_Bias_Probability'].apply(\n",
    "        lambda x: '{:.5f}'.format(x))\n",
    "    data['Sigmoid_Calibrated_Naive_Bias_Probability'] = data['Sigmoid_Calibrated_Naive_Bias_Probability'].apply(\n",
    "        lambda x: '{:.5f}'.format(x))\n",
    "    data['Opioid_Score'] = data['Opioid_Score'].apply(lambda x: '{:.5f}'.format(x))\n",
    "\n",
    "    data.loc[data['Opioid_Score'].astype(float) > 0.7, 'Opioid_Risk'] = 'High'\n",
    "    data.loc[data['Opioid_Score'].astype(float) < 0.5, 'Opioid_Risk'] = 'Low'\n",
    "    data = data.reindex(columns=['patient_id', 'Opioid_Risk', 'Opioid_Score',\n",
    "                                 'Calibrated_Random_Forest_Probability', 'Isotonic_Calibrated_Naive_Bias_Probability',\n",
    "                                 'Naive_Bias_Probability',\n",
    "                                 'Random_Forest_Probability', 'Sigmoid_Calibrated_Naive_Bias_Probability'])\n",
    "\n",
    "    return data"
   ]
  },
  {
   "cell_type": "code",
   "execution_count": null,
   "id": "08f456d3-f339-457f-8155-063322caabce",
   "metadata": {
    "pycharm": {
     "name": "#%%\n"
    }
   },
   "outputs": [],
   "source": [
    "data_opioid = column_format(data_opioid)\n",
    "unique_data_opioid = column_format(unique_data)\n"
   ]
  },
  {
   "cell_type": "code",
   "execution_count": null,
   "id": "0a374c62-66a2-4960-bc32-688e0c667963",
   "metadata": {
    "pycharm": {
     "name": "#%%\n"
    }
   },
   "outputs": [],
   "source": [
    "data_opioid.shape, unique_data_opioid.shape"
   ]
  },
  {
   "cell_type": "code",
   "execution_count": null,
   "id": "057b27bb-7392-4897-a3e1-92fff713b137",
   "metadata": {
    "pycharm": {
     "name": "#%%\n"
    }
   },
   "outputs": [],
   "source": [
    "data_opioid.patient_id.unique()"
   ]
  },
  {
   "cell_type": "code",
   "execution_count": null,
   "id": "29d25614-eb2e-43cc-88fb-8c96960ee78e",
   "metadata": {
    "pycharm": {
     "name": "#%%\n"
    }
   },
   "outputs": [],
   "source": [
    "df = data_opioid.to_json(orient=\"records\")\n",
    "df = json.loads(df)"
   ]
  },
  {
   "cell_type": "code",
   "execution_count": null,
   "id": "98d2f022-b0ed-4410-87b0-8051b1be61cb",
   "metadata": {
    "pycharm": {
     "name": "#%%\n"
    }
   },
   "outputs": [],
   "source": [
    "df_unique = unique_data_opioid.to_json(orient=\"records\")\n",
    "df_unique = json.loads(df_unique)"
   ]
  },
  {
   "cell_type": "code",
   "execution_count": null,
   "id": "ff55e7cc-761a-4492-8a49-00f20865ad20",
   "metadata": {
    "pycharm": {
     "name": "#%%\n"
    }
   },
   "outputs": [],
   "source": [
    "len(df_unique), len(df)"
   ]
  },
  {
   "cell_type": "code",
   "execution_count": null,
   "id": "cc96cdde-aed8-4d2a-b0cc-0341e647a23a",
   "metadata": {
    "pycharm": {
     "name": "#%%\n"
    }
   },
   "outputs": [],
   "source": [
    "results = []\n",
    "# Loop through the data and match results that fit the requested ID.\n",
    "\n",
    "for id_ in range(len(df)):\n",
    "    if df[id_]['patient_id'] == '4AB43785-5286-48A3-AD42-00815ED93337':\n",
    "        results.append(df[id_])\n",
    "\n",
    "# Use the jsonify function from Flask to convert our list of\n",
    "# Python dictionaries to the JSON format.\n",
    "if len(results) < 1:\n",
    "    return \"PatientId is not found\", 404\n",
    "else:\n",
    "    return jsonify(results)"
   ]
  },
  {
   "cell_type": "code",
   "execution_count": null,
   "id": "fc7d032d-2311-4da9-a2d3-d21cad313626",
   "metadata": {
    "pycharm": {
     "name": "#%%\n"
    }
   },
   "outputs": [],
   "source": [
    "df_unique['patient_id' == '4AB43785-5286-48A3-AD42-00815ED93337']"
   ]
  },
  {
   "cell_type": "code",
   "execution_count": null,
   "id": "3d9a25d8-c0cc-4edd-a305-9b92dc677103",
   "metadata": {
    "pycharm": {
     "name": "#%%\n"
    }
   },
   "outputs": [],
   "source": [
    "df['patient_id' == '4AB43785-5286-48A3-AD42-00815ED93337']"
   ]
  },
  {
   "cell_type": "code",
   "execution_count": null,
   "id": "47960e91-e09c-4459-8552-512e1fa3542e",
   "metadata": {
    "pycharm": {
     "name": "#%%\n"
    }
   },
   "outputs": [],
   "source": []
  }
 ],
 "metadata": {
  "kernelspec": {
   "display_name": "Python 3 (ipykernel)",
   "language": "python",
   "name": "python3"
  },
  "language_info": {
   "codemirror_mode": {
    "name": "ipython",
    "version": 3
   },
   "file_extension": ".py",
   "mimetype": "text/x-python",
   "name": "python",
   "nbconvert_exporter": "python",
   "pygments_lexer": "ipython3",
   "version": "3.10.6"
  }
 },
 "nbformat": 4,
 "nbformat_minor": 5
}