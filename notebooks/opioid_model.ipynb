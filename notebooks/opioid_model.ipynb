{
 "cells": [
  {
   "cell_type": "code",
   "execution_count": 1,
   "id": "6ea94f27",
   "metadata": {
    "collapsed": false,
    "jupyter": {
     "outputs_hidden": false
    },
    "pycharm": {
     "name": "#%%\n"
    }
   },
   "outputs": [
    {
     "name": "stdout",
     "output_type": "stream",
     "text": [
      "Requirement already satisfied: scikit-learn in /Users/eserinanarslan/churn_probability/venv/lib/python3.9/site-packages (1.1.3)\n",
      "Requirement already satisfied: scipy in /Users/eserinanarslan/churn_probability/venv/lib/python3.9/site-packages (1.9.3)\n",
      "Requirement already satisfied: matplotlib in /Users/eserinanarslan/churn_probability/venv/lib/python3.9/site-packages (3.6.2)\n",
      "Requirement already satisfied: threadpoolctl>=2.0.0 in /Users/eserinanarslan/churn_probability/venv/lib/python3.9/site-packages (from scikit-learn) (3.1.0)\n",
      "Requirement already satisfied: numpy>=1.17.3 in /Users/eserinanarslan/churn_probability/venv/lib/python3.9/site-packages (from scikit-learn) (1.23.3)\n",
      "Requirement already satisfied: joblib>=1.0.0 in /Users/eserinanarslan/churn_probability/venv/lib/python3.9/site-packages (from scikit-learn) (1.2.0)\n",
      "Requirement already satisfied: fonttools>=4.22.0 in /Users/eserinanarslan/churn_probability/venv/lib/python3.9/site-packages (from matplotlib) (4.38.0)\n",
      "Requirement already satisfied: cycler>=0.10 in /Users/eserinanarslan/churn_probability/venv/lib/python3.9/site-packages (from matplotlib) (0.11.0)\n",
      "Requirement already satisfied: kiwisolver>=1.0.1 in /Users/eserinanarslan/churn_probability/venv/lib/python3.9/site-packages (from matplotlib) (1.4.4)\n",
      "Requirement already satisfied: python-dateutil>=2.7 in /Users/eserinanarslan/churn_probability/venv/lib/python3.9/site-packages (from matplotlib) (2.8.2)\n",
      "Requirement already satisfied: pyparsing>=2.2.1 in /Users/eserinanarslan/churn_probability/venv/lib/python3.9/site-packages (from matplotlib) (3.0.9)\n",
      "Requirement already satisfied: contourpy>=1.0.1 in /Users/eserinanarslan/churn_probability/venv/lib/python3.9/site-packages (from matplotlib) (1.0.6)\n",
      "Requirement already satisfied: packaging>=20.0 in /Users/eserinanarslan/churn_probability/venv/lib/python3.9/site-packages (from matplotlib) (21.3)\n",
      "Requirement already satisfied: pillow>=6.2.0 in /Users/eserinanarslan/churn_probability/venv/lib/python3.9/site-packages (from matplotlib) (9.3.0)\n",
      "Requirement already satisfied: six>=1.5 in /Users/eserinanarslan/churn_probability/venv/lib/python3.9/site-packages (from python-dateutil>=2.7->matplotlib) (1.16.0)\n",
      "\u001B[33mWARNING: You are using pip version 21.3.1; however, version 22.3.1 is available.\n",
      "You should consider upgrading via the '/Users/eserinanarslan/churn_probability/venv/bin/python -m pip install --upgrade pip' command.\u001B[0m\n"
     ]
    }
   ],
   "source": [
    "!pip install -U scikit-learn scipy matplotlib\n"
   ]
  },
  {
   "cell_type": "code",
   "execution_count": 2,
   "id": "865cc8f6",
   "metadata": {
    "collapsed": false,
    "jupyter": {
     "outputs_hidden": false
    },
    "pycharm": {
     "name": "#%%\n"
    }
   },
   "outputs": [
    {
     "name": "stdout",
     "output_type": "stream",
     "text": [
      "Requirement already satisfied: imblearn in /Users/eserinanarslan/churn_probability/venv/lib/python3.9/site-packages (0.0)\n",
      "Requirement already satisfied: imbalanced-learn in /Users/eserinanarslan/churn_probability/venv/lib/python3.9/site-packages (from imblearn) (0.9.1)\n",
      "Requirement already satisfied: scipy>=1.3.2 in /Users/eserinanarslan/churn_probability/venv/lib/python3.9/site-packages (from imbalanced-learn->imblearn) (1.9.3)\n",
      "Requirement already satisfied: scikit-learn>=1.1.0 in /Users/eserinanarslan/churn_probability/venv/lib/python3.9/site-packages (from imbalanced-learn->imblearn) (1.1.3)\n",
      "Requirement already satisfied: joblib>=1.0.0 in /Users/eserinanarslan/churn_probability/venv/lib/python3.9/site-packages (from imbalanced-learn->imblearn) (1.2.0)\n",
      "Requirement already satisfied: threadpoolctl>=2.0.0 in /Users/eserinanarslan/churn_probability/venv/lib/python3.9/site-packages (from imbalanced-learn->imblearn) (3.1.0)\n",
      "Requirement already satisfied: numpy>=1.17.3 in /Users/eserinanarslan/churn_probability/venv/lib/python3.9/site-packages (from imbalanced-learn->imblearn) (1.23.3)\n",
      "\u001B[33mWARNING: You are using pip version 21.3.1; however, version 22.3.1 is available.\n",
      "You should consider upgrading via the '/Users/eserinanarslan/churn_probability/venv/bin/Python -m pip install --upgrade pip' command.\u001B[0m\n",
      "Note: you may need to restart the kernel to use updated packages.\n"
     ]
    }
   ],
   "source": [
    "pip install imblearn"
   ]
  },
  {
   "cell_type": "code",
   "execution_count": 3,
   "id": "9225ba44",
   "metadata": {
    "collapsed": false,
    "jupyter": {
     "outputs_hidden": false
    },
    "pycharm": {
     "name": "#%%\n"
    }
   },
   "outputs": [
    {
     "name": "stdout",
     "output_type": "stream",
     "text": [
      "Requirement already satisfied: seaborn in /Users/eserinanarslan/churn_probability/venv/lib/python3.9/site-packages (0.12.1)\n",
      "Requirement already satisfied: pandas>=0.25 in /Users/eserinanarslan/churn_probability/venv/lib/python3.9/site-packages (from seaborn) (1.4.4)\n",
      "Requirement already satisfied: matplotlib!=3.6.1,>=3.1 in /Users/eserinanarslan/churn_probability/venv/lib/python3.9/site-packages (from seaborn) (3.6.2)\n",
      "Requirement already satisfied: numpy>=1.17 in /Users/eserinanarslan/churn_probability/venv/lib/python3.9/site-packages (from seaborn) (1.23.3)\n",
      "Requirement already satisfied: pyparsing>=2.2.1 in /Users/eserinanarslan/churn_probability/venv/lib/python3.9/site-packages (from matplotlib!=3.6.1,>=3.1->seaborn) (3.0.9)\n",
      "Requirement already satisfied: contourpy>=1.0.1 in /Users/eserinanarslan/churn_probability/venv/lib/python3.9/site-packages (from matplotlib!=3.6.1,>=3.1->seaborn) (1.0.6)\n",
      "Requirement already satisfied: fonttools>=4.22.0 in /Users/eserinanarslan/churn_probability/venv/lib/python3.9/site-packages (from matplotlib!=3.6.1,>=3.1->seaborn) (4.38.0)\n",
      "Requirement already satisfied: python-dateutil>=2.7 in /Users/eserinanarslan/churn_probability/venv/lib/python3.9/site-packages (from matplotlib!=3.6.1,>=3.1->seaborn) (2.8.2)\n",
      "Requirement already satisfied: kiwisolver>=1.0.1 in /Users/eserinanarslan/churn_probability/venv/lib/python3.9/site-packages (from matplotlib!=3.6.1,>=3.1->seaborn) (1.4.4)\n",
      "Requirement already satisfied: cycler>=0.10 in /Users/eserinanarslan/churn_probability/venv/lib/python3.9/site-packages (from matplotlib!=3.6.1,>=3.1->seaborn) (0.11.0)\n",
      "Requirement already satisfied: pillow>=6.2.0 in /Users/eserinanarslan/churn_probability/venv/lib/python3.9/site-packages (from matplotlib!=3.6.1,>=3.1->seaborn) (9.3.0)\n",
      "Requirement already satisfied: packaging>=20.0 in /Users/eserinanarslan/churn_probability/venv/lib/python3.9/site-packages (from matplotlib!=3.6.1,>=3.1->seaborn) (21.3)\n",
      "Requirement already satisfied: pytz>=2020.1 in /Users/eserinanarslan/churn_probability/venv/lib/python3.9/site-packages (from pandas>=0.25->seaborn) (2022.2.1)\n",
      "Requirement already satisfied: six>=1.5 in /Users/eserinanarslan/churn_probability/venv/lib/python3.9/site-packages (from python-dateutil>=2.7->matplotlib!=3.6.1,>=3.1->seaborn) (1.16.0)\n",
      "\u001B[33mWARNING: You are using pip version 21.3.1; however, version 22.3.1 is available.\n",
      "You should consider upgrading via the '/Users/eserinanarslan/churn_probability/venv/bin/Python -m pip install --upgrade pip' command.\u001B[0m\n",
      "Note: you may need to restart the kernel to use updated packages.\n"
     ]
    }
   ],
   "source": [
    "pip install --upgrade seaborn"
   ]
  },
  {
   "cell_type": "code",
   "execution_count": 4,
   "id": "07e7cc8c",
   "metadata": {
    "collapsed": false,
    "jupyter": {
     "outputs_hidden": false
    },
    "pycharm": {
     "name": "#%%\n"
    }
   },
   "outputs": [
    {
     "name": "stdout",
     "output_type": "stream",
     "text": [
      "Requirement already satisfied: seaborn in /Users/eserinanarslan/churn_probability/venv/lib/python3.9/site-packages (0.12.1)\n",
      "Requirement already satisfied: pandas>=0.25 in /Users/eserinanarslan/churn_probability/venv/lib/python3.9/site-packages (from seaborn) (1.4.4)\n",
      "Requirement already satisfied: numpy>=1.17 in /Users/eserinanarslan/churn_probability/venv/lib/python3.9/site-packages (from seaborn) (1.23.3)\n",
      "Requirement already satisfied: matplotlib!=3.6.1,>=3.1 in /Users/eserinanarslan/churn_probability/venv/lib/python3.9/site-packages (from seaborn) (3.6.2)\n",
      "Requirement already satisfied: packaging>=20.0 in /Users/eserinanarslan/churn_probability/venv/lib/python3.9/site-packages (from matplotlib!=3.6.1,>=3.1->seaborn) (21.3)\n",
      "Requirement already satisfied: fonttools>=4.22.0 in /Users/eserinanarslan/churn_probability/venv/lib/python3.9/site-packages (from matplotlib!=3.6.1,>=3.1->seaborn) (4.38.0)\n",
      "Requirement already satisfied: pyparsing>=2.2.1 in /Users/eserinanarslan/churn_probability/venv/lib/python3.9/site-packages (from matplotlib!=3.6.1,>=3.1->seaborn) (3.0.9)\n",
      "Requirement already satisfied: kiwisolver>=1.0.1 in /Users/eserinanarslan/churn_probability/venv/lib/python3.9/site-packages (from matplotlib!=3.6.1,>=3.1->seaborn) (1.4.4)\n",
      "Requirement already satisfied: python-dateutil>=2.7 in /Users/eserinanarslan/churn_probability/venv/lib/python3.9/site-packages (from matplotlib!=3.6.1,>=3.1->seaborn) (2.8.2)\n",
      "Requirement already satisfied: pillow>=6.2.0 in /Users/eserinanarslan/churn_probability/venv/lib/python3.9/site-packages (from matplotlib!=3.6.1,>=3.1->seaborn) (9.3.0)\n",
      "Requirement already satisfied: cycler>=0.10 in /Users/eserinanarslan/churn_probability/venv/lib/python3.9/site-packages (from matplotlib!=3.6.1,>=3.1->seaborn) (0.11.0)\n",
      "Requirement already satisfied: contourpy>=1.0.1 in /Users/eserinanarslan/churn_probability/venv/lib/python3.9/site-packages (from matplotlib!=3.6.1,>=3.1->seaborn) (1.0.6)\n",
      "Requirement already satisfied: pytz>=2020.1 in /Users/eserinanarslan/churn_probability/venv/lib/python3.9/site-packages (from pandas>=0.25->seaborn) (2022.2.1)\n",
      "Requirement already satisfied: six>=1.5 in /Users/eserinanarslan/churn_probability/venv/lib/python3.9/site-packages (from python-dateutil>=2.7->matplotlib!=3.6.1,>=3.1->seaborn) (1.16.0)\n",
      "\u001B[33mWARNING: You are using pip version 21.3.1; however, version 22.3.1 is available.\n",
      "You should consider upgrading via the '/Users/eserinanarslan/churn_probability/venv/bin/Python -m pip install --upgrade pip' command.\u001B[0m\n",
      "Note: you may need to restart the kernel to use updated packages.\n"
     ]
    }
   ],
   "source": [
    "pip install seaborn"
   ]
  },
  {
   "cell_type": "code",
   "execution_count": 5,
   "id": "a66a9f42",
   "metadata": {
    "collapsed": false,
    "jupyter": {
     "outputs_hidden": false
    },
    "pycharm": {
     "name": "#%%\n"
    }
   },
   "outputs": [],
   "source": [
    "import pandas as pd\n",
    "import numpy as np\n",
    "import matplotlib.pyplot as plt\n",
    "\n",
    "import seaborn as sns\n",
    "import random\n",
    "\n",
    "import time\n",
    "from datetime import datetime\n",
    "import sqlite3 as sql\n",
    "\n",
    "%matplotlib inline\n",
    "\n",
    "import datetime as dt"
   ]
  },
  {
   "cell_type": "code",
   "execution_count": 6,
   "id": "b170637b",
   "metadata": {
    "collapsed": false,
    "jupyter": {
     "outputs_hidden": false
    },
    "pycharm": {
     "name": "#%%\n"
    }
   },
   "outputs": [],
   "source": [
    "from sklearn.preprocessing import LabelEncoder, OneHotEncoder\n",
    "from sklearn.preprocessing import MinMaxScaler\n",
    "\n",
    "from sklearn.pipeline import make_pipeline\n",
    "from sklearn.metrics import mean_squared_error, mean_absolute_error, mean_squared_log_error, make_scorer, accuracy_score\n",
    "from sklearn.feature_selection import RFECV\n",
    "from sklearn.linear_model import LogisticRegression, RidgeClassifier\n",
    "from sklearn.svm import SVC\n",
    "from sklearn.ensemble import RandomForestClassifier\n",
    "from sklearn.calibration import CalibratedClassifierCV, calibration_curve\n",
    "from sklearn.preprocessing import LabelEncoder, StandardScaler, MinMaxScaler\n",
    "from sklearn.model_selection import train_test_split, GridSearchCV\n",
    "from sklearn.naive_bayes import GaussianNB\n",
    "from sklearn.metrics import confusion_matrix, accuracy_score, f1_score, recall_score, precision_score, classification_report\n",
    "from sklearn.cluster import MeanShift, estimate_bandwidth\n",
    "\n",
    "from sklearn.model_selection import GridSearchCV\n",
    "from sklearn.tree import DecisionTreeRegressor\n",
    "from sklearn.ensemble import RandomForestClassifier\n",
    "\n",
    "from imblearn.over_sampling import SMOTE"
   ]
  },
  {
   "cell_type": "code",
   "execution_count": 7,
   "id": "7d9ffbfa",
   "metadata": {
    "collapsed": false,
    "jupyter": {
     "outputs_hidden": false
    },
    "pycharm": {
     "name": "#%%\n"
    }
   },
   "outputs": [],
   "source": [
    "import warnings\n",
    "warnings.filterwarnings('ignore')"
   ]
  },
  {
   "cell_type": "code",
   "execution_count": 8,
   "id": "b6fbfb0a",
   "metadata": {
    "collapsed": false,
    "jupyter": {
     "outputs_hidden": false
    },
    "pycharm": {
     "name": "#%%\n"
    }
   },
   "outputs": [
    {
     "data": {
      "text/html": [
       "<div>\n",
       "<style scoped>\n",
       "    .dataframe tbody tr th:only-of-type {\n",
       "        vertical-align: middle;\n",
       "    }\n",
       "\n",
       "    .dataframe tbody tr th {\n",
       "        vertical-align: top;\n",
       "    }\n",
       "\n",
       "    .dataframe thead th {\n",
       "        text-align: right;\n",
       "    }\n",
       "</style>\n",
       "<table border=\"1\" class=\"dataframe\">\n",
       "  <thead>\n",
       "    <tr style=\"text-align: right;\">\n",
       "      <th></th>\n",
       "      <th>userId</th>\n",
       "      <th>page_turn_count</th>\n",
       "      <th>view_duration</th>\n",
       "      <th>brochure_id</th>\n",
       "      <th>origin</th>\n",
       "      <th>year</th>\n",
       "      <th>month</th>\n",
       "      <th>day</th>\n",
       "      <th>app_origin</th>\n",
       "      <th>model</th>\n",
       "      <th>...</th>\n",
       "      <th>churn</th>\n",
       "      <th>last_year</th>\n",
       "      <th>last_month</th>\n",
       "      <th>last_day</th>\n",
       "      <th>first_year</th>\n",
       "      <th>first_month</th>\n",
       "      <th>first_day</th>\n",
       "      <th>product_cat__com-bonial-kaufda</th>\n",
       "      <th>product_cat__de-kaufda-android</th>\n",
       "      <th>product_cat__de.kaufda.kaufda</th>\n",
       "    </tr>\n",
       "  </thead>\n",
       "  <tbody>\n",
       "    <tr>\n",
       "      <th>0</th>\n",
       "      <td>9491a960-206a-4a58-9177-e78cb1f05e70</td>\n",
       "      <td>0.080000</td>\n",
       "      <td>0.028102</td>\n",
       "      <td>672239440</td>\n",
       "      <td>0</td>\n",
       "      <td>2017</td>\n",
       "      <td>4</td>\n",
       "      <td>30</td>\n",
       "      <td>0.0</td>\n",
       "      <td>34</td>\n",
       "      <td>...</td>\n",
       "      <td>0.0</td>\n",
       "      <td>2017</td>\n",
       "      <td>7</td>\n",
       "      <td>31</td>\n",
       "      <td>2017</td>\n",
       "      <td>4</td>\n",
       "      <td>2</td>\n",
       "      <td>1</td>\n",
       "      <td>0</td>\n",
       "      <td>0</td>\n",
       "    </tr>\n",
       "    <tr>\n",
       "      <th>1</th>\n",
       "      <td>9491a960-206a-4a58-9177-e78cb1f05e70</td>\n",
       "      <td>0.005333</td>\n",
       "      <td>0.005463</td>\n",
       "      <td>673861625</td>\n",
       "      <td>0</td>\n",
       "      <td>2017</td>\n",
       "      <td>4</td>\n",
       "      <td>30</td>\n",
       "      <td>0.0</td>\n",
       "      <td>34</td>\n",
       "      <td>...</td>\n",
       "      <td>0.0</td>\n",
       "      <td>2017</td>\n",
       "      <td>7</td>\n",
       "      <td>31</td>\n",
       "      <td>2017</td>\n",
       "      <td>4</td>\n",
       "      <td>2</td>\n",
       "      <td>1</td>\n",
       "      <td>0</td>\n",
       "      <td>0</td>\n",
       "    </tr>\n",
       "    <tr>\n",
       "      <th>2</th>\n",
       "      <td>9491a960-206a-4a58-9177-e78cb1f05e70</td>\n",
       "      <td>0.002667</td>\n",
       "      <td>0.007946</td>\n",
       "      <td>660764240</td>\n",
       "      <td>0</td>\n",
       "      <td>2017</td>\n",
       "      <td>4</td>\n",
       "      <td>30</td>\n",
       "      <td>0.0</td>\n",
       "      <td>34</td>\n",
       "      <td>...</td>\n",
       "      <td>0.0</td>\n",
       "      <td>2017</td>\n",
       "      <td>7</td>\n",
       "      <td>31</td>\n",
       "      <td>2017</td>\n",
       "      <td>4</td>\n",
       "      <td>2</td>\n",
       "      <td>1</td>\n",
       "      <td>0</td>\n",
       "      <td>0</td>\n",
       "    </tr>\n",
       "    <tr>\n",
       "      <th>3</th>\n",
       "      <td>fa623647-dfc9-49b4-bbb6-77cbacd599f4</td>\n",
       "      <td>0.170667</td>\n",
       "      <td>0.046186</td>\n",
       "      <td>672658544</td>\n",
       "      <td>0</td>\n",
       "      <td>2017</td>\n",
       "      <td>4</td>\n",
       "      <td>30</td>\n",
       "      <td>0.0</td>\n",
       "      <td>40</td>\n",
       "      <td>...</td>\n",
       "      <td>1.0</td>\n",
       "      <td>2017</td>\n",
       "      <td>6</td>\n",
       "      <td>21</td>\n",
       "      <td>2017</td>\n",
       "      <td>4</td>\n",
       "      <td>1</td>\n",
       "      <td>1</td>\n",
       "      <td>0</td>\n",
       "      <td>0</td>\n",
       "    </tr>\n",
       "    <tr>\n",
       "      <th>4</th>\n",
       "      <td>9491a960-206a-4a58-9177-e78cb1f05e70</td>\n",
       "      <td>0.002667</td>\n",
       "      <td>0.012664</td>\n",
       "      <td>660764240</td>\n",
       "      <td>0</td>\n",
       "      <td>2017</td>\n",
       "      <td>4</td>\n",
       "      <td>30</td>\n",
       "      <td>0.0</td>\n",
       "      <td>34</td>\n",
       "      <td>...</td>\n",
       "      <td>0.0</td>\n",
       "      <td>2017</td>\n",
       "      <td>7</td>\n",
       "      <td>31</td>\n",
       "      <td>2017</td>\n",
       "      <td>4</td>\n",
       "      <td>2</td>\n",
       "      <td>1</td>\n",
       "      <td>0</td>\n",
       "      <td>0</td>\n",
       "    </tr>\n",
       "  </tbody>\n",
       "</table>\n",
       "<p>5 rows × 24 columns</p>\n",
       "</div>"
      ],
      "text/plain": [
       "                                 userId  page_turn_count  view_duration  \\\n",
       "0  9491a960-206a-4a58-9177-e78cb1f05e70         0.080000       0.028102   \n",
       "1  9491a960-206a-4a58-9177-e78cb1f05e70         0.005333       0.005463   \n",
       "2  9491a960-206a-4a58-9177-e78cb1f05e70         0.002667       0.007946   \n",
       "3  fa623647-dfc9-49b4-bbb6-77cbacd599f4         0.170667       0.046186   \n",
       "4  9491a960-206a-4a58-9177-e78cb1f05e70         0.002667       0.012664   \n",
       "\n",
       "   brochure_id  origin  year  month  day  app_origin  model  ...  churn  \\\n",
       "0    672239440       0  2017      4   30         0.0     34  ...    0.0   \n",
       "1    673861625       0  2017      4   30         0.0     34  ...    0.0   \n",
       "2    660764240       0  2017      4   30         0.0     34  ...    0.0   \n",
       "3    672658544       0  2017      4   30         0.0     40  ...    1.0   \n",
       "4    660764240       0  2017      4   30         0.0     34  ...    0.0   \n",
       "\n",
       "   last_year  last_month  last_day  first_year  first_month  first_day  \\\n",
       "0       2017           7        31        2017            4          2   \n",
       "1       2017           7        31        2017            4          2   \n",
       "2       2017           7        31        2017            4          2   \n",
       "3       2017           6        21        2017            4          1   \n",
       "4       2017           7        31        2017            4          2   \n",
       "\n",
       "   product_cat__com-bonial-kaufda  product_cat__de-kaufda-android  \\\n",
       "0                               1                               0   \n",
       "1                               1                               0   \n",
       "2                               1                               0   \n",
       "3                               1                               0   \n",
       "4                               1                               0   \n",
       "\n",
       "   product_cat__de.kaufda.kaufda  \n",
       "0                              0  \n",
       "1                              0  \n",
       "2                              0  \n",
       "3                              0  \n",
       "4                              0  \n",
       "\n",
       "[5 rows x 24 columns]"
      ]
     },
     "execution_count": 8,
     "metadata": {},
     "output_type": "execute_result"
    }
   ],
   "source": [
    "train_df4 = pd.read_csv(\"../dataset/opioid_dataset.csv\")\n",
    "#train_df4.head()"
   ]
  },
  {
   "cell_type": "code",
   "execution_count": 10,
   "id": "6522909f",
   "metadata": {
    "collapsed": false,
    "jupyter": {
     "outputs_hidden": false
    },
    "pycharm": {
     "name": "#%%\n"
    }
   },
   "outputs": [],
   "source": [
    "train_df4 = train_df4.rename({'userId' : 'PatientId','Actual_Churn' : 'Actual_Diagnosis',\n",
    "                              'Churn_Score' : 'Addict_Score', 'churn': 'Opioid'}, axis = 1)"
   ]
  },
  {
   "cell_type": "code",
   "execution_count": 11,
   "id": "ae785bdf",
   "metadata": {
    "collapsed": false,
    "jupyter": {
     "outputs_hidden": false
    },
    "pycharm": {
     "name": "#%%\n"
    }
   },
   "outputs": [],
   "source": [
    "train_df5 = train_df4.copy()"
   ]
  },
  {
   "cell_type": "code",
   "execution_count": 12,
   "id": "0ecb0bd3",
   "metadata": {
    "collapsed": false,
    "jupyter": {
     "outputs_hidden": false
    },
    "pycharm": {
     "name": "#%%\n"
    }
   },
   "outputs": [],
   "source": [
    "def reduce_mem_usage(df, verbose=True):\n",
    "    numerics = ['int16', 'int32', 'int64', 'float16', 'float32', 'float64']\n",
    "    start_mem = df.memory_usage().sum() / 1024**2    \n",
    "    for col in df.columns:\n",
    "        col_type = df[col].dtypes\n",
    "        if col_type in numerics:\n",
    "            c_min = df[col].min()\n",
    "            c_max = df[col].max()\n",
    "            if str(col_type)[:3] == 'int':\n",
    "                if c_min > np.iinfo(np.int8).min and c_max < np.iinfo(np.int8).max:\n",
    "                    df[col] = df[col].astype(np.int8)\n",
    "                elif c_min > np.iinfo(np.int16).min and c_max < np.iinfo(np.int16).max:\n",
    "                    df[col] = df[col].astype(np.int16)\n",
    "                elif c_min > np.iinfo(np.int32).min and c_max < np.iinfo(np.int32).max:\n",
    "                    df[col] = df[col].astype(np.int32)\n",
    "                elif c_min > np.iinfo(np.int64).min and c_max < np.iinfo(np.int64).max:\n",
    "                    df[col] = df[col].astype(np.int64)  \n",
    "            else:\n",
    "                if c_min > np.finfo(np.float16).min and c_max < np.finfo(np.float16).max:\n",
    "                    df[col] = df[col].astype(np.float16)\n",
    "                elif c_min > np.finfo(np.float32).min and c_max < np.finfo(np.float32).max:\n",
    "                    df[col] = df[col].astype(np.float32)\n",
    "                else:\n",
    "                    df[col] = df[col].astype(np.float64)    \n",
    "    end_mem = df.memory_usage().sum() / 1024**2\n",
    "    if verbose: print('Mem. usage decreased to {:5.2f} Mb ({:.1f}% reduction)'.format(end_mem, 100 * (start_mem - end_mem) / start_mem))\n",
    "    return df"
   ]
  },
  {
   "cell_type": "code",
   "execution_count": 13,
   "id": "0badcdb2",
   "metadata": {
    "collapsed": false,
    "jupyter": {
     "outputs_hidden": false
    },
    "pycharm": {
     "name": "#%%\n"
    }
   },
   "outputs": [
    {
     "name": "stdout",
     "output_type": "stream",
     "text": [
      "Mem. usage decreased to 15.44 Mb (76.0% reduction)\n"
     ]
    }
   ],
   "source": [
    "train_df4 = reduce_mem_usage(train_df4)"
   ]
  },
  {
   "cell_type": "raw",
   "id": "9cec48e9",
   "metadata": {
    "pycharm": {
     "name": "#%% raw\n"
    }
   },
   "source": [
    "final_df = pd.DataFrame()\n",
    "final_df = train_df4[['userId']].reset_index(drop=True)\n",
    "\n",
    "final_df.shape"
   ]
  },
  {
   "cell_type": "code",
   "execution_count": 15,
   "id": "aa324fa0",
   "metadata": {
    "collapsed": false,
    "jupyter": {
     "outputs_hidden": false
    },
    "pycharm": {
     "name": "#%%\n"
    }
   },
   "outputs": [],
   "source": [
    "# creating instance of labelencoder\n",
    "labelencoder = LabelEncoder()\n",
    "# Assigning numerical values and storing in another column\n",
    "train_df4['PatientId'] = labelencoder.fit_transform(train_df4['PatientId'])"
   ]
  },
  {
   "cell_type": "code",
   "execution_count": 16,
   "id": "ab5d3717",
   "metadata": {
    "collapsed": false,
    "jupyter": {
     "outputs_hidden": false
    },
    "pycharm": {
     "name": "#%%\n"
    }
   },
   "outputs": [],
   "source": [
    "X_no = train_df4[train_df4.Opioid == 0]\n",
    "X_yes = train_df4[train_df4.Opioid == 1]"
   ]
  },
  {
   "cell_type": "code",
   "execution_count": 17,
   "id": "57e7c329",
   "metadata": {
    "collapsed": false,
    "jupyter": {
     "outputs_hidden": false
    },
    "pycharm": {
     "name": "#%%\n"
    }
   },
   "outputs": [
    {
     "name": "stdout",
     "output_type": "stream",
     "text": [
      "265139\n"
     ]
    }
   ],
   "source": [
    "X_yes_upsampled = X_yes.sample(n=len(X_no), replace=True, random_state=42)\n",
    "print(len(X_yes_upsampled))"
   ]
  },
  {
   "cell_type": "code",
   "execution_count": 18,
   "id": "cb2750bc",
   "metadata": {
    "collapsed": false,
    "jupyter": {
     "outputs_hidden": false
    },
    "pycharm": {
     "name": "#%%\n"
    }
   },
   "outputs": [],
   "source": [
    "X_upsampled = X_no.append(X_yes_upsampled).reset_index(drop=True)\n",
    "#sns.countplot('Opioid', data=X_upsampled).set_title('Class Distribution After Resampling')#"
   ]
  },
  {
   "cell_type": "code",
   "execution_count": 19,
   "id": "58a06c30",
   "metadata": {
    "collapsed": false,
    "jupyter": {
     "outputs_hidden": false
    },
    "pycharm": {
     "name": "#%%\n"
    }
   },
   "outputs": [],
   "source": [
    "X = X_upsampled.drop(['Opioid'], axis=1) #features (independent variables)\n",
    "y = X_upsampled['Opioid'] #target (dependent variable)"
   ]
  },
  {
   "cell_type": "code",
   "execution_count": 20,
   "id": "edf1ac94",
   "metadata": {
    "collapsed": false,
    "jupyter": {
     "outputs_hidden": false
    },
    "pycharm": {
     "name": "#%%\n"
    }
   },
   "outputs": [],
   "source": [
    "X_train, X_test, y_train, y_test = train_test_split(X, y, test_size = 0.2, random_state=42)"
   ]
  },
  {
   "cell_type": "raw",
   "id": "18296c8a",
   "metadata": {
    "pycharm": {
     "name": "#%% raw\n"
    }
   },
   "source": [
    "X_train = X_train.drop(columns='userId')\n",
    "X_test = X_test.drop(columns='userId')\n",
    "X_train.shape, X_test.shape"
   ]
  },
  {
   "cell_type": "code",
   "execution_count": 21,
   "id": "83a68d94",
   "metadata": {
    "collapsed": false,
    "jupyter": {
     "outputs_hidden": false
    },
    "pycharm": {
     "name": "#%%\n"
    }
   },
   "outputs": [],
   "source": []
  },
  {
   "cell_type": "markdown",
   "id": "d6a02452",
   "metadata": {
    "pycharm": {
     "name": "#%% md\n"
    }
   },
   "source": [
    "**#RidgeClassifier**"
   ]
  },
  {
   "cell_type": "code",
   "execution_count": 22,
   "id": "9a286ab9",
   "metadata": {
    "collapsed": false,
    "jupyter": {
     "outputs_hidden": false
    },
    "pycharm": {
     "name": "#%%\n"
    }
   },
   "outputs": [
    {
     "data": {
      "text/html": [
       "<style>#sk-container-id-1 {color: black;background-color: white;}#sk-container-id-1 pre{padding: 0;}#sk-container-id-1 div.sk-toggleable {background-color: white;}#sk-container-id-1 label.sk-toggleable__label {cursor: pointer;display: block;width: 100%;margin-bottom: 0;padding: 0.3em;box-sizing: border-box;text-align: center;}#sk-container-id-1 label.sk-toggleable__label-arrow:before {content: \"▸\";float: left;margin-right: 0.25em;color: #696969;}#sk-container-id-1 label.sk-toggleable__label-arrow:hover:before {color: black;}#sk-container-id-1 div.sk-estimator:hover label.sk-toggleable__label-arrow:before {color: black;}#sk-container-id-1 div.sk-toggleable__content {max-height: 0;max-width: 0;overflow: hidden;text-align: left;background-color: #f0f8ff;}#sk-container-id-1 div.sk-toggleable__content pre {margin: 0.2em;color: black;border-radius: 0.25em;background-color: #f0f8ff;}#sk-container-id-1 input.sk-toggleable__control:checked~div.sk-toggleable__content {max-height: 200px;max-width: 100%;overflow: auto;}#sk-container-id-1 input.sk-toggleable__control:checked~label.sk-toggleable__label-arrow:before {content: \"▾\";}#sk-container-id-1 div.sk-estimator input.sk-toggleable__control:checked~label.sk-toggleable__label {background-color: #d4ebff;}#sk-container-id-1 div.sk-label input.sk-toggleable__control:checked~label.sk-toggleable__label {background-color: #d4ebff;}#sk-container-id-1 input.sk-hidden--visually {border: 0;clip: rect(1px 1px 1px 1px);clip: rect(1px, 1px, 1px, 1px);height: 1px;margin: -1px;overflow: hidden;padding: 0;position: absolute;width: 1px;}#sk-container-id-1 div.sk-estimator {font-family: monospace;background-color: #f0f8ff;border: 1px dotted black;border-radius: 0.25em;box-sizing: border-box;margin-bottom: 0.5em;}#sk-container-id-1 div.sk-estimator:hover {background-color: #d4ebff;}#sk-container-id-1 div.sk-parallel-item::after {content: \"\";width: 100%;border-bottom: 1px solid gray;flex-grow: 1;}#sk-container-id-1 div.sk-label:hover label.sk-toggleable__label {background-color: #d4ebff;}#sk-container-id-1 div.sk-serial::before {content: \"\";position: absolute;border-left: 1px solid gray;box-sizing: border-box;top: 0;bottom: 0;left: 50%;z-index: 0;}#sk-container-id-1 div.sk-serial {display: flex;flex-direction: column;align-items: center;background-color: white;padding-right: 0.2em;padding-left: 0.2em;position: relative;}#sk-container-id-1 div.sk-item {position: relative;z-index: 1;}#sk-container-id-1 div.sk-parallel {display: flex;align-items: stretch;justify-content: center;background-color: white;position: relative;}#sk-container-id-1 div.sk-item::before, #sk-container-id-1 div.sk-parallel-item::before {content: \"\";position: absolute;border-left: 1px solid gray;box-sizing: border-box;top: 0;bottom: 0;left: 50%;z-index: -1;}#sk-container-id-1 div.sk-parallel-item {display: flex;flex-direction: column;z-index: 1;position: relative;background-color: white;}#sk-container-id-1 div.sk-parallel-item:first-child::after {align-self: flex-end;width: 50%;}#sk-container-id-1 div.sk-parallel-item:last-child::after {align-self: flex-start;width: 50%;}#sk-container-id-1 div.sk-parallel-item:only-child::after {width: 0;}#sk-container-id-1 div.sk-dashed-wrapped {border: 1px dashed gray;margin: 0 0.4em 0.5em 0.4em;box-sizing: border-box;padding-bottom: 0.4em;background-color: white;}#sk-container-id-1 div.sk-label label {font-family: monospace;font-weight: bold;display: inline-block;line-height: 1.2em;}#sk-container-id-1 div.sk-label-container {text-align: center;}#sk-container-id-1 div.sk-container {/* jupyter's `normalize.less` sets `[hidden] { display: none; }` but bootstrap.min.css set `[hidden] { display: none !important; }` so we also need the `!important` here to be able to override the default hidden behavior on the sphinx rendered scikit-learn.org. See: https://github.com/scikit-learn/scikit-learn/issues/21755 */display: inline-block !important;position: relative;}#sk-container-id-1 div.sk-text-repr-fallback {display: none;}</style><div id=\"sk-container-id-1\" class=\"sk-top-container\"><div class=\"sk-text-repr-fallback\"><pre>RidgeClassifier()</pre><b>In a Jupyter environment, please rerun this cell to show the HTML representation or trust the notebook. <br />On GitHub, the HTML representation is unable to render, please try loading this page with nbviewer.org.</b></div><div class=\"sk-container\" hidden><div class=\"sk-item\"><div class=\"sk-estimator sk-toggleable\"><input class=\"sk-toggleable__control sk-hidden--visually\" id=\"sk-estimator-id-1\" type=\"checkbox\" checked><label for=\"sk-estimator-id-1\" class=\"sk-toggleable__label sk-toggleable__label-arrow\">RidgeClassifier</label><div class=\"sk-toggleable__content\"><pre>RidgeClassifier()</pre></div></div></div></div></div>"
      ],
      "text/plain": [
       "RidgeClassifier()"
      ]
     },
     "execution_count": 22,
     "metadata": {},
     "output_type": "execute_result"
    }
   ],
   "source": [
    "clf_ridge = RidgeClassifier() #create a ridge classifier object\n",
    "clf_ridge.fit(X_train, y_train) #train the model"
   ]
  },
  {
   "cell_type": "code",
   "execution_count": 24,
   "id": "2505e8a9",
   "metadata": {
    "collapsed": false,
    "jupyter": {
     "outputs_hidden": false
    },
    "pycharm": {
     "name": "#%%\n"
    }
   },
   "outputs": [
    {
     "name": "stdout",
     "output_type": "stream",
     "text": [
      "Feature: 0, Score: -0.00000\n",
      "Feature: 1, Score: -0.26469\n",
      "Feature: 2, Score: 0.04708\n",
      "Feature: 3, Score: -0.00000\n",
      "Feature: 4, Score: -0.89623\n",
      "Feature: 5, Score: 0.00000\n",
      "Feature: 6, Score: -0.12517\n",
      "Feature: 7, Score: -0.00182\n",
      "Feature: 8, Score: 0.72538\n",
      "Feature: 9, Score: -0.00001\n",
      "Feature: 10, Score: 0.00007\n",
      "Feature: 11, Score: 0.21986\n",
      "Feature: 12, Score: -1.09434\n",
      "Feature: 13, Score: -0.05682\n",
      "Feature: 14, Score: -0.05418\n",
      "Feature: 15, Score: -0.64115\n",
      "Feature: 16, Score: -0.02404\n",
      "Feature: 17, Score: -0.05418\n",
      "Feature: 18, Score: 1.29040\n",
      "Feature: 19, Score: 0.06215\n",
      "Feature: 20, Score: 0.41073\n",
      "Feature: 21, Score: 0.40205\n",
      "Feature: 22, Score: -0.79984\n"
     ]
    },
    {
     "data": {
      "image/png": "[encoded data removed]",
      "text/plain": [
       "<Figure size 640x480 with 1 Axes>"
      ]
     },
     "metadata": {},
     "output_type": "display_data"
    }
   ],
   "source": [
    "ridge_importance = clf_ridge.coef_[0]\n",
    "# summarize feature importance\n",
    "for i,v in enumerate(ridge_importance):\n",
    "    print('Feature: %0d, Score: %.5f' % (i,v))\n",
    "# plot feature importance\n",
    "plt.bar([x for x in range(len(ridge_importance))], ridge_importance)\n",
    "plt.show()"
   ]
  },
  {
   "cell_type": "code",
   "execution_count": 24,
   "id": "24670adc",
   "metadata": {
    "collapsed": false,
    "jupyter": {
     "outputs_hidden": false
    },
    "pycharm": {
     "name": "#%%\n"
    }
   },
   "outputs": [],
   "source": []
  },
  {
   "cell_type": "code",
   "execution_count": 25,
   "id": "ce370d07",
   "metadata": {
    "collapsed": false,
    "jupyter": {
     "outputs_hidden": false
    },
    "pycharm": {
     "name": "#%%\n"
    }
   },
   "outputs": [],
   "source": [
    "ridge_pred_test = clf_ridge.predict(X_test)"
   ]
  },
  {
   "cell_type": "code",
   "execution_count": 26,
   "id": "11c93465",
   "metadata": {
    "collapsed": false,
    "jupyter": {
     "outputs_hidden": false
    },
    "pycharm": {
     "name": "#%%\n"
    }
   },
   "outputs": [
    {
     "data": {
      "text/plain": [
       "0.8597816248019914"
      ]
     },
     "execution_count": 26,
     "metadata": {},
     "output_type": "execute_result"
    }
   ],
   "source": [
    "accuracy_score(y_test, ridge_pred_test)"
   ]
  },
  {
   "cell_type": "code",
   "execution_count": 27,
   "id": "ad015172",
   "metadata": {
    "collapsed": false,
    "jupyter": {
     "outputs_hidden": false
    },
    "pycharm": {
     "name": "#%%\n"
    }
   },
   "outputs": [
    {
     "name": "stdout",
     "output_type": "stream",
     "text": [
      "              precision    recall  f1-score   support\n",
      "\n",
      "         0.0       0.91      0.80      0.85     53180\n",
      "         1.0       0.82      0.92      0.87     52876\n",
      "\n",
      "    accuracy                           0.86    106056\n",
      "   macro avg       0.87      0.86      0.86    106056\n",
      "weighted avg       0.87      0.86      0.86    106056\n",
      "\n"
     ]
    }
   ],
   "source": [
    "print(classification_report(y_test, ridge_pred_test))"
   ]
  },
  {
   "cell_type": "code",
   "execution_count": 27,
   "id": "dfd9576e",
   "metadata": {
    "collapsed": false,
    "jupyter": {
     "outputs_hidden": false
    },
    "pycharm": {
     "name": "#%%\n"
    }
   },
   "outputs": [],
   "source": []
  },
  {
   "cell_type": "markdown",
   "id": "402be77a",
   "metadata": {
    "pycharm": {
     "name": "#%% md\n"
    }
   },
   "source": [
    "**#RandomForestClassifier**"
   ]
  },
  {
   "cell_type": "code",
   "execution_count": 28,
   "id": "ed28cb40",
   "metadata": {
    "collapsed": false,
    "jupyter": {
     "outputs_hidden": false
    },
    "pycharm": {
     "name": "#%%\n"
    }
   },
   "outputs": [],
   "source": [
    "n_estimators = [700]\n",
    "max_depth = [10, 8]\n",
    "min_samples_split = [10, 5]\n",
    "min_samples_leaf = [5, 3]"
   ]
  },
  {
   "cell_type": "code",
   "execution_count": 29,
   "id": "ce2b34c3",
   "metadata": {
    "collapsed": false,
    "jupyter": {
     "outputs_hidden": false
    },
    "pycharm": {
     "name": "#%%\n"
    }
   },
   "outputs": [],
   "source": [
    "hyper_random = {\"n_estimators\":n_estimators,\n",
    "                \"max_depth\":max_depth,\n",
    "                \"min_samples_split\":min_samples_split,\n",
    "                \"min_samples_leaf\":min_samples_leaf}"
   ]
  },
  {
   "cell_type": "code",
   "execution_count": 30,
   "id": "e034ca20",
   "metadata": {
    "collapsed": false,
    "jupyter": {
     "outputs_hidden": false
    },
    "pycharm": {
     "name": "#%%\n"
    }
   },
   "outputs": [
    {
     "name": "stdout",
     "output_type": "stream",
     "text": [
      "1669311942.91642\n",
      "Fitting 5 folds for each of 8 candidates, totalling 40 fits\n",
      "\n",
      "Process Time: 00:39:23.44\n"
     ]
    }
   ],
   "source": [
    "start = time.time()\n",
    "print(start)\n",
    "clf_rf_tuned = GridSearchCV(RandomForestClassifier(), hyper_random, \n",
    "                            cv = 5, verbose = 1, \n",
    "                            n_jobs = -1)\n",
    "clf_rf_tuned.fit(X_train, y_train)\n",
    "\n",
    "end = time.time()\n",
    "hours, rem = divmod(end-start, 3600)\n",
    "minutes, seconds = divmod(rem, 60)\n",
    "print(\"\\nProcess Time: \"+\"{:0>2}:{:0>2}:{:05.2f}\".format(int(hours),int(minutes),seconds))\n"
   ]
  },
  {
   "cell_type": "code",
   "execution_count": 31,
   "id": "75139023",
   "metadata": {
    "collapsed": false,
    "jupyter": {
     "outputs_hidden": false
    },
    "pycharm": {
     "name": "#%%\n"
    }
   },
   "outputs": [
    {
     "name": "stdout",
     "output_type": "stream",
     "text": [
      "{'max_depth': 10, 'min_samples_leaf': 3, 'min_samples_split': 5, 'n_estimators': 700}\n"
     ]
    }
   ],
   "source": [
    "best_params_random = clf_rf_tuned.best_params_\n",
    "print(best_params_random)"
   ]
  },
  {
   "cell_type": "code",
   "execution_count": 32,
   "id": "df05e564",
   "metadata": {
    "collapsed": false,
    "jupyter": {
     "outputs_hidden": false
    },
    "pycharm": {
     "name": "#%%\n"
    }
   },
   "outputs": [],
   "source": [
    "CV_clf_rf = RandomForestClassifier(max_depth=best_params_random[\"max_depth\"],\n",
    "                                   min_samples_leaf=best_params_random[\"min_samples_leaf\"],\n",
    "                                   min_samples_split=best_params_random[\"min_samples_split\"],\n",
    "                                   n_estimators= best_params_random[\"n_estimators\"])"
   ]
  },
  {
   "cell_type": "code",
   "execution_count": 33,
   "id": "c7affb01",
   "metadata": {
    "collapsed": false,
    "jupyter": {
     "outputs_hidden": false
    },
    "pycharm": {
     "name": "#%%\n"
    }
   },
   "outputs": [],
   "source": [
    "CV_clf_rf.fit(X_train, y_train)\n",
    "y_test_predict_random = CV_clf_rf.predict_proba(X_test)[:, 1]\n",
    "yhat_random = CV_clf_rf.predict(X_test)\n",
    "fraction_of_positives, mean_predicted_value = calibration_curve(y_test, y_test_predict_random, n_bins=10)"
   ]
  },
  {
   "cell_type": "code",
   "execution_count": 34,
   "id": "e75ed665",
   "metadata": {
    "collapsed": false,
    "jupyter": {
     "outputs_hidden": false
    },
    "pycharm": {
     "name": "#%%\n"
    }
   },
   "outputs": [
    {
     "name": "stdout",
     "output_type": "stream",
     "text": [
      "              precision    recall  f1-score   support\n",
      "\n",
      "         0.0       0.92      0.88      0.90     53180\n",
      "         1.0       0.89      0.93      0.91     52876\n",
      "\n",
      "    accuracy                           0.90    106056\n",
      "   macro avg       0.91      0.90      0.90    106056\n",
      "weighted avg       0.91      0.90      0.90    106056\n",
      "\n"
     ]
    }
   ],
   "source": [
    "print(classification_report(y_test, yhat_random))"
   ]
  },
  {
   "cell_type": "code",
   "execution_count": 34,
   "id": "bcbebfce",
   "metadata": {
    "collapsed": false,
    "jupyter": {
     "outputs_hidden": false
    },
    "pycharm": {
     "name": "#%%\n"
    }
   },
   "outputs": [],
   "source": []
  },
  {
   "cell_type": "code",
   "execution_count": 35,
   "id": "98b7a16f",
   "metadata": {
    "collapsed": false,
    "jupyter": {
     "outputs_hidden": false
    },
    "pycharm": {
     "name": "#%%\n"
    }
   },
   "outputs": [],
   "source": [
    "final_df = pd.DataFrame()\n"
   ]
  },
  {
   "cell_type": "code",
   "execution_count": 36,
   "id": "9aea9c13",
   "metadata": {
    "collapsed": false,
    "jupyter": {
     "outputs_hidden": false
    },
    "pycharm": {
     "name": "#%%\n"
    }
   },
   "outputs": [
    {
     "data": {
      "text/plain": [
       "(106056, 3)"
      ]
     },
     "execution_count": 36,
     "metadata": {},
     "output_type": "execute_result"
    }
   ],
   "source": [
    "final_df['PatientId'] = X_test.PatientId\n",
    "final_df['Actual_Diagnosis'] = y_test\n",
    "final_df['Random_Forest_Probability'] = y_test_predict_random\n",
    "final_df.shape"
   ]
  },
  {
   "cell_type": "markdown",
   "id": "8912336b",
   "metadata": {
    "pycharm": {
     "name": "#%% md\n"
    }
   },
   "source": [
    "**#CalibratedClassifierCV**"
   ]
  },
  {
   "cell_type": "code",
   "execution_count": 37,
   "id": "f2039362",
   "metadata": {
    "collapsed": false,
    "jupyter": {
     "outputs_hidden": false
    },
    "pycharm": {
     "name": "#%%\n"
    }
   },
   "outputs": [
    {
     "name": "stdout",
     "output_type": "stream",
     "text": [
      "\n",
      "Process Time: 00:25:49.81\n"
     ]
    }
   ],
   "source": [
    "start = time.time()\n",
    "\n",
    "# Create a corrected classifier.\n",
    "\n",
    "clf_sigmoid = CalibratedClassifierCV(CV_clf_rf, cv=10, method='sigmoid')\n",
    "clf_sigmoid.fit(X_train, y_train)\n",
    "y_test_predict_random_calibrated = clf_sigmoid.predict_proba(X_test)[:, 1]\n",
    "yhat_calibrated_random = clf_sigmoid.predict(X_test)\n",
    "fraction_of_positives, mean_predicted_value = calibration_curve(y_test, y_test_predict_random_calibrated, n_bins=10)\n",
    "\n",
    "\n",
    "end = time.time()\n",
    "hours, rem = divmod(end-start, 3600)\n",
    "minutes, seconds = divmod(rem, 60)\n",
    "print(\"\\nProcess Time: \"+\"{:0>2}:{:0>2}:{:05.2f}\".format(int(hours),int(minutes),seconds))"
   ]
  },
  {
   "cell_type": "code",
   "execution_count": 38,
   "id": "54207e6d",
   "metadata": {
    "collapsed": false,
    "jupyter": {
     "outputs_hidden": false
    },
    "pycharm": {
     "name": "#%%\n"
    }
   },
   "outputs": [
    {
     "name": "stdout",
     "output_type": "stream",
     "text": [
      "              precision    recall  f1-score   support\n",
      "\n",
      "         0.0       0.92      0.88      0.90     53180\n",
      "         1.0       0.89      0.92      0.91     52876\n",
      "\n",
      "    accuracy                           0.90    106056\n",
      "   macro avg       0.90      0.90      0.90    106056\n",
      "weighted avg       0.90      0.90      0.90    106056\n",
      "\n"
     ]
    }
   ],
   "source": [
    "print(classification_report(y_test, yhat_calibrated_random))"
   ]
  },
  {
   "cell_type": "code",
   "execution_count": 39,
   "id": "8b2d74c1",
   "metadata": {
    "collapsed": false,
    "jupyter": {
     "outputs_hidden": false
    },
    "pycharm": {
     "name": "#%%\n"
    }
   },
   "outputs": [
    {
     "data": {
      "text/plain": [
       "(106056, 4)"
      ]
     },
     "execution_count": 39,
     "metadata": {},
     "output_type": "execute_result"
    }
   ],
   "source": [
    "final_df['Calibrated_Random_Forest_Probability'] = y_test_predict_random_calibrated\n",
    "final_df.shape"
   ]
  },
  {
   "cell_type": "code",
   "execution_count": 39,
   "id": "f36b730c",
   "metadata": {
    "collapsed": false,
    "jupyter": {
     "outputs_hidden": false
    },
    "pycharm": {
     "name": "#%%\n"
    }
   },
   "outputs": [],
   "source": []
  },
  {
   "cell_type": "code",
   "execution_count": null,
   "outputs": [],
   "source": [],
   "metadata": {
    "collapsed": false,
    "pycharm": {
     "name": "#%%\n"
    }
   }
  },
  {
   "cell_type": "code",
   "execution_count": 40,
   "id": "7822031d",
   "metadata": {
    "collapsed": false,
    "jupyter": {
     "outputs_hidden": false
    },
    "pycharm": {
     "name": "#%%\n"
    }
   },
   "outputs": [
    {
     "name": "stdout",
     "output_type": "stream",
     "text": [
      "              precision    recall  f1-score   support\n",
      "\n",
      "         0.0       0.91      0.80      0.85     53180\n",
      "         1.0       0.82      0.92      0.87     52876\n",
      "\n",
      "    accuracy                           0.86    106056\n",
      "   macro avg       0.87      0.86      0.86    106056\n",
      "weighted avg       0.87      0.86      0.86    106056\n",
      "\n"
     ]
    }
   ],
   "source": [
    "print(classification_report(y_test, ridge_pred_test))"
   ]
  },
  {
   "cell_type": "code",
   "execution_count": 41,
   "id": "5e4671b9",
   "metadata": {
    "collapsed": false,
    "jupyter": {
     "outputs_hidden": false
    },
    "pycharm": {
     "name": "#%%\n"
    }
   },
   "outputs": [
    {
     "name": "stdout",
     "output_type": "stream",
     "text": [
      "              precision    recall  f1-score   support\n",
      "\n",
      "         0.0       0.92      0.88      0.90     53180\n",
      "         1.0       0.89      0.93      0.91     52876\n",
      "\n",
      "    accuracy                           0.90    106056\n",
      "   macro avg       0.91      0.90      0.90    106056\n",
      "weighted avg       0.91      0.90      0.90    106056\n",
      "\n"
     ]
    }
   ],
   "source": [
    "print(classification_report(y_test, yhat_random))"
   ]
  },
  {
   "cell_type": "code",
   "execution_count": 42,
   "id": "cc828f54",
   "metadata": {
    "collapsed": false,
    "jupyter": {
     "outputs_hidden": false
    },
    "pycharm": {
     "name": "#%%\n"
    }
   },
   "outputs": [
    {
     "name": "stdout",
     "output_type": "stream",
     "text": [
      "              precision    recall  f1-score   support\n",
      "\n",
      "         0.0       0.92      0.88      0.90     53180\n",
      "         1.0       0.89      0.92      0.91     52876\n",
      "\n",
      "    accuracy                           0.90    106056\n",
      "   macro avg       0.90      0.90      0.90    106056\n",
      "weighted avg       0.90      0.90      0.90    106056\n",
      "\n"
     ]
    }
   ],
   "source": [
    "print(classification_report(y_test, yhat_calibrated_random))"
   ]
  },
  {
   "cell_type": "code",
   "execution_count": 42,
   "id": "5476f19e",
   "metadata": {
    "collapsed": false,
    "jupyter": {
     "outputs_hidden": false
    },
    "pycharm": {
     "name": "#%%\n"
    }
   },
   "outputs": [],
   "source": []
  },
  {
   "cell_type": "markdown",
   "id": "40d76228",
   "metadata": {
    "pycharm": {
     "name": "#%% md\n"
    }
   },
   "source": [
    "**#GaussianNaiveBias**"
   ]
  },
  {
   "cell_type": "code",
   "execution_count": 43,
   "id": "b5adbd1b",
   "metadata": {
    "collapsed": false,
    "jupyter": {
     "outputs_hidden": false
    },
    "pycharm": {
     "name": "#%%\n"
    }
   },
   "outputs": [
    {
     "name": "stdout",
     "output_type": "stream",
     "text": [
      "\n",
      "Process Time: 00:00:03.75\n"
     ]
    }
   ],
   "source": [
    "start = time.time()\n",
    "# Uncalibrated\n",
    "clf_nb = GaussianNB()\n",
    "clf_nb.fit(X_train, y_train)\n",
    "y_test_predict_nb = clf_nb.predict_proba(X_test)[:, 1]\n",
    "yhat_nb = clf_nb.predict(X_test)\n",
    "fraction_of_positives_nb, mean_predicted_value_nb = calibration_curve(y_test, y_test_predict_nb, n_bins=10)\n",
    "\n",
    "#plt.plot(mean_predicted_value_nb, fraction_of_positives_nb, 's-', label='Uncalibrated')\n",
    "\n",
    "# Calibrated\n",
    "clf_sigmoid_nb = CalibratedClassifierCV(clf_nb, cv=10, method='isotonic')\n",
    "clf_sigmoid_nb.fit(X_train, y_train)\n",
    "y_test_predict_nb_calib = clf_sigmoid_nb.predict_proba(X_test)[:, 1]\n",
    "yhat_calibrated_nb = clf_sigmoid_nb.predict(X_test)\n",
    "fraction_of_positives_nb_calib, mean_predicted_value_nb_calib = calibration_curve(y_test, y_test_predict_nb_calib, n_bins=10)\n",
    "\n",
    "#plt.plot(mean_predicted_value_nb_calib, fraction_of_positives_nb_calib, 's-', color='red', label='Calibrated (Isotonic)')\n",
    "\n",
    "# Calibrated, Platt\n",
    "clf_sigmoid_nb_calib_sig = CalibratedClassifierCV(clf_nb, cv=10, method='sigmoid')\n",
    "clf_sigmoid_nb_calib_sig.fit(X_train, y_train)\n",
    "\n",
    "y_test_predict_nb_calib_platt = clf_sigmoid_nb_calib_sig.predict_proba(X_test)[:, 1]\n",
    "yhat_calibrated_platt = clf_sigmoid_nb_calib_sig.predict(X_test)\n",
    "\n",
    "fraction_of_positives_nb_calib_platt, mean_predicted_value_nb_calib_platt = calibration_curve(y_test, y_test_predict_nb_calib_platt, n_bins=10)\n",
    "#plt.plot(mean_predicted_value_nb_calib_platt, fraction_of_positives_nb_calib_platt, 's-', color='orange', label='Calibrated (Platt)')\n",
    "\n",
    "end = time.time()\n",
    "hours, rem = divmod(end-start, 3600)\n",
    "minutes, seconds = divmod(rem, 60)\n",
    "print(\"\\nProcess Time: \"+\"{:0>2}:{:0>2}:{:05.2f}\".format(int(hours),int(minutes),seconds))"
   ]
  },
  {
   "cell_type": "code",
   "execution_count": 44,
   "id": "20bec626",
   "metadata": {
    "collapsed": false,
    "jupyter": {
     "outputs_hidden": false
    },
    "pycharm": {
     "name": "#%%\n"
    }
   },
   "outputs": [
    {
     "name": "stdout",
     "output_type": "stream",
     "text": [
      "              precision    recall  f1-score   support\n",
      "\n",
      "         0.0       0.72      0.62      0.66     53180\n",
      "         1.0       0.66      0.76      0.71     52876\n",
      "\n",
      "    accuracy                           0.69    106056\n",
      "   macro avg       0.69      0.69      0.69    106056\n",
      "weighted avg       0.69      0.69      0.69    106056\n",
      "\n"
     ]
    }
   ],
   "source": [
    "print(classification_report(y_test, yhat_nb))"
   ]
  },
  {
   "cell_type": "code",
   "execution_count": 45,
   "id": "8ca1b4d4",
   "metadata": {
    "collapsed": false,
    "jupyter": {
     "outputs_hidden": false
    },
    "pycharm": {
     "name": "#%%\n"
    }
   },
   "outputs": [
    {
     "name": "stdout",
     "output_type": "stream",
     "text": [
      "              precision    recall  f1-score   support\n",
      "\n",
      "         0.0       0.78      0.54      0.64     53180\n",
      "         1.0       0.65      0.85      0.73     52876\n",
      "\n",
      "    accuracy                           0.69    106056\n",
      "   macro avg       0.71      0.69      0.68    106056\n",
      "weighted avg       0.71      0.69      0.68    106056\n",
      "\n"
     ]
    }
   ],
   "source": [
    "print(classification_report(y_test, yhat_calibrated_nb))\n"
   ]
  },
  {
   "cell_type": "code",
   "execution_count": 46,
   "id": "c0fa7623",
   "metadata": {
    "collapsed": false,
    "jupyter": {
     "outputs_hidden": false
    },
    "pycharm": {
     "name": "#%%\n"
    }
   },
   "outputs": [
    {
     "name": "stdout",
     "output_type": "stream",
     "text": [
      "              precision    recall  f1-score   support\n",
      "\n",
      "         0.0       0.71      0.63      0.67     53180\n",
      "         1.0       0.67      0.74      0.70     52876\n",
      "\n",
      "    accuracy                           0.68    106056\n",
      "   macro avg       0.69      0.68      0.68    106056\n",
      "weighted avg       0.69      0.68      0.68    106056\n",
      "\n"
     ]
    }
   ],
   "source": [
    "print(classification_report(y_test, yhat_calibrated_platt))"
   ]
  },
  {
   "cell_type": "code",
   "execution_count": 47,
   "id": "9748f28f",
   "metadata": {
    "collapsed": false,
    "jupyter": {
     "outputs_hidden": false
    },
    "pycharm": {
     "name": "#%%\n"
    }
   },
   "outputs": [
    {
     "data": {
      "text/plain": [
       "(106056, 7)"
      ]
     },
     "execution_count": 47,
     "metadata": {},
     "output_type": "execute_result"
    }
   ],
   "source": [
    "final_df['Naive_Bias_Probability'] = y_test_predict_nb\n",
    "final_df['Isotonic_Calibrated_Naive_Bias_Probability'] = y_test_predict_nb_calib\n",
    "final_df['Sigmoid_Calibrated_Naive_Bias_Probability'] = y_test_predict_nb_calib_platt\n",
    "\n",
    "final_df.shape"
   ]
  },
  {
   "cell_type": "code",
   "execution_count": 48,
   "id": "3c08ef21",
   "metadata": {
    "collapsed": false,
    "jupyter": {
     "outputs_hidden": false
    },
    "pycharm": {
     "name": "#%%\n"
    }
   },
   "outputs": [
    {
     "data": {
      "text/html": [
       "<div>\n",
       "<style scoped>\n",
       "    .dataframe tbody tr th:only-of-type {\n",
       "        vertical-align: middle;\n",
       "    }\n",
       "\n",
       "    .dataframe tbody tr th {\n",
       "        vertical-align: top;\n",
       "    }\n",
       "\n",
       "    .dataframe thead th {\n",
       "        text-align: right;\n",
       "    }\n",
       "</style>\n",
       "<table border=\"1\" class=\"dataframe\">\n",
       "  <thead>\n",
       "    <tr style=\"text-align: right;\">\n",
       "      <th></th>\n",
       "      <th>PatientId</th>\n",
       "      <th>Actual_Diagnosis</th>\n",
       "      <th>Random_Forest_Probability</th>\n",
       "      <th>Calibrated_Random_Forest_Probability</th>\n",
       "      <th>Naive_Bias_Probability</th>\n",
       "      <th>Isotonic_Calibrated_Naive_Bias_Probability</th>\n",
       "      <th>Sigmoid_Calibrated_Naive_Bias_Probability</th>\n",
       "    </tr>\n",
       "  </thead>\n",
       "  <tbody>\n",
       "    <tr>\n",
       "      <th>427517</th>\n",
       "      <td>6552</td>\n",
       "      <td>1.0</td>\n",
       "      <td>0.381915</td>\n",
       "      <td>0.243132</td>\n",
       "      <td>0.648125</td>\n",
       "      <td>0.684556</td>\n",
       "      <td>0.741489</td>\n",
       "    </tr>\n",
       "    <tr>\n",
       "      <th>10486</th>\n",
       "      <td>6343</td>\n",
       "      <td>0.0</td>\n",
       "      <td>0.125597</td>\n",
       "      <td>0.033977</td>\n",
       "      <td>0.590879</td>\n",
       "      <td>0.680801</td>\n",
       "      <td>0.652669</td>\n",
       "    </tr>\n",
       "    <tr>\n",
       "      <th>293093</th>\n",
       "      <td>3559</td>\n",
       "      <td>1.0</td>\n",
       "      <td>0.914063</td>\n",
       "      <td>0.971265</td>\n",
       "      <td>0.381928</td>\n",
       "      <td>0.323934</td>\n",
       "      <td>0.286382</td>\n",
       "    </tr>\n",
       "    <tr>\n",
       "      <th>488448</th>\n",
       "      <td>8917</td>\n",
       "      <td>1.0</td>\n",
       "      <td>0.912064</td>\n",
       "      <td>0.970651</td>\n",
       "      <td>0.516978</td>\n",
       "      <td>0.598095</td>\n",
       "      <td>0.521183</td>\n",
       "    </tr>\n",
       "    <tr>\n",
       "      <th>26533</th>\n",
       "      <td>3465</td>\n",
       "      <td>0.0</td>\n",
       "      <td>0.046672</td>\n",
       "      <td>0.016430</td>\n",
       "      <td>0.626129</td>\n",
       "      <td>0.684556</td>\n",
       "      <td>0.709142</td>\n",
       "    </tr>\n",
       "  </tbody>\n",
       "</table>\n",
       "</div>"
      ],
      "text/plain": [
       "        PatientId  Actual_Diagnosis  Random_Forest_Probability  \\\n",
       "427517       6552               1.0                   0.381915   \n",
       "10486        6343               0.0                   0.125597   \n",
       "293093       3559               1.0                   0.914063   \n",
       "488448       8917               1.0                   0.912064   \n",
       "26533        3465               0.0                   0.046672   \n",
       "\n",
       "        Calibrated_Random_Forest_Probability  Naive_Bias_Probability  \\\n",
       "427517                              0.243132                0.648125   \n",
       "10486                               0.033977                0.590879   \n",
       "293093                              0.971265                0.381928   \n",
       "488448                              0.970651                0.516978   \n",
       "26533                               0.016430                0.626129   \n",
       "\n",
       "        Isotonic_Calibrated_Naive_Bias_Probability  \\\n",
       "427517                                    0.684556   \n",
       "10486                                     0.680801   \n",
       "293093                                    0.323934   \n",
       "488448                                    0.598095   \n",
       "26533                                     0.684556   \n",
       "\n",
       "        Sigmoid_Calibrated_Naive_Bias_Probability  \n",
       "427517                                   0.741489  \n",
       "10486                                    0.652669  \n",
       "293093                                   0.286382  \n",
       "488448                                   0.521183  \n",
       "26533                                    0.709142  "
      ]
     },
     "execution_count": 48,
     "metadata": {},
     "output_type": "execute_result"
    }
   ],
   "source": [
    "final_df.head()"
   ]
  },
  {
   "cell_type": "markdown",
   "id": "b435bf92",
   "metadata": {
    "pycharm": {
     "name": "#%% md\n"
    }
   },
   "source": [
    "**# Train Results**\n"
   ]
  },
  {
   "cell_type": "code",
   "execution_count": 49,
   "id": "df48d4c7",
   "metadata": {
    "collapsed": false,
    "jupyter": {
     "outputs_hidden": false
    },
    "pycharm": {
     "name": "#%%\n"
    }
   },
   "outputs": [],
   "source": [
    "# Random Forest\n",
    "y_predict_train = CV_clf_rf.predict_proba(X_train)[:, 1]\n",
    "yhat_predict_train = CV_clf_rf.predict(X_train)\n",
    "\n",
    "# Calibrated Random Forest\n",
    "y_predict_crf_train = clf_sigmoid.predict_proba(X_train)[:, 1]\n",
    "yhat_predict_crf_train = clf_sigmoid.predict(X_train)\n",
    "\n",
    "#NB\n",
    "\n",
    "y_predict_nb_train = clf_nb.predict_proba(X_train)[:, 1]\n",
    "yhat_predict_nb_train = clf_nb.predict(X_train)\n",
    "\n",
    "# Isotonic\n",
    "y_predict_nb_isotonic_train = clf_sigmoid_nb.predict_proba(X_train)[:, 1]\n",
    "yhat_predict_isotonic_train = clf_sigmoid_nb.predict(X_train)\n",
    "\n",
    "# Sigmoid\n",
    "y_predict_nb_sigmoid_train = clf_sigmoid_nb_calib_sig.predict_proba(X_train)[:, 1]\n",
    "yhat_predict_sigmoid_train = clf_sigmoid_nb_calib_sig.predict(X_train)"
   ]
  },
  {
   "cell_type": "code",
   "execution_count": 50,
   "id": "08374101",
   "metadata": {
    "collapsed": false,
    "jupyter": {
     "outputs_hidden": false
    },
    "pycharm": {
     "name": "#%%\n"
    }
   },
   "outputs": [
    {
     "data": {
      "text/plain": [
       "(424222, 7)"
      ]
     },
     "execution_count": 50,
     "metadata": {},
     "output_type": "execute_result"
    }
   ],
   "source": [
    "final_train_df = pd.DataFrame()\n",
    "final_train_df['PatientId'] = X_train.PatientId\n",
    "final_train_df['Actual_Diagnosis'] = y_train\n",
    "\n",
    "final_train_df['Random_Forest_Probability'] = y_predict_train\n",
    "final_train_df['Calibrated_Random_Forest_Probability'] = y_predict_crf_train\n",
    "final_train_df['Naive_Bias_Probability'] = y_predict_nb_train\n",
    "final_train_df['Isotonic_Calibrated_Naive_Bias_Probability'] = y_predict_nb_isotonic_train\n",
    "final_train_df['Sigmoid_Calibrated_Naive_Bias_Probability'] = y_predict_nb_sigmoid_train\n",
    "final_train_df.shape"
   ]
  },
  {
   "cell_type": "code",
   "execution_count": 51,
   "id": "1bdda225",
   "metadata": {
    "collapsed": false,
    "jupyter": {
     "outputs_hidden": false
    },
    "pycharm": {
     "name": "#%%\n"
    }
   },
   "outputs": [
    {
     "data": {
      "text/plain": [
       "530278"
      ]
     },
     "execution_count": 51,
     "metadata": {},
     "output_type": "execute_result"
    }
   ],
   "source": [
    "final_df.shape[0] + final_train_df.shape[0]"
   ]
  },
  {
   "cell_type": "code",
   "execution_count": 52,
   "id": "6ae2dce9",
   "metadata": {
    "collapsed": false,
    "jupyter": {
     "outputs_hidden": false
    },
    "pycharm": {
     "name": "#%%\n"
    }
   },
   "outputs": [
    {
     "data": {
      "text/plain": [
       "(530278, 7)"
      ]
     },
     "execution_count": 52,
     "metadata": {},
     "output_type": "execute_result"
    }
   ],
   "source": [
    "oud_df = final_df.append(final_train_df, ignore_index=True)\n",
    "oud_df.shape"
   ]
  },
  {
   "cell_type": "code",
   "execution_count": 53,
   "id": "44a7bff5",
   "metadata": {
    "collapsed": false,
    "jupyter": {
     "outputs_hidden": false
    },
    "pycharm": {
     "name": "#%%\n"
    }
   },
   "outputs": [
    {
     "data": {
      "text/html": [
       "<div>\n",
       "<style scoped>\n",
       "    .dataframe tbody tr th:only-of-type {\n",
       "        vertical-align: middle;\n",
       "    }\n",
       "\n",
       "    .dataframe tbody tr th {\n",
       "        vertical-align: top;\n",
       "    }\n",
       "\n",
       "    .dataframe thead th {\n",
       "        text-align: right;\n",
       "    }\n",
       "</style>\n",
       "<table border=\"1\" class=\"dataframe\">\n",
       "  <thead>\n",
       "    <tr style=\"text-align: right;\">\n",
       "      <th></th>\n",
       "      <th>PatientId</th>\n",
       "      <th>Actual_Diagnosis</th>\n",
       "      <th>Random_Forest_Probability</th>\n",
       "      <th>Calibrated_Random_Forest_Probability</th>\n",
       "      <th>Naive_Bias_Probability</th>\n",
       "      <th>Isotonic_Calibrated_Naive_Bias_Probability</th>\n",
       "      <th>Sigmoid_Calibrated_Naive_Bias_Probability</th>\n",
       "    </tr>\n",
       "  </thead>\n",
       "  <tbody>\n",
       "    <tr>\n",
       "      <th>0</th>\n",
       "      <td>985f1fc3-bce0-471e-b7b8-d518de876c26</td>\n",
       "      <td>1.0</td>\n",
       "      <td>0.381915</td>\n",
       "      <td>0.243132</td>\n",
       "      <td>0.648125</td>\n",
       "      <td>0.684556</td>\n",
       "      <td>0.741489</td>\n",
       "    </tr>\n",
       "    <tr>\n",
       "      <th>1</th>\n",
       "      <td>9310554d-f01a-4e7d-bffb-00808e1beb3a</td>\n",
       "      <td>0.0</td>\n",
       "      <td>0.125597</td>\n",
       "      <td>0.033977</td>\n",
       "      <td>0.590879</td>\n",
       "      <td>0.680801</td>\n",
       "      <td>0.652669</td>\n",
       "    </tr>\n",
       "    <tr>\n",
       "      <th>2</th>\n",
       "      <td>517721da-4043-4ec7-9805-581173ac6113</td>\n",
       "      <td>1.0</td>\n",
       "      <td>0.914063</td>\n",
       "      <td>0.971265</td>\n",
       "      <td>0.381928</td>\n",
       "      <td>0.323934</td>\n",
       "      <td>0.286382</td>\n",
       "    </tr>\n",
       "    <tr>\n",
       "      <th>3</th>\n",
       "      <td>c02a56c0-200e-4dae-9add-cae2a779682c</td>\n",
       "      <td>1.0</td>\n",
       "      <td>0.912064</td>\n",
       "      <td>0.970651</td>\n",
       "      <td>0.516978</td>\n",
       "      <td>0.598095</td>\n",
       "      <td>0.521183</td>\n",
       "    </tr>\n",
       "    <tr>\n",
       "      <th>4</th>\n",
       "      <td>4f1f7cf8-bfe3-4fea-b176-0cf8dfd80591</td>\n",
       "      <td>0.0</td>\n",
       "      <td>0.046672</td>\n",
       "      <td>0.016430</td>\n",
       "      <td>0.626129</td>\n",
       "      <td>0.684556</td>\n",
       "      <td>0.709142</td>\n",
       "    </tr>\n",
       "  </tbody>\n",
       "</table>\n",
       "</div>"
      ],
      "text/plain": [
       "                              PatientId  Actual_Diagnosis  \\\n",
       "0  985f1fc3-bce0-471e-b7b8-d518de876c26               1.0   \n",
       "1  9310554d-f01a-4e7d-bffb-00808e1beb3a               0.0   \n",
       "2  517721da-4043-4ec7-9805-581173ac6113               1.0   \n",
       "3  c02a56c0-200e-4dae-9add-cae2a779682c               1.0   \n",
       "4  4f1f7cf8-bfe3-4fea-b176-0cf8dfd80591               0.0   \n",
       "\n",
       "   Random_Forest_Probability  Calibrated_Random_Forest_Probability  \\\n",
       "0                   0.381915                              0.243132   \n",
       "1                   0.125597                              0.033977   \n",
       "2                   0.914063                              0.971265   \n",
       "3                   0.912064                              0.970651   \n",
       "4                   0.046672                              0.016430   \n",
       "\n",
       "   Naive_Bias_Probability  Isotonic_Calibrated_Naive_Bias_Probability  \\\n",
       "0                0.648125                                    0.684556   \n",
       "1                0.590879                                    0.680801   \n",
       "2                0.381928                                    0.323934   \n",
       "3                0.516978                                    0.598095   \n",
       "4                0.626129                                    0.684556   \n",
       "\n",
       "   Sigmoid_Calibrated_Naive_Bias_Probability  \n",
       "0                                   0.741489  \n",
       "1                                   0.652669  \n",
       "2                                   0.286382  \n",
       "3                                   0.521183  \n",
       "4                                   0.709142  "
      ]
     },
     "execution_count": 53,
     "metadata": {},
     "output_type": "execute_result"
    }
   ],
   "source": [
    "oud_df['PatientId'] = labelencoder.inverse_transform(oud_df['PatientId'])\n",
    "oud_df.head()"
   ]
  },
  {
   "cell_type": "code",
   "execution_count": 54,
   "id": "18faca80",
   "metadata": {
    "collapsed": false,
    "jupyter": {
     "outputs_hidden": false
    },
    "pycharm": {
     "name": "#%%\n"
    }
   },
   "outputs": [],
   "source": [
    "def calculate_opioid_score(final_df):\n",
    "    final_df['OUD_Score'] = (final_df['Random_Forest_Probability']*0.90) + (final_df['Calibrated_Random_Forest_Probability']*0.90) + (final_df['Naive_Bias_Probability']*0.69) + (final_df['Isotonic_Calibrated_Naive_Bias_Probability']*0.69) + (final_df['Sigmoid_Calibrated_Naive_Bias_Probability']*0.68)\n",
    "    \n",
    "    def NormalizeData(data):\n",
    "        return (data - np.min(data)) / (np.max(data) - np.min(data))\n",
    "    \n",
    "    final_df['OUD_Score'] = NormalizeData(final_df['OUD_Score'])\n",
    "    return final_df"
   ]
  },
  {
   "cell_type": "code",
   "execution_count": 56,
   "id": "1dc22137",
   "metadata": {
    "collapsed": false,
    "jupyter": {
     "outputs_hidden": false
    },
    "pycharm": {
     "name": "#%%\n"
    }
   },
   "outputs": [],
   "source": [
    "oud_df2 = oud_df.groupby(['PatientId', 'Actual_Diagnosis'], as_index=False)['Random_Forest_Probability', 'Calibrated_Random_Forest_Probability', 'Naive_Bias_Probability', 'Isotonic_Calibrated_Naive_Bias_Probability', 'Sigmoid_Calibrated_Naive_Bias_Probability'].mean()\n"
   ]
  },
  {
   "cell_type": "code",
   "execution_count": 57,
   "id": "f93100e7",
   "metadata": {
    "collapsed": false,
    "jupyter": {
     "outputs_hidden": false
    },
    "pycharm": {
     "name": "#%%\n"
    }
   },
   "outputs": [
    {
     "data": {
      "text/html": [
       "<div>\n",
       "<style scoped>\n",
       "    .dataframe tbody tr th:only-of-type {\n",
       "        vertical-align: middle;\n",
       "    }\n",
       "\n",
       "    .dataframe tbody tr th {\n",
       "        vertical-align: top;\n",
       "    }\n",
       "\n",
       "    .dataframe thead th {\n",
       "        text-align: right;\n",
       "    }\n",
       "</style>\n",
       "<table border=\"1\" class=\"dataframe\">\n",
       "  <thead>\n",
       "    <tr style=\"text-align: right;\">\n",
       "      <th></th>\n",
       "      <th>PatientId</th>\n",
       "      <th>Actual_Diagnosis</th>\n",
       "      <th>Random_Forest_Probability</th>\n",
       "      <th>Calibrated_Random_Forest_Probability</th>\n",
       "      <th>Naive_Bias_Probability</th>\n",
       "      <th>Isotonic_Calibrated_Naive_Bias_Probability</th>\n",
       "      <th>Sigmoid_Calibrated_Naive_Bias_Probability</th>\n",
       "    </tr>\n",
       "  </thead>\n",
       "  <tbody>\n",
       "    <tr>\n",
       "      <th>0</th>\n",
       "      <td>0002C218-D30F-402E-AE08-1280AD4FB669</td>\n",
       "      <td>1.0</td>\n",
       "      <td>0.732396</td>\n",
       "      <td>0.875178</td>\n",
       "      <td>0.584981</td>\n",
       "      <td>0.649804</td>\n",
       "      <td>0.658299</td>\n",
       "    </tr>\n",
       "    <tr>\n",
       "      <th>1</th>\n",
       "      <td>00095350-9e64-4b34-9112-b9869703248b</td>\n",
       "      <td>1.0</td>\n",
       "      <td>0.977975</td>\n",
       "      <td>0.983623</td>\n",
       "      <td>0.646214</td>\n",
       "      <td>0.684556</td>\n",
       "      <td>0.738415</td>\n",
       "    </tr>\n",
       "    <tr>\n",
       "      <th>2</th>\n",
       "      <td>00095653-80f8-4fba-93d9-44ae70bb6263</td>\n",
       "      <td>1.0</td>\n",
       "      <td>0.937998</td>\n",
       "      <td>0.978151</td>\n",
       "      <td>0.430832</td>\n",
       "      <td>0.398299</td>\n",
       "      <td>0.370653</td>\n",
       "    </tr>\n",
       "    <tr>\n",
       "      <th>3</th>\n",
       "      <td>0010E3BE-81BD-48A3-8282-8C8D0B1F9629</td>\n",
       "      <td>0.0</td>\n",
       "      <td>0.352018</td>\n",
       "      <td>0.301946</td>\n",
       "      <td>0.468026</td>\n",
       "      <td>0.454924</td>\n",
       "      <td>0.452065</td>\n",
       "    </tr>\n",
       "    <tr>\n",
       "      <th>4</th>\n",
       "      <td>0015a4a8-99f1-4119-9e10-0ac9773ae48a</td>\n",
       "      <td>1.0</td>\n",
       "      <td>0.979991</td>\n",
       "      <td>0.983936</td>\n",
       "      <td>0.555581</td>\n",
       "      <td>0.650397</td>\n",
       "      <td>0.591459</td>\n",
       "    </tr>\n",
       "  </tbody>\n",
       "</table>\n",
       "</div>"
      ],
      "text/plain": [
       "                              PatientId  Actual_Diagnosis  \\\n",
       "0  0002C218-D30F-402E-AE08-1280AD4FB669               1.0   \n",
       "1  00095350-9e64-4b34-9112-b9869703248b               1.0   \n",
       "2  00095653-80f8-4fba-93d9-44ae70bb6263               1.0   \n",
       "3  0010E3BE-81BD-48A3-8282-8C8D0B1F9629               0.0   \n",
       "4  0015a4a8-99f1-4119-9e10-0ac9773ae48a               1.0   \n",
       "\n",
       "   Random_Forest_Probability  Calibrated_Random_Forest_Probability  \\\n",
       "0                   0.732396                              0.875178   \n",
       "1                   0.977975                              0.983623   \n",
       "2                   0.937998                              0.978151   \n",
       "3                   0.352018                              0.301946   \n",
       "4                   0.979991                              0.983936   \n",
       "\n",
       "   Naive_Bias_Probability  Isotonic_Calibrated_Naive_Bias_Probability  \\\n",
       "0                0.584981                                    0.649804   \n",
       "1                0.646214                                    0.684556   \n",
       "2                0.430832                                    0.398299   \n",
       "3                0.468026                                    0.454924   \n",
       "4                0.555581                                    0.650397   \n",
       "\n",
       "   Sigmoid_Calibrated_Naive_Bias_Probability  \n",
       "0                                   0.658299  \n",
       "1                                   0.738415  \n",
       "2                                   0.370653  \n",
       "3                                   0.452065  \n",
       "4                                   0.591459  "
      ]
     },
     "execution_count": 57,
     "metadata": {},
     "output_type": "execute_result"
    }
   ],
   "source": [
    "oud_df2.head()"
   ]
  },
  {
   "cell_type": "code",
   "execution_count": 58,
   "id": "f4e0b834",
   "metadata": {
    "collapsed": false,
    "jupyter": {
     "outputs_hidden": false
    },
    "pycharm": {
     "name": "#%%\n"
    }
   },
   "outputs": [],
   "source": [
    "oud_df2 = calculate_opioid_score(oud_df2)\n",
    "oud_df = calculate_opioid_score(oud_df)"
   ]
  },
  {
   "cell_type": "code",
   "execution_count": 59,
   "id": "04061c3a",
   "metadata": {
    "collapsed": false,
    "jupyter": {
     "outputs_hidden": false
    },
    "pycharm": {
     "name": "#%%\n"
    }
   },
   "outputs": [
    {
     "data": {
      "text/html": [
       "<div>\n",
       "<style scoped>\n",
       "    .dataframe tbody tr th:only-of-type {\n",
       "        vertical-align: middle;\n",
       "    }\n",
       "\n",
       "    .dataframe tbody tr th {\n",
       "        vertical-align: top;\n",
       "    }\n",
       "\n",
       "    .dataframe thead th {\n",
       "        text-align: right;\n",
       "    }\n",
       "</style>\n",
       "<table border=\"1\" class=\"dataframe\">\n",
       "  <thead>\n",
       "    <tr style=\"text-align: right;\">\n",
       "      <th></th>\n",
       "      <th>PatientId</th>\n",
       "      <th>Actual_Diagnosis</th>\n",
       "      <th>Random_Forest_Probability</th>\n",
       "      <th>Calibrated_Random_Forest_Probability</th>\n",
       "      <th>Naive_Bias_Probability</th>\n",
       "      <th>Isotonic_Calibrated_Naive_Bias_Probability</th>\n",
       "      <th>Sigmoid_Calibrated_Naive_Bias_Probability</th>\n",
       "      <th>OUD_Score</th>\n",
       "    </tr>\n",
       "  </thead>\n",
       "  <tbody>\n",
       "    <tr>\n",
       "      <th>0</th>\n",
       "      <td>985f1fc3-bce0-471e-b7b8-d518de876c26</td>\n",
       "      <td>1.0</td>\n",
       "      <td>0.381915</td>\n",
       "      <td>0.243132</td>\n",
       "      <td>0.648125</td>\n",
       "      <td>0.684556</td>\n",
       "      <td>0.741489</td>\n",
       "      <td>0.592080</td>\n",
       "    </tr>\n",
       "    <tr>\n",
       "      <th>1</th>\n",
       "      <td>9310554d-f01a-4e7d-bffb-00808e1beb3a</td>\n",
       "      <td>0.0</td>\n",
       "      <td>0.125597</td>\n",
       "      <td>0.033977</td>\n",
       "      <td>0.590879</td>\n",
       "      <td>0.680801</td>\n",
       "      <td>0.652669</td>\n",
       "      <td>0.429803</td>\n",
       "    </tr>\n",
       "    <tr>\n",
       "      <th>2</th>\n",
       "      <td>517721da-4043-4ec7-9805-581173ac6113</td>\n",
       "      <td>1.0</td>\n",
       "      <td>0.914063</td>\n",
       "      <td>0.971265</td>\n",
       "      <td>0.381928</td>\n",
       "      <td>0.323934</td>\n",
       "      <td>0.286382</td>\n",
       "      <td>0.714166</td>\n",
       "    </tr>\n",
       "    <tr>\n",
       "      <th>3</th>\n",
       "      <td>c02a56c0-200e-4dae-9add-cae2a779682c</td>\n",
       "      <td>1.0</td>\n",
       "      <td>0.912064</td>\n",
       "      <td>0.970651</td>\n",
       "      <td>0.516978</td>\n",
       "      <td>0.598095</td>\n",
       "      <td>0.521183</td>\n",
       "      <td>0.851003</td>\n",
       "    </tr>\n",
       "    <tr>\n",
       "      <th>4</th>\n",
       "      <td>4f1f7cf8-bfe3-4fea-b176-0cf8dfd80591</td>\n",
       "      <td>0.0</td>\n",
       "      <td>0.046672</td>\n",
       "      <td>0.016430</td>\n",
       "      <td>0.626129</td>\n",
       "      <td>0.684556</td>\n",
       "      <td>0.709142</td>\n",
       "      <td>0.423108</td>\n",
       "    </tr>\n",
       "  </tbody>\n",
       "</table>\n",
       "</div>"
      ],
      "text/plain": [
       "                              PatientId  Actual_Diagnosis  \\\n",
       "0  985f1fc3-bce0-471e-b7b8-d518de876c26               1.0   \n",
       "1  9310554d-f01a-4e7d-bffb-00808e1beb3a               0.0   \n",
       "2  517721da-4043-4ec7-9805-581173ac6113               1.0   \n",
       "3  c02a56c0-200e-4dae-9add-cae2a779682c               1.0   \n",
       "4  4f1f7cf8-bfe3-4fea-b176-0cf8dfd80591               0.0   \n",
       "\n",
       "   Random_Forest_Probability  Calibrated_Random_Forest_Probability  \\\n",
       "0                   0.381915                              0.243132   \n",
       "1                   0.125597                              0.033977   \n",
       "2                   0.914063                              0.971265   \n",
       "3                   0.912064                              0.970651   \n",
       "4                   0.046672                              0.016430   \n",
       "\n",
       "   Naive_Bias_Probability  Isotonic_Calibrated_Naive_Bias_Probability  \\\n",
       "0                0.648125                                    0.684556   \n",
       "1                0.590879                                    0.680801   \n",
       "2                0.381928                                    0.323934   \n",
       "3                0.516978                                    0.598095   \n",
       "4                0.626129                                    0.684556   \n",
       "\n",
       "   Sigmoid_Calibrated_Naive_Bias_Probability  OUD_Score  \n",
       "0                                   0.741489   0.592080  \n",
       "1                                   0.652669   0.429803  \n",
       "2                                   0.286382   0.714166  \n",
       "3                                   0.521183   0.851003  \n",
       "4                                   0.709142   0.423108  "
      ]
     },
     "execution_count": 59,
     "metadata": {},
     "output_type": "execute_result"
    }
   ],
   "source": [
    "oud_df.head()"
   ]
  },
  {
   "cell_type": "code",
   "execution_count": 60,
   "id": "fdea6dd9",
   "metadata": {
    "collapsed": false,
    "jupyter": {
     "outputs_hidden": false
    },
    "pycharm": {
     "name": "#%%\n"
    }
   },
   "outputs": [
    {
     "data": {
      "text/plain": [
       "['PatientId',\n",
       " 'Actual_Diagnosis',\n",
       " 'OUD_Score',\n",
       " 'Random_Forest_Probability',\n",
       " 'Calibrated_Random_Forest_Probability',\n",
       " 'Naive_Bias_Probability',\n",
       " 'Isotonic_Calibrated_Naive_Bias_Probability',\n",
       " 'Sigmoid_Calibrated_Naive_Bias_Probability']"
      ]
     },
     "execution_count": 60,
     "metadata": {},
     "output_type": "execute_result"
    }
   ],
   "source": [
    "cols = oud_df.columns.tolist()\n",
    "cols = cols[:2] + cols[-1:] + cols[2:-1]\n",
    "cols"
   ]
  },
  {
   "cell_type": "code",
   "execution_count": 61,
   "id": "0f721777",
   "metadata": {
    "collapsed": false,
    "jupyter": {
     "outputs_hidden": false
    },
    "pycharm": {
     "name": "#%%\n"
    }
   },
   "outputs": [],
   "source": [
    "oud_df = oud_df[cols]\n",
    "oud_df2 = oud_df2[cols]"
   ]
  },
  {
   "cell_type": "code",
   "execution_count": 62,
   "id": "38c7661a",
   "metadata": {
    "collapsed": false,
    "jupyter": {
     "outputs_hidden": false
    },
    "pycharm": {
     "name": "#%%\n"
    }
   },
   "outputs": [],
   "source": [
    "oud_df.to_csv(\"../dataset/oud_Results.csv\", index=False)\n",
    "oud_df2.to_csv(\"../dataset/Unique_oud_Results.csv\", index=False)"
   ]
  },
  {
   "cell_type": "code",
   "execution_count": 63,
   "id": "ee44bccb",
   "metadata": {
    "collapsed": false,
    "jupyter": {
     "outputs_hidden": false
    },
    "pycharm": {
     "name": "#%%\n"
    }
   },
   "outputs": [
    {
     "data": {
      "text/html": [
       "<div>\n",
       "<style scoped>\n",
       "    .dataframe tbody tr th:only-of-type {\n",
       "        vertical-align: middle;\n",
       "    }\n",
       "\n",
       "    .dataframe tbody tr th {\n",
       "        vertical-align: top;\n",
       "    }\n",
       "\n",
       "    .dataframe thead th {\n",
       "        text-align: right;\n",
       "    }\n",
       "</style>\n",
       "<table border=\"1\" class=\"dataframe\">\n",
       "  <thead>\n",
       "    <tr style=\"text-align: right;\">\n",
       "      <th></th>\n",
       "      <th>PatientId</th>\n",
       "      <th>Actual_Diagnosis</th>\n",
       "      <th>OUD_Score</th>\n",
       "      <th>Random_Forest_Probability</th>\n",
       "      <th>Calibrated_Random_Forest_Probability</th>\n",
       "      <th>Naive_Bias_Probability</th>\n",
       "      <th>Isotonic_Calibrated_Naive_Bias_Probability</th>\n",
       "      <th>Sigmoid_Calibrated_Naive_Bias_Probability</th>\n",
       "    </tr>\n",
       "  </thead>\n",
       "  <tbody>\n",
       "    <tr>\n",
       "      <th>0</th>\n",
       "      <td>0002C218-D30F-402E-AE08-1280AD4FB669</td>\n",
       "      <td>1.0</td>\n",
       "      <td>0.832533</td>\n",
       "      <td>0.732396</td>\n",
       "      <td>0.875178</td>\n",
       "      <td>0.584981</td>\n",
       "      <td>0.649804</td>\n",
       "      <td>0.658299</td>\n",
       "    </tr>\n",
       "    <tr>\n",
       "      <th>1</th>\n",
       "      <td>00095350-9e64-4b34-9112-b9869703248b</td>\n",
       "      <td>1.0</td>\n",
       "      <td>0.973874</td>\n",
       "      <td>0.977975</td>\n",
       "      <td>0.983623</td>\n",
       "      <td>0.646214</td>\n",
       "      <td>0.684556</td>\n",
       "      <td>0.738415</td>\n",
       "    </tr>\n",
       "    <tr>\n",
       "      <th>2</th>\n",
       "      <td>00095653-80f8-4fba-93d9-44ae70bb6263</td>\n",
       "      <td>1.0</td>\n",
       "      <td>0.768901</td>\n",
       "      <td>0.937998</td>\n",
       "      <td>0.978151</td>\n",
       "      <td>0.430832</td>\n",
       "      <td>0.398299</td>\n",
       "      <td>0.370653</td>\n",
       "    </tr>\n",
       "    <tr>\n",
       "      <th>3</th>\n",
       "      <td>0010E3BE-81BD-48A3-8282-8C8D0B1F9629</td>\n",
       "      <td>0.0</td>\n",
       "      <td>0.442074</td>\n",
       "      <td>0.352018</td>\n",
       "      <td>0.301946</td>\n",
       "      <td>0.468026</td>\n",
       "      <td>0.454924</td>\n",
       "      <td>0.452065</td>\n",
       "    </tr>\n",
       "    <tr>\n",
       "      <th>4</th>\n",
       "      <td>0015a4a8-99f1-4119-9e10-0ac9773ae48a</td>\n",
       "      <td>1.0</td>\n",
       "      <td>0.914697</td>\n",
       "      <td>0.979991</td>\n",
       "      <td>0.983936</td>\n",
       "      <td>0.555581</td>\n",
       "      <td>0.650397</td>\n",
       "      <td>0.591459</td>\n",
       "    </tr>\n",
       "  </tbody>\n",
       "</table>\n",
       "</div>"
      ],
      "text/plain": [
       "                              PatientId  Actual_Diagnosis  OUD_Score  \\\n",
       "0  0002C218-D30F-402E-AE08-1280AD4FB669               1.0   0.832533   \n",
       "1  00095350-9e64-4b34-9112-b9869703248b               1.0   0.973874   \n",
       "2  00095653-80f8-4fba-93d9-44ae70bb6263               1.0   0.768901   \n",
       "3  0010E3BE-81BD-48A3-8282-8C8D0B1F9629               0.0   0.442074   \n",
       "4  0015a4a8-99f1-4119-9e10-0ac9773ae48a               1.0   0.914697   \n",
       "\n",
       "   Random_Forest_Probability  Calibrated_Random_Forest_Probability  \\\n",
       "0                   0.732396                              0.875178   \n",
       "1                   0.977975                              0.983623   \n",
       "2                   0.937998                              0.978151   \n",
       "3                   0.352018                              0.301946   \n",
       "4                   0.979991                              0.983936   \n",
       "\n",
       "   Naive_Bias_Probability  Isotonic_Calibrated_Naive_Bias_Probability  \\\n",
       "0                0.584981                                    0.649804   \n",
       "1                0.646214                                    0.684556   \n",
       "2                0.430832                                    0.398299   \n",
       "3                0.468026                                    0.454924   \n",
       "4                0.555581                                    0.650397   \n",
       "\n",
       "   Sigmoid_Calibrated_Naive_Bias_Probability  \n",
       "0                                   0.658299  \n",
       "1                                   0.738415  \n",
       "2                                   0.370653  \n",
       "3                                   0.452065  \n",
       "4                                   0.591459  "
      ]
     },
     "execution_count": 63,
     "metadata": {},
     "output_type": "execute_result"
    }
   ],
   "source": [
    "oud_file = pd.read_csv(\"../dataset/Unique_Oud_Results.csv\")\n",
    "oud_file.head()"
   ]
  },
  {
   "cell_type": "code",
   "execution_count": 64,
   "id": "2db92b83",
   "metadata": {
    "collapsed": false,
    "jupyter": {
     "outputs_hidden": false
    },
    "pycharm": {
     "name": "#%%\n"
    }
   },
   "outputs": [
    {
     "data": {
      "text/plain": [
       "530278"
      ]
     },
     "execution_count": 64,
     "metadata": {},
     "output_type": "execute_result"
    }
   ],
   "source": [
    "conn = sql.connect(\"../dataset/oud_df.db\")\n",
    "oud_df.to_sql(\"../dataset/oud_df\", conn, if_exists='replace')"
   ]
  },
  {
   "cell_type": "code",
   "execution_count": 65,
   "id": "6bad336d",
   "metadata": {
    "collapsed": false,
    "jupyter": {
     "outputs_hidden": false
    },
    "pycharm": {
     "name": "#%%\n"
    }
   },
   "outputs": [
    {
     "data": {
      "text/plain": [
       "11004"
      ]
     },
     "execution_count": 65,
     "metadata": {},
     "output_type": "execute_result"
    }
   ],
   "source": [
    "conn2 = sql.connect(\"../dataset/unique_oud_results.db\")\n",
    "oud_df2.to_sql(\"../dataset/unique_oud_results\", conn2, if_exists='replace')"
   ]
  }
 ],
 "metadata": {
  "kernelspec": {
   "display_name": "Python 3 (ipykernel)",
   "language": "python",
   "name": "python3"
  },
  "language_info": {
   "codemirror_mode": {
    "name": "ipython",
    "version": 3
   },
   "file_extension": ".py",
   "mimetype": "text/x-python",
   "name": "python",
   "nbconvert_exporter": "python",
   "pygments_lexer": "ipython3",
   "version": "3.10.6"
  }
 },
 "nbformat": 4,
 "nbformat_minor": 5
}