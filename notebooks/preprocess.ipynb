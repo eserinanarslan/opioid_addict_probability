{
 "cells": [
  {
   "cell_type": "code",
   "execution_count": 69,
   "id": "8c4f6c11-6979-4f6d-a7c7-67cd6f57ed94",
   "metadata": {
    "pycharm": {
     "name": "#%%\n"
    }
   },
   "outputs": [
    {
     "name": "stdout",
     "output_type": "stream",
     "text": [
      "Requirement already satisfied: sklearn in c:\\users\\eias\\appdata\\local\\programs\\python\\python39\\lib\\site-packages (0.0)\n",
      "Requirement already satisfied: scikit-learn in c:\\users\\eias\\appdata\\local\\programs\\python\\python39\\lib\\site-packages (from sklearn) (1.0.2)\n",
      "Requirement already satisfied: numpy>=1.14.6 in c:\\users\\eias\\appdata\\local\\programs\\python\\python39\\lib\\site-packages (from scikit-learn->sklearn) (1.22.3)\n",
      "Requirement already satisfied: threadpoolctl>=2.0.0 in c:\\users\\eias\\appdata\\local\\programs\\python\\python39\\lib\\site-packages (from scikit-learn->sklearn) (3.1.0)\n",
      "Requirement already satisfied: scipy>=1.1.0 in c:\\users\\eias\\appdata\\local\\programs\\python\\python39\\lib\\site-packages (from scikit-learn->sklearn) (1.8.0)\n",
      "Requirement already satisfied: joblib>=0.11 in c:\\users\\eias\\appdata\\local\\programs\\python\\python39\\lib\\site-packages (from scikit-learn->sklearn) (1.1.0)\n"
     ]
    }
   ],
   "source": [
    "!pip install sklearn"
   ]
  },
  {
   "cell_type": "code",
   "execution_count": 1,
   "id": "2aa78413-561d-497d-835b-793ab14eebf6",
   "metadata": {
    "pycharm": {
     "name": "#%%\n"
    }
   },
   "outputs": [],
   "source": [
    "import pandas as pd\n",
    "import numpy as np\n",
    "import matplotlib.pyplot as plt\n",
    "import seaborn as sns\n",
    "import random\n",
    "from datetime import datetime\n",
    "\n",
    "%matplotlib inline\n",
    "\n",
    "import datetime as dt"
   ]
  },
  {
   "cell_type": "code",
   "execution_count": 2,
   "id": "ab660a2a-30d3-420f-a2dc-8d63cf815180",
   "metadata": {
    "pycharm": {
     "name": "#%%\n"
    }
   },
   "outputs": [],
   "source": [
    "from sklearn.preprocessing import LabelEncoder, OneHotEncoder\n",
    "from sklearn.preprocessing import MinMaxScaler\n",
    "\n",
    "from sklearn.pipeline import make_pipeline\n",
    "from sklearn.metrics import mean_squared_error, mean_absolute_error, mean_squared_log_error, make_scorer\n",
    "\n",
    "\n",
    "from sklearn.model_selection import GridSearchCV\n",
    "from sklearn.tree import DecisionTreeRegressor\n",
    "from sklearn.ensemble import RandomForestClassifier\n",
    "\n"
   ]
  },
  {
   "cell_type": "code",
   "execution_count": 3,
   "id": "e67e5fc6-938b-45c2-a603-83f4db19b000",
   "metadata": {
    "pycharm": {
     "name": "#%%\n"
    }
   },
   "outputs": [],
   "source": [
    "import warnings\n",
    "warnings.filterwarnings('ignore')"
   ]
  },
  {
   "cell_type": "code",
   "execution_count": 4,
   "id": "209ffe32-a7a5-4f29-8085-2cc1e4307ea1",
   "metadata": {
    "pycharm": {
     "name": "#%%\n"
    }
   },
   "outputs": [],
   "source": [
    "def reduce_mem_usage(df, verbose=True):\n",
    "    numerics = ['int16', 'int32', 'int64', 'float16', 'float32', 'float64']\n",
    "    start_mem = df.memory_usage().sum() / 1024**2    \n",
    "    for col in df.columns:\n",
    "        col_type = df[col].dtypes\n",
    "        if col_type in numerics:\n",
    "            c_min = df[col].min()\n",
    "            c_max = df[col].max()\n",
    "            if str(col_type)[:3] == 'int':\n",
    "                if c_min > np.iinfo(np.int8).min and c_max < np.iinfo(np.int8).max:\n",
    "                    df[col] = df[col].astype(np.int8)\n",
    "                elif c_min > np.iinfo(np.int16).min and c_max < np.iinfo(np.int16).max:\n",
    "                    df[col] = df[col].astype(np.int16)\n",
    "                elif c_min > np.iinfo(np.int32).min and c_max < np.iinfo(np.int32).max:\n",
    "                    df[col] = df[col].astype(np.int32)\n",
    "                elif c_min > np.iinfo(np.int64).min and c_max < np.iinfo(np.int64).max:\n",
    "                    df[col] = df[col].astype(np.int64)  \n",
    "            else:\n",
    "                if c_min > np.finfo(np.float16).min and c_max < np.finfo(np.float16).max:\n",
    "                    df[col] = df[col].astype(np.float16)\n",
    "                elif c_min > np.finfo(np.float32).min and c_max < np.finfo(np.float32).max:\n",
    "                    df[col] = df[col].astype(np.float32)\n",
    "                else:\n",
    "                    df[col] = df[col].astype(np.float64)    \n",
    "    end_mem = df.memory_usage().sum() / 1024**2\n",
    "    if verbose: print('Mem. usage decreased to {:5.2f} Mb ({:.1f}% reduction)'.format(end_mem, 100 * (start_mem - end_mem) / start_mem))\n",
    "    return df"
   ]
  },
  {
   "cell_type": "code",
   "execution_count": 5,
   "id": "4fcc6d24-4032-47cb-af07-cd65045a4507",
   "metadata": {
    "pycharm": {
     "name": "#%%\n"
    }
   },
   "outputs": [],
   "source": [
    "app_starts_july_df = pd.read_csv(\"../dataset/app starts july.txt\", delimiter=\"\\t\")\n"
   ]
  },
  {
   "cell_type": "code",
   "execution_count": 13,
   "id": "6e4e3af3-5173-44f3-a34f-cdf73ef48c49",
   "metadata": {
    "pycharm": {
     "name": "#%%\n"
    }
   },
   "outputs": [
    {
     "name": "stdout",
     "output_type": "stream",
     "text": [
      "App Starts Dataset\n"
     ]
    },
    {
     "data": {
      "text/html": [
       "<div>\n",
       "<style scoped>\n",
       "    .dataframe tbody tr th:only-of-type {\n",
       "        vertical-align: middle;\n",
       "    }\n",
       "\n",
       "    .dataframe tbody tr th {\n",
       "        vertical-align: top;\n",
       "    }\n",
       "\n",
       "    .dataframe thead th {\n",
       "        text-align: right;\n",
       "    }\n",
       "</style>\n",
       "<table border=\"1\" class=\"dataframe\">\n",
       "  <thead>\n",
       "    <tr style=\"text-align: right;\">\n",
       "      <th></th>\n",
       "      <th>dateCreated</th>\n",
       "      <th>userId</th>\n",
       "    </tr>\n",
       "  </thead>\n",
       "  <tbody>\n",
       "    <tr>\n",
       "      <th>0</th>\n",
       "      <td>2017-06-30 14:14:54.7930000</td>\n",
       "      <td>50e72534-a4f4-40d7-96d5-ecbe4eb314e9</td>\n",
       "    </tr>\n",
       "    <tr>\n",
       "      <th>1</th>\n",
       "      <td>2017-06-30 14:03:13.0100000</td>\n",
       "      <td>b3712849-595e-403f-84d2-4698439056b0</td>\n",
       "    </tr>\n",
       "    <tr>\n",
       "      <th>2</th>\n",
       "      <td>2017-06-28 16:26:48.3830000</td>\n",
       "      <td>99cea50b-3ecf-4102-8290-997eaf32a6b6</td>\n",
       "    </tr>\n",
       "    <tr>\n",
       "      <th>3</th>\n",
       "      <td>2017-06-27 10:23:29.9430000</td>\n",
       "      <td>78c06433-9ea8-4835-aff5-f64b262d0fb4</td>\n",
       "    </tr>\n",
       "    <tr>\n",
       "      <th>4</th>\n",
       "      <td>2017-06-27 10:11:27.6340000</td>\n",
       "      <td>510c5f9e-de54-45ee-909c-c14103130e5e</td>\n",
       "    </tr>\n",
       "  </tbody>\n",
       "</table>\n",
       "</div>"
      ],
      "text/plain": [
       "                   dateCreated                                userId\n",
       "0  2017-06-30 14:14:54.7930000  50e72534-a4f4-40d7-96d5-ecbe4eb314e9\n",
       "1  2017-06-30 14:03:13.0100000  b3712849-595e-403f-84d2-4698439056b0\n",
       "2  2017-06-28 16:26:48.3830000  99cea50b-3ecf-4102-8290-997eaf32a6b6\n",
       "3  2017-06-27 10:23:29.9430000  78c06433-9ea8-4835-aff5-f64b262d0fb4\n",
       "4  2017-06-27 10:11:27.6340000  510c5f9e-de54-45ee-909c-c14103130e5e"
      ]
     },
     "execution_count": 13,
     "metadata": {},
     "output_type": "execute_result"
    }
   ],
   "source": [
    "app_starts_df = pd.read_csv(\"../dataset/app starts.txt\", delimiter=\"\\t\")\n",
    "print(\"App Starts Dataset\")\n",
    "app_starts_df.head()"
   ]
  },
  {
   "cell_type": "code",
   "execution_count": 16,
   "id": "1174c407-8277-4e15-b28e-5a5a23619292",
   "metadata": {
    "pycharm": {
     "name": "#%%\n"
    }
   },
   "outputs": [
    {
     "name": "stdout",
     "output_type": "stream",
     "text": [
      "July Brochure View Dataset\n"
     ]
    },
    {
     "data": {
      "text/html": [
       "<div>\n",
       "<style scoped>\n",
       "    .dataframe tbody tr th:only-of-type {\n",
       "        vertical-align: middle;\n",
       "    }\n",
       "\n",
       "    .dataframe tbody tr th {\n",
       "        vertical-align: top;\n",
       "    }\n",
       "\n",
       "    .dataframe thead th {\n",
       "        text-align: right;\n",
       "    }\n",
       "</style>\n",
       "<table border=\"1\" class=\"dataframe\">\n",
       "  <thead>\n",
       "    <tr style=\"text-align: right;\">\n",
       "      <th></th>\n",
       "      <th>id</th>\n",
       "      <th>userId</th>\n",
       "      <th>dateCreated</th>\n",
       "      <th>page_turn_count</th>\n",
       "      <th>view_duration</th>\n",
       "      <th>brochure_id</th>\n",
       "    </tr>\n",
       "  </thead>\n",
       "  <tbody>\n",
       "    <tr>\n",
       "      <th>0</th>\n",
       "      <td>10670800401</td>\n",
       "      <td>a1bf423c-35d2-4509-8ad2-ec262e46bdb8</td>\n",
       "      <td>2017-07-30 23:55:20.4010000</td>\n",
       "      <td>44</td>\n",
       "      <td>182139.0</td>\n",
       "      <td>631732085</td>\n",
       "    </tr>\n",
       "    <tr>\n",
       "      <th>1</th>\n",
       "      <td>12024284821</td>\n",
       "      <td>C9DAFB1D-5D4C-40C4-B3F7-9C542594D128</td>\n",
       "      <td>2017-07-29 12:34:07.0660000</td>\n",
       "      <td>2</td>\n",
       "      <td>3000.0</td>\n",
       "      <td>708990288</td>\n",
       "    </tr>\n",
       "    <tr>\n",
       "      <th>2</th>\n",
       "      <td>12026473907</td>\n",
       "      <td>C9DAFB1D-5D4C-40C4-B3F7-9C542594D128</td>\n",
       "      <td>2017-07-29 12:33:21.5520000</td>\n",
       "      <td>26</td>\n",
       "      <td>41000.0</td>\n",
       "      <td>631734737</td>\n",
       "    </tr>\n",
       "    <tr>\n",
       "      <th>3</th>\n",
       "      <td>12026471343</td>\n",
       "      <td>C9DAFB1D-5D4C-40C4-B3F7-9C542594D128</td>\n",
       "      <td>2017-07-29 12:32:48.5690000</td>\n",
       "      <td>2</td>\n",
       "      <td>28000.0</td>\n",
       "      <td>709711204</td>\n",
       "    </tr>\n",
       "    <tr>\n",
       "      <th>4</th>\n",
       "      <td>12026471276</td>\n",
       "      <td>C9DAFB1D-5D4C-40C4-B3F7-9C542594D128</td>\n",
       "      <td>2017-07-29 12:32:39.8430000</td>\n",
       "      <td>4</td>\n",
       "      <td>6000.0</td>\n",
       "      <td>709626332</td>\n",
       "    </tr>\n",
       "  </tbody>\n",
       "</table>\n",
       "</div>"
      ],
      "text/plain": [
       "            id                                userId  \\\n",
       "0  10670800401  a1bf423c-35d2-4509-8ad2-ec262e46bdb8   \n",
       "1  12024284821  C9DAFB1D-5D4C-40C4-B3F7-9C542594D128   \n",
       "2  12026473907  C9DAFB1D-5D4C-40C4-B3F7-9C542594D128   \n",
       "3  12026471343  C9DAFB1D-5D4C-40C4-B3F7-9C542594D128   \n",
       "4  12026471276  C9DAFB1D-5D4C-40C4-B3F7-9C542594D128   \n",
       "\n",
       "                   dateCreated  page_turn_count  view_duration  brochure_id  \n",
       "0  2017-07-30 23:55:20.4010000               44       182139.0    631732085  \n",
       "1  2017-07-29 12:34:07.0660000                2         3000.0    708990288  \n",
       "2  2017-07-29 12:33:21.5520000               26        41000.0    631734737  \n",
       "3  2017-07-29 12:32:48.5690000                2        28000.0    709711204  \n",
       "4  2017-07-29 12:32:39.8430000                4         6000.0    709626332  "
      ]
     },
     "execution_count": 16,
     "metadata": {},
     "output_type": "execute_result"
    }
   ],
   "source": [
    "brochure_views_july_df = pd.read_csv(\"../dataset/brochure views july.txt\", delimiter=\"\\t\")\n",
    "print(\"July Brochure View Dataset\")\n",
    "brochure_views_july_df.head()"
   ]
  },
  {
   "cell_type": "code",
   "execution_count": 14,
   "id": "49a0b90c-6e50-44d4-ae0e-ed8355f2a6de",
   "metadata": {
    "pycharm": {
     "name": "#%%\n"
    }
   },
   "outputs": [
    {
     "name": "stdout",
     "output_type": "stream",
     "text": [
      "Brochure View Dataset\n"
     ]
    },
    {
     "data": {
      "text/html": [
       "<div>\n",
       "<style scoped>\n",
       "    .dataframe tbody tr th:only-of-type {\n",
       "        vertical-align: middle;\n",
       "    }\n",
       "\n",
       "    .dataframe tbody tr th {\n",
       "        vertical-align: top;\n",
       "    }\n",
       "\n",
       "    .dataframe thead th {\n",
       "        text-align: right;\n",
       "    }\n",
       "</style>\n",
       "<table border=\"1\" class=\"dataframe\">\n",
       "  <thead>\n",
       "    <tr style=\"text-align: right;\">\n",
       "      <th></th>\n",
       "      <th>id</th>\n",
       "      <th>userId</th>\n",
       "      <th>dateCreated</th>\n",
       "      <th>page_turn_count</th>\n",
       "      <th>view_duration</th>\n",
       "      <th>brochure_id</th>\n",
       "    </tr>\n",
       "  </thead>\n",
       "  <tbody>\n",
       "    <tr>\n",
       "      <th>0</th>\n",
       "      <td>6269194661</td>\n",
       "      <td>9491a960-206a-4a58-9177-e78cb1f05e70</td>\n",
       "      <td>2017-04-30 23:47:09.5390000</td>\n",
       "      <td>30</td>\n",
       "      <td>95172.0</td>\n",
       "      <td>672239440</td>\n",
       "    </tr>\n",
       "    <tr>\n",
       "      <th>1</th>\n",
       "      <td>6269192581</td>\n",
       "      <td>9491a960-206a-4a58-9177-e78cb1f05e70</td>\n",
       "      <td>2017-04-30 23:47:00.6970000</td>\n",
       "      <td>2</td>\n",
       "      <td>4000.0</td>\n",
       "      <td>673861625</td>\n",
       "    </tr>\n",
       "    <tr>\n",
       "      <th>2</th>\n",
       "      <td>6269188351</td>\n",
       "      <td>9491a960-206a-4a58-9177-e78cb1f05e70</td>\n",
       "      <td>2017-04-30 23:46:39.9170000</td>\n",
       "      <td>1</td>\n",
       "      <td>14000.0</td>\n",
       "      <td>660764240</td>\n",
       "    </tr>\n",
       "    <tr>\n",
       "      <th>3</th>\n",
       "      <td>6204426632</td>\n",
       "      <td>fa623647-dfc9-49b4-bbb6-77cbacd599f4</td>\n",
       "      <td>2017-04-30 23:46:13.5970000</td>\n",
       "      <td>64</td>\n",
       "      <td>168000.0</td>\n",
       "      <td>672658544</td>\n",
       "    </tr>\n",
       "    <tr>\n",
       "      <th>4</th>\n",
       "      <td>6204424112</td>\n",
       "      <td>9491a960-206a-4a58-9177-e78cb1f05e70</td>\n",
       "      <td>2017-04-30 23:46:02.1970000</td>\n",
       "      <td>1</td>\n",
       "      <td>33000.0</td>\n",
       "      <td>660764240</td>\n",
       "    </tr>\n",
       "  </tbody>\n",
       "</table>\n",
       "</div>"
      ],
      "text/plain": [
       "           id                                userId  \\\n",
       "0  6269194661  9491a960-206a-4a58-9177-e78cb1f05e70   \n",
       "1  6269192581  9491a960-206a-4a58-9177-e78cb1f05e70   \n",
       "2  6269188351  9491a960-206a-4a58-9177-e78cb1f05e70   \n",
       "3  6204426632  fa623647-dfc9-49b4-bbb6-77cbacd599f4   \n",
       "4  6204424112  9491a960-206a-4a58-9177-e78cb1f05e70   \n",
       "\n",
       "                   dateCreated  page_turn_count  view_duration  brochure_id  \n",
       "0  2017-04-30 23:47:09.5390000               30        95172.0    672239440  \n",
       "1  2017-04-30 23:47:00.6970000                2         4000.0    673861625  \n",
       "2  2017-04-30 23:46:39.9170000                1        14000.0    660764240  \n",
       "3  2017-04-30 23:46:13.5970000               64       168000.0    672658544  \n",
       "4  2017-04-30 23:46:02.1970000                1        33000.0    660764240  "
      ]
     },
     "execution_count": 14,
     "metadata": {},
     "output_type": "execute_result"
    }
   ],
   "source": [
    "brochure_views_df = pd.read_csv(\"../dataset/brochure views.txt\", delimiter=\"\\t\")\n",
    "print(\"Brochure View Dataset\")\n",
    "brochure_views_df.head()"
   ]
  },
  {
   "cell_type": "code",
   "execution_count": 15,
   "id": "4e9afad2-7309-44de-a98a-8a9d5baa7522",
   "metadata": {
    "pycharm": {
     "name": "#%%\n"
    }
   },
   "outputs": [
    {
     "name": "stdout",
     "output_type": "stream",
     "text": [
      "Install Application Dataset\n"
     ]
    },
    {
     "data": {
      "text/html": [
       "<div>\n",
       "<style scoped>\n",
       "    .dataframe tbody tr th:only-of-type {\n",
       "        vertical-align: middle;\n",
       "    }\n",
       "\n",
       "    .dataframe tbody tr th {\n",
       "        vertical-align: top;\n",
       "    }\n",
       "\n",
       "    .dataframe thead th {\n",
       "        text-align: right;\n",
       "    }\n",
       "</style>\n",
       "<table border=\"1\" class=\"dataframe\">\n",
       "  <thead>\n",
       "    <tr style=\"text-align: right;\">\n",
       "      <th></th>\n",
       "      <th>id</th>\n",
       "      <th>InstallDate</th>\n",
       "      <th>productId</th>\n",
       "      <th>userId</th>\n",
       "      <th>model</th>\n",
       "      <th>campaignId</th>\n",
       "    </tr>\n",
       "  </thead>\n",
       "  <tbody>\n",
       "    <tr>\n",
       "      <th>0</th>\n",
       "      <td>37371890</td>\n",
       "      <td>2017-05-04 10:06:27.8070000</td>\n",
       "      <td>de.kaufda.kaufda</td>\n",
       "      <td>5fc13850-de51-4426-96ce-72aaec895abb</td>\n",
       "      <td>ipad2,7</td>\n",
       "      <td>000000</td>\n",
       "    </tr>\n",
       "    <tr>\n",
       "      <th>1</th>\n",
       "      <td>36979918</td>\n",
       "      <td>2017-04-24 09:27:16.1730000</td>\n",
       "      <td>com-bonial-kaufda</td>\n",
       "      <td>b13a035e-e9bf-49db-8f93-b49d491bef53</td>\n",
       "      <td>sm-g800f</td>\n",
       "      <td>3iikhy</td>\n",
       "    </tr>\n",
       "    <tr>\n",
       "      <th>2</th>\n",
       "      <td>37371070</td>\n",
       "      <td>2017-05-04 16:05:09.5680000</td>\n",
       "      <td>de.kaufda.kaufda</td>\n",
       "      <td>5deb0aad-43bb-4ee1-868b-98f36c3d5bbf</td>\n",
       "      <td>iphone8,4</td>\n",
       "      <td>tl3cy8</td>\n",
       "    </tr>\n",
       "    <tr>\n",
       "      <th>3</th>\n",
       "      <td>36897929</td>\n",
       "      <td>2017-04-22 13:18:18.4370000</td>\n",
       "      <td>com-bonial-kaufda</td>\n",
       "      <td>64707e97-d5e1-4622-a89a-bebf8432fd33</td>\n",
       "      <td>sm-g955f</td>\n",
       "      <td>000000</td>\n",
       "    </tr>\n",
       "    <tr>\n",
       "      <th>4</th>\n",
       "      <td>36606053</td>\n",
       "      <td>2017-04-15 14:03:51.1990000</td>\n",
       "      <td>com-bonial-kaufda</td>\n",
       "      <td>770a391d-eda5-423b-b672-845f1e12661f</td>\n",
       "      <td>sm-j320h</td>\n",
       "      <td>000000</td>\n",
       "    </tr>\n",
       "  </tbody>\n",
       "</table>\n",
       "</div>"
      ],
      "text/plain": [
       "         id                  InstallDate          productId  \\\n",
       "0  37371890  2017-05-04 10:06:27.8070000   de.kaufda.kaufda   \n",
       "1  36979918  2017-04-24 09:27:16.1730000  com-bonial-kaufda   \n",
       "2  37371070  2017-05-04 16:05:09.5680000   de.kaufda.kaufda   \n",
       "3  36897929  2017-04-22 13:18:18.4370000  com-bonial-kaufda   \n",
       "4  36606053  2017-04-15 14:03:51.1990000  com-bonial-kaufda   \n",
       "\n",
       "                                 userId      model campaignId  \n",
       "0  5fc13850-de51-4426-96ce-72aaec895abb    ipad2,7     000000  \n",
       "1  b13a035e-e9bf-49db-8f93-b49d491bef53   sm-g800f     3iikhy  \n",
       "2  5deb0aad-43bb-4ee1-868b-98f36c3d5bbf  iphone8,4     tl3cy8  \n",
       "3  64707e97-d5e1-4622-a89a-bebf8432fd33   sm-g955f     000000  \n",
       "4  770a391d-eda5-423b-b672-845f1e12661f   sm-j320h     000000  "
      ]
     },
     "execution_count": 15,
     "metadata": {},
     "output_type": "execute_result"
    }
   ],
   "source": [
    "installs_df = pd.read_csv(\"../dataset/installs.txt\", delimiter=\"\\t\")\n",
    "print(\"Install Application Dataset\")\n",
    "installs_df.head()"
   ]
  },
  {
   "cell_type": "code",
   "execution_count": 10,
   "id": "f7cd4558-a898-40db-a32b-2bcec4c32e67",
   "metadata": {
    "pycharm": {
     "name": "#%%\n"
    }
   },
   "outputs": [
    {
     "data": {
      "text/html": [
       "<div>\n",
       "<style scoped>\n",
       "    .dataframe tbody tr th:only-of-type {\n",
       "        vertical-align: middle;\n",
       "    }\n",
       "\n",
       "    .dataframe tbody tr th {\n",
       "        vertical-align: top;\n",
       "    }\n",
       "\n",
       "    .dataframe thead th {\n",
       "        text-align: right;\n",
       "    }\n",
       "</style>\n",
       "<table border=\"1\" class=\"dataframe\">\n",
       "  <thead>\n",
       "    <tr style=\"text-align: right;\">\n",
       "      <th></th>\n",
       "      <th>dateCreated</th>\n",
       "      <th>userId</th>\n",
       "    </tr>\n",
       "  </thead>\n",
       "  <tbody>\n",
       "    <tr>\n",
       "      <th>0</th>\n",
       "      <td>2017-07-31 21:24:51.4230000</td>\n",
       "      <td>c6adac02-336f-4cfb-9478-f7b822200215</td>\n",
       "    </tr>\n",
       "    <tr>\n",
       "      <th>1</th>\n",
       "      <td>2017-07-31 21:10:24.9810000</td>\n",
       "      <td>4b498ee2-2207-45d6-805e-929491a0bb6a</td>\n",
       "    </tr>\n",
       "    <tr>\n",
       "      <th>2</th>\n",
       "      <td>2017-07-31 20:58:27.6010000</td>\n",
       "      <td>e49dd902-816e-4e32-8320-9580340eaa1d</td>\n",
       "    </tr>\n",
       "    <tr>\n",
       "      <th>3</th>\n",
       "      <td>2017-07-31 20:41:32.7670000</td>\n",
       "      <td>b28aaf42-476f-489d-8b90-f430a3788c5a</td>\n",
       "    </tr>\n",
       "    <tr>\n",
       "      <th>4</th>\n",
       "      <td>2017-07-29 16:51:55.2170000</td>\n",
       "      <td>4bfb581c-a205-4189-bac1-c579fb92c575</td>\n",
       "    </tr>\n",
       "  </tbody>\n",
       "</table>\n",
       "</div>"
      ],
      "text/plain": [
       "                   dateCreated                                userId\n",
       "0  2017-07-31 21:24:51.4230000  c6adac02-336f-4cfb-9478-f7b822200215\n",
       "1  2017-07-31 21:10:24.9810000  4b498ee2-2207-45d6-805e-929491a0bb6a\n",
       "2  2017-07-31 20:58:27.6010000  e49dd902-816e-4e32-8320-9580340eaa1d\n",
       "3  2017-07-31 20:41:32.7670000  b28aaf42-476f-489d-8b90-f430a3788c5a\n",
       "4  2017-07-29 16:51:55.2170000  4bfb581c-a205-4189-bac1-c579fb92c575"
      ]
     },
     "execution_count": 10,
     "metadata": {},
     "output_type": "execute_result"
    }
   ],
   "source": [
    "app_starts_july_df.head()"
   ]
  },
  {
   "cell_type": "code",
   "execution_count": 11,
   "id": "ec6efb92-40e1-42fb-b3ab-37e7c035aa84",
   "metadata": {
    "pycharm": {
     "name": "#%%\n"
    }
   },
   "outputs": [
    {
     "name": "stdout",
     "output_type": "stream",
     "text": [
      "Mem. usage decreased to 14.17 Mb (25.0% reduction)\n"
     ]
    }
   ],
   "source": [
    "brochure_views_df['origin'] = \"past\"\n",
    "brochure_views_july_df['origin'] = \"july\"\n",
    "\n",
    "train_df = brochure_views_df.append(brochure_views_july_df, ignore_index=True)\n",
    "train_df = reduce_mem_usage(train_df)\n"
   ]
  },
  {
   "cell_type": "code",
   "execution_count": 12,
   "id": "13bf3ebd-62f1-4c84-9343-5e7ce387808f",
   "metadata": {
    "pycharm": {
     "name": "#%%\n"
    }
   },
   "outputs": [
    {
     "data": {
      "text/html": [
       "<div>\n",
       "<style scoped>\n",
       "    .dataframe tbody tr th:only-of-type {\n",
       "        vertical-align: middle;\n",
       "    }\n",
       "\n",
       "    .dataframe tbody tr th {\n",
       "        vertical-align: top;\n",
       "    }\n",
       "\n",
       "    .dataframe thead th {\n",
       "        text-align: right;\n",
       "    }\n",
       "</style>\n",
       "<table border=\"1\" class=\"dataframe\">\n",
       "  <thead>\n",
       "    <tr style=\"text-align: right;\">\n",
       "      <th></th>\n",
       "      <th>id</th>\n",
       "      <th>userId</th>\n",
       "      <th>dateCreated</th>\n",
       "      <th>page_turn_count</th>\n",
       "      <th>view_duration</th>\n",
       "      <th>brochure_id</th>\n",
       "      <th>origin</th>\n",
       "    </tr>\n",
       "  </thead>\n",
       "  <tbody>\n",
       "    <tr>\n",
       "      <th>0</th>\n",
       "      <td>6269194661</td>\n",
       "      <td>9491a960-206a-4a58-9177-e78cb1f05e70</td>\n",
       "      <td>2017-04-30 23:47:09.5390000</td>\n",
       "      <td>30</td>\n",
       "      <td>95172.0</td>\n",
       "      <td>672239440</td>\n",
       "      <td>past</td>\n",
       "    </tr>\n",
       "    <tr>\n",
       "      <th>1</th>\n",
       "      <td>6269192581</td>\n",
       "      <td>9491a960-206a-4a58-9177-e78cb1f05e70</td>\n",
       "      <td>2017-04-30 23:47:00.6970000</td>\n",
       "      <td>2</td>\n",
       "      <td>4000.0</td>\n",
       "      <td>673861625</td>\n",
       "      <td>past</td>\n",
       "    </tr>\n",
       "    <tr>\n",
       "      <th>2</th>\n",
       "      <td>6269188351</td>\n",
       "      <td>9491a960-206a-4a58-9177-e78cb1f05e70</td>\n",
       "      <td>2017-04-30 23:46:39.9170000</td>\n",
       "      <td>1</td>\n",
       "      <td>14000.0</td>\n",
       "      <td>660764240</td>\n",
       "      <td>past</td>\n",
       "    </tr>\n",
       "    <tr>\n",
       "      <th>3</th>\n",
       "      <td>6204426632</td>\n",
       "      <td>fa623647-dfc9-49b4-bbb6-77cbacd599f4</td>\n",
       "      <td>2017-04-30 23:46:13.5970000</td>\n",
       "      <td>64</td>\n",
       "      <td>168000.0</td>\n",
       "      <td>672658544</td>\n",
       "      <td>past</td>\n",
       "    </tr>\n",
       "    <tr>\n",
       "      <th>4</th>\n",
       "      <td>6204424112</td>\n",
       "      <td>9491a960-206a-4a58-9177-e78cb1f05e70</td>\n",
       "      <td>2017-04-30 23:46:02.1970000</td>\n",
       "      <td>1</td>\n",
       "      <td>33000.0</td>\n",
       "      <td>660764240</td>\n",
       "      <td>past</td>\n",
       "    </tr>\n",
       "  </tbody>\n",
       "</table>\n",
       "</div>"
      ],
      "text/plain": [
       "           id                                userId  \\\n",
       "0  6269194661  9491a960-206a-4a58-9177-e78cb1f05e70   \n",
       "1  6269192581  9491a960-206a-4a58-9177-e78cb1f05e70   \n",
       "2  6269188351  9491a960-206a-4a58-9177-e78cb1f05e70   \n",
       "3  6204426632  fa623647-dfc9-49b4-bbb6-77cbacd599f4   \n",
       "4  6204424112  9491a960-206a-4a58-9177-e78cb1f05e70   \n",
       "\n",
       "                   dateCreated  page_turn_count  view_duration  brochure_id  \\\n",
       "0  2017-04-30 23:47:09.5390000               30        95172.0    672239440   \n",
       "1  2017-04-30 23:47:00.6970000                2         4000.0    673861625   \n",
       "2  2017-04-30 23:46:39.9170000                1        14000.0    660764240   \n",
       "3  2017-04-30 23:46:13.5970000               64       168000.0    672658544   \n",
       "4  2017-04-30 23:46:02.1970000                1        33000.0    660764240   \n",
       "\n",
       "  origin  \n",
       "0   past  \n",
       "1   past  \n",
       "2   past  \n",
       "3   past  \n",
       "4   past  "
      ]
     },
     "execution_count": 12,
     "metadata": {},
     "output_type": "execute_result"
    }
   ],
   "source": [
    "train_df.head()"
   ]
  },
  {
   "cell_type": "code",
   "execution_count": 13,
   "id": "4e693950-fd49-4ce9-b2a7-3b84c5e006ef",
   "metadata": {
    "pycharm": {
     "name": "#%%\n"
    }
   },
   "outputs": [
    {
     "name": "stdout",
     "output_type": "stream",
     "text": [
      "Mem. usage decreased to  4.21 Mb (0.0% reduction)\n"
     ]
    }
   ],
   "source": [
    "app_starts_df['app_origin'] = \"past\"\n",
    "app_starts_july_df['app_origin'] = \"july\"\n",
    "\n",
    "train_app_df = app_starts_df.append(app_starts_july_df, ignore_index=True)\n",
    "train_app_df = reduce_mem_usage(train_app_df)\n"
   ]
  },
  {
   "cell_type": "code",
   "execution_count": 14,
   "id": "fa683e9f-5cde-4142-9087-4cc72f780d7d",
   "metadata": {
    "pycharm": {
     "name": "#%%\n"
    }
   },
   "outputs": [
    {
     "data": {
      "text/html": [
       "<div>\n",
       "<style scoped>\n",
       "    .dataframe tbody tr th:only-of-type {\n",
       "        vertical-align: middle;\n",
       "    }\n",
       "\n",
       "    .dataframe tbody tr th {\n",
       "        vertical-align: top;\n",
       "    }\n",
       "\n",
       "    .dataframe thead th {\n",
       "        text-align: right;\n",
       "    }\n",
       "</style>\n",
       "<table border=\"1\" class=\"dataframe\">\n",
       "  <thead>\n",
       "    <tr style=\"text-align: right;\">\n",
       "      <th></th>\n",
       "      <th>dateCreated</th>\n",
       "      <th>userId</th>\n",
       "      <th>app_origin</th>\n",
       "      <th>id</th>\n",
       "      <th>InstallDate</th>\n",
       "      <th>productId</th>\n",
       "      <th>model</th>\n",
       "      <th>campaignId</th>\n",
       "    </tr>\n",
       "  </thead>\n",
       "  <tbody>\n",
       "    <tr>\n",
       "      <th>0</th>\n",
       "      <td>2017-06-30 14:14:54.7930000</td>\n",
       "      <td>50e72534-a4f4-40d7-96d5-ecbe4eb314e9</td>\n",
       "      <td>past</td>\n",
       "      <td>36840989.0</td>\n",
       "      <td>2017-04-21 13:16:18.5990000</td>\n",
       "      <td>com-bonial-kaufda</td>\n",
       "      <td>sm-g950f</td>\n",
       "      <td>000000</td>\n",
       "    </tr>\n",
       "    <tr>\n",
       "      <th>1</th>\n",
       "      <td>2017-06-30 14:03:13.0100000</td>\n",
       "      <td>b3712849-595e-403f-84d2-4698439056b0</td>\n",
       "      <td>past</td>\n",
       "      <td>37125830.0</td>\n",
       "      <td>2017-04-28 15:28:20.5460000</td>\n",
       "      <td>com-bonial-kaufda</td>\n",
       "      <td>sm-g935f</td>\n",
       "      <td>000000</td>\n",
       "    </tr>\n",
       "    <tr>\n",
       "      <th>2</th>\n",
       "      <td>2017-06-28 16:26:48.3830000</td>\n",
       "      <td>99cea50b-3ecf-4102-8290-997eaf32a6b6</td>\n",
       "      <td>past</td>\n",
       "      <td>37547780.0</td>\n",
       "      <td>2017-05-09 20:45:19.7230000</td>\n",
       "      <td>com-bonial-kaufda</td>\n",
       "      <td>sm-j510fn</td>\n",
       "      <td>000000</td>\n",
       "    </tr>\n",
       "    <tr>\n",
       "      <th>3</th>\n",
       "      <td>2017-06-27 10:23:29.9430000</td>\n",
       "      <td>78c06433-9ea8-4835-aff5-f64b262d0fb4</td>\n",
       "      <td>past</td>\n",
       "      <td>37860542.0</td>\n",
       "      <td>2017-05-15 13:29:37.3770000</td>\n",
       "      <td>com-bonial-kaufda</td>\n",
       "      <td>sm-g900f</td>\n",
       "      <td>000000</td>\n",
       "    </tr>\n",
       "    <tr>\n",
       "      <th>4</th>\n",
       "      <td>2017-06-27 10:11:27.6340000</td>\n",
       "      <td>510c5f9e-de54-45ee-909c-c14103130e5e</td>\n",
       "      <td>past</td>\n",
       "      <td>37462735.0</td>\n",
       "      <td>2017-05-07 08:03:04.5730000</td>\n",
       "      <td>com-bonial-kaufda</td>\n",
       "      <td>sm-t561</td>\n",
       "      <td>000000</td>\n",
       "    </tr>\n",
       "  </tbody>\n",
       "</table>\n",
       "</div>"
      ],
      "text/plain": [
       "                   dateCreated                                userId  \\\n",
       "0  2017-06-30 14:14:54.7930000  50e72534-a4f4-40d7-96d5-ecbe4eb314e9   \n",
       "1  2017-06-30 14:03:13.0100000  b3712849-595e-403f-84d2-4698439056b0   \n",
       "2  2017-06-28 16:26:48.3830000  99cea50b-3ecf-4102-8290-997eaf32a6b6   \n",
       "3  2017-06-27 10:23:29.9430000  78c06433-9ea8-4835-aff5-f64b262d0fb4   \n",
       "4  2017-06-27 10:11:27.6340000  510c5f9e-de54-45ee-909c-c14103130e5e   \n",
       "\n",
       "  app_origin          id                  InstallDate          productId  \\\n",
       "0       past  36840989.0  2017-04-21 13:16:18.5990000  com-bonial-kaufda   \n",
       "1       past  37125830.0  2017-04-28 15:28:20.5460000  com-bonial-kaufda   \n",
       "2       past  37547780.0  2017-05-09 20:45:19.7230000  com-bonial-kaufda   \n",
       "3       past  37860542.0  2017-05-15 13:29:37.3770000  com-bonial-kaufda   \n",
       "4       past  37462735.0  2017-05-07 08:03:04.5730000  com-bonial-kaufda   \n",
       "\n",
       "       model campaignId  \n",
       "0   sm-g950f     000000  \n",
       "1   sm-g935f     000000  \n",
       "2  sm-j510fn     000000  \n",
       "3   sm-g900f     000000  \n",
       "4    sm-t561     000000  "
      ]
     },
     "execution_count": 14,
     "metadata": {},
     "output_type": "execute_result"
    }
   ],
   "source": [
    "train_app_df2 = pd.merge(train_app_df, installs_df,\n",
    "                        how=\"left\", on=[\"userId\"])\n",
    "train_app_df2.head()"
   ]
  },
  {
   "cell_type": "code",
   "execution_count": 15,
   "id": "09c57db5-7f22-40a7-a62d-0a2377a5423f",
   "metadata": {
    "pycharm": {
     "name": "#%%\n"
    }
   },
   "outputs": [],
   "source": [
    "r = lambda: random.randint(0,255)\n",
    "\n",
    "train_app_df2.id = train_app_df2.id.fillna(0)\n",
    "train_app_df2.productId = train_app_df2.productId.fillna(0)\n",
    "train_app_df2.model = train_app_df2.model.fillna(\"XXX\")\n",
    "#train_app_df2.campaignId = train_app_df2.campaignId.fillna('%02X%02X%02X' % (r(),r(),r()))\n",
    "train_app_df2.campaignId = train_app_df2.campaignId.fillna('XXXXXX')\n",
    "train_app_df2.InstallDate = train_app_df2.InstallDate.fillna('2000-01-01 00:00:01.0000000')\n"
   ]
  },
  {
   "cell_type": "code",
   "execution_count": 16,
   "id": "d3bec669-dd95-4d9a-8cd5-34cdb95b4495",
   "metadata": {
    "pycharm": {
     "name": "#%%\n"
    }
   },
   "outputs": [
    {
     "data": {
      "text/html": [
       "<div>\n",
       "<style scoped>\n",
       "    .dataframe tbody tr th:only-of-type {\n",
       "        vertical-align: middle;\n",
       "    }\n",
       "\n",
       "    .dataframe tbody tr th {\n",
       "        vertical-align: top;\n",
       "    }\n",
       "\n",
       "    .dataframe thead th {\n",
       "        text-align: right;\n",
       "    }\n",
       "</style>\n",
       "<table border=\"1\" class=\"dataframe\">\n",
       "  <thead>\n",
       "    <tr style=\"text-align: right;\">\n",
       "      <th></th>\n",
       "      <th>dateCreated</th>\n",
       "      <th>userId</th>\n",
       "      <th>app_origin</th>\n",
       "      <th>id</th>\n",
       "      <th>InstallDate</th>\n",
       "      <th>productId</th>\n",
       "      <th>model</th>\n",
       "      <th>campaignId</th>\n",
       "    </tr>\n",
       "  </thead>\n",
       "  <tbody>\n",
       "    <tr>\n",
       "      <th>0</th>\n",
       "      <td>2017-06-30 14:14:54.7930000</td>\n",
       "      <td>50e72534-a4f4-40d7-96d5-ecbe4eb314e9</td>\n",
       "      <td>past</td>\n",
       "      <td>36840989.0</td>\n",
       "      <td>2017-04-21 13:16:18.5990000</td>\n",
       "      <td>com-bonial-kaufda</td>\n",
       "      <td>sm-g950f</td>\n",
       "      <td>000000</td>\n",
       "    </tr>\n",
       "    <tr>\n",
       "      <th>1</th>\n",
       "      <td>2017-06-30 14:03:13.0100000</td>\n",
       "      <td>b3712849-595e-403f-84d2-4698439056b0</td>\n",
       "      <td>past</td>\n",
       "      <td>37125830.0</td>\n",
       "      <td>2017-04-28 15:28:20.5460000</td>\n",
       "      <td>com-bonial-kaufda</td>\n",
       "      <td>sm-g935f</td>\n",
       "      <td>000000</td>\n",
       "    </tr>\n",
       "    <tr>\n",
       "      <th>2</th>\n",
       "      <td>2017-06-28 16:26:48.3830000</td>\n",
       "      <td>99cea50b-3ecf-4102-8290-997eaf32a6b6</td>\n",
       "      <td>past</td>\n",
       "      <td>37547780.0</td>\n",
       "      <td>2017-05-09 20:45:19.7230000</td>\n",
       "      <td>com-bonial-kaufda</td>\n",
       "      <td>sm-j510fn</td>\n",
       "      <td>000000</td>\n",
       "    </tr>\n",
       "    <tr>\n",
       "      <th>3</th>\n",
       "      <td>2017-06-27 10:23:29.9430000</td>\n",
       "      <td>78c06433-9ea8-4835-aff5-f64b262d0fb4</td>\n",
       "      <td>past</td>\n",
       "      <td>37860542.0</td>\n",
       "      <td>2017-05-15 13:29:37.3770000</td>\n",
       "      <td>com-bonial-kaufda</td>\n",
       "      <td>sm-g900f</td>\n",
       "      <td>000000</td>\n",
       "    </tr>\n",
       "    <tr>\n",
       "      <th>4</th>\n",
       "      <td>2017-06-27 10:11:27.6340000</td>\n",
       "      <td>510c5f9e-de54-45ee-909c-c14103130e5e</td>\n",
       "      <td>past</td>\n",
       "      <td>37462735.0</td>\n",
       "      <td>2017-05-07 08:03:04.5730000</td>\n",
       "      <td>com-bonial-kaufda</td>\n",
       "      <td>sm-t561</td>\n",
       "      <td>000000</td>\n",
       "    </tr>\n",
       "  </tbody>\n",
       "</table>\n",
       "</div>"
      ],
      "text/plain": [
       "                   dateCreated                                userId  \\\n",
       "0  2017-06-30 14:14:54.7930000  50e72534-a4f4-40d7-96d5-ecbe4eb314e9   \n",
       "1  2017-06-30 14:03:13.0100000  b3712849-595e-403f-84d2-4698439056b0   \n",
       "2  2017-06-28 16:26:48.3830000  99cea50b-3ecf-4102-8290-997eaf32a6b6   \n",
       "3  2017-06-27 10:23:29.9430000  78c06433-9ea8-4835-aff5-f64b262d0fb4   \n",
       "4  2017-06-27 10:11:27.6340000  510c5f9e-de54-45ee-909c-c14103130e5e   \n",
       "\n",
       "  app_origin          id                  InstallDate          productId  \\\n",
       "0       past  36840989.0  2017-04-21 13:16:18.5990000  com-bonial-kaufda   \n",
       "1       past  37125830.0  2017-04-28 15:28:20.5460000  com-bonial-kaufda   \n",
       "2       past  37547780.0  2017-05-09 20:45:19.7230000  com-bonial-kaufda   \n",
       "3       past  37860542.0  2017-05-15 13:29:37.3770000  com-bonial-kaufda   \n",
       "4       past  37462735.0  2017-05-07 08:03:04.5730000  com-bonial-kaufda   \n",
       "\n",
       "       model campaignId  \n",
       "0   sm-g950f     000000  \n",
       "1   sm-g935f     000000  \n",
       "2  sm-j510fn     000000  \n",
       "3   sm-g900f     000000  \n",
       "4    sm-t561     000000  "
      ]
     },
     "execution_count": 16,
     "metadata": {},
     "output_type": "execute_result"
    }
   ],
   "source": [
    "train_app_df2.head()"
   ]
  },
  {
   "cell_type": "code",
   "execution_count": null,
   "id": "d6876a1c-7a88-4d63-bc2c-aa71832bac18",
   "metadata": {
    "pycharm": {
     "name": "#%%\n"
    }
   },
   "outputs": [],
   "source": []
  },
  {
   "cell_type": "code",
   "execution_count": 17,
   "id": "87db4007-d987-4002-bcc7-d37d13a0d45a",
   "metadata": {
    "pycharm": {
     "name": "#%%\n"
    }
   },
   "outputs": [],
   "source": [
    "train_app_df2['dateCreated'] = pd.to_datetime(train_app_df2['dateCreated'], format='%Y-%m-%d')\n",
    "train_app_df2['dateCreated'] = train_app_df2['dateCreated'].dt.strftime('%Y-%m-%d')"
   ]
  },
  {
   "cell_type": "code",
   "execution_count": 18,
   "id": "5edd1755-5895-4d5f-853b-afbdf6289b6a",
   "metadata": {
    "pycharm": {
     "name": "#%%\n"
    }
   },
   "outputs": [],
   "source": [
    "train_app_df2['InstallDate'] = pd.to_datetime(train_app_df2['InstallDate'], format='%Y-%m-%d')\n",
    "train_app_df2['InstallDate'] = train_app_df2['InstallDate'].dt.strftime('%Y-%m-%d')"
   ]
  },
  {
   "cell_type": "code",
   "execution_count": 19,
   "id": "f202a129-83f1-47bd-8a62-c2422a3e95eb",
   "metadata": {
    "pycharm": {
     "name": "#%%\n"
    }
   },
   "outputs": [],
   "source": [
    "train_df['dateCreated'] = pd.to_datetime(train_df['dateCreated'], format='%Y-%m-%d')\n",
    "train_df['dateCreated'] = train_df['dateCreated'].dt.strftime('%Y-%m-%d')"
   ]
  },
  {
   "cell_type": "code",
   "execution_count": 20,
   "id": "1d8dc7e3-64c6-4bd8-b178-d4c87b92e8d6",
   "metadata": {
    "pycharm": {
     "name": "#%%\n"
    }
   },
   "outputs": [
    {
     "data": {
      "text/plain": [
       "((353644, 7), (184073, 8))"
      ]
     },
     "execution_count": 20,
     "metadata": {},
     "output_type": "execute_result"
    }
   ],
   "source": [
    "train_df.shape, train_app_df2.shape"
   ]
  },
  {
   "cell_type": "code",
   "execution_count": 21,
   "id": "c517e896-2187-4890-ad46-7d726c18551f",
   "metadata": {
    "pycharm": {
     "name": "#%%\n"
    }
   },
   "outputs": [],
   "source": [
    "train_df = train_df.drop(columns='id')\n",
    "train_app_df2 = train_app_df2.drop(columns='id')"
   ]
  },
  {
   "cell_type": "code",
   "execution_count": 22,
   "id": "091cf16e-eeff-4659-9901-c2db19040cb2",
   "metadata": {
    "pycharm": {
     "name": "#%%\n"
    }
   },
   "outputs": [],
   "source": [
    "train_df['year'] = pd.DatetimeIndex(train_df['dateCreated']).year\n",
    "train_df['month'] = pd.DatetimeIndex(train_df['dateCreated']).month\n",
    "train_df['day'] = pd.DatetimeIndex(train_df['dateCreated']).day\n",
    "\n",
    "train_app_df2['year'] = pd.DatetimeIndex(train_app_df2['dateCreated']).year\n",
    "train_app_df2['month'] = pd.DatetimeIndex(train_app_df2['dateCreated']).month\n",
    "train_app_df2['day'] = pd.DatetimeIndex(train_app_df2['dateCreated']).day\n",
    "\n",
    "train_app_df2.InstallDate = train_app_df2.InstallDate.fillna('2000-01-01 00:00:01.0000000')\n",
    "train_app_df2['install_year'] = pd.DatetimeIndex(train_app_df2['InstallDate']).year\n",
    "train_app_df2['install_month'] = pd.DatetimeIndex(train_app_df2['InstallDate']).month\n",
    "train_app_df2['install_day'] = pd.DatetimeIndex(train_app_df2['InstallDate']).day"
   ]
  },
  {
   "cell_type": "code",
   "execution_count": 23,
   "id": "f3fcaf6d-5c4f-4f5c-acc0-a6e4ca5b3a02",
   "metadata": {
    "pycharm": {
     "name": "#%%\n"
    }
   },
   "outputs": [
    {
     "data": {
      "text/plain": [
       "array([2017, 2000], dtype=int64)"
      ]
     },
     "execution_count": 23,
     "metadata": {},
     "output_type": "execute_result"
    }
   ],
   "source": [
    "train_app_df2.install_year.unique()"
   ]
  },
  {
   "cell_type": "code",
   "execution_count": 24,
   "id": "a29ea87b-90a4-4735-b553-859998339ad4",
   "metadata": {
    "pycharm": {
     "name": "#%%\n"
    }
   },
   "outputs": [],
   "source": [
    "train_df = train_df.drop(columns='dateCreated')\n",
    "train_app_df2 = train_app_df2.drop(columns='dateCreated')\n",
    "train_app_df2 = train_app_df2.drop(columns='InstallDate')"
   ]
  },
  {
   "cell_type": "code",
   "execution_count": 25,
   "id": "bbbc75bd-12cf-4315-b41a-8618185fbd51",
   "metadata": {
    "pycharm": {
     "name": "#%%\n"
    }
   },
   "outputs": [
    {
     "data": {
      "text/html": [
       "<div>\n",
       "<style scoped>\n",
       "    .dataframe tbody tr th:only-of-type {\n",
       "        vertical-align: middle;\n",
       "    }\n",
       "\n",
       "    .dataframe tbody tr th {\n",
       "        vertical-align: top;\n",
       "    }\n",
       "\n",
       "    .dataframe thead th {\n",
       "        text-align: right;\n",
       "    }\n",
       "</style>\n",
       "<table border=\"1\" class=\"dataframe\">\n",
       "  <thead>\n",
       "    <tr style=\"text-align: right;\">\n",
       "      <th></th>\n",
       "      <th>userId</th>\n",
       "      <th>page_turn_count</th>\n",
       "      <th>view_duration</th>\n",
       "      <th>brochure_id</th>\n",
       "      <th>origin</th>\n",
       "      <th>year</th>\n",
       "      <th>month</th>\n",
       "      <th>day</th>\n",
       "    </tr>\n",
       "  </thead>\n",
       "  <tbody>\n",
       "    <tr>\n",
       "      <th>0</th>\n",
       "      <td>9491a960-206a-4a58-9177-e78cb1f05e70</td>\n",
       "      <td>30</td>\n",
       "      <td>95172.0</td>\n",
       "      <td>672239440</td>\n",
       "      <td>past</td>\n",
       "      <td>2017</td>\n",
       "      <td>4</td>\n",
       "      <td>30</td>\n",
       "    </tr>\n",
       "    <tr>\n",
       "      <th>1</th>\n",
       "      <td>9491a960-206a-4a58-9177-e78cb1f05e70</td>\n",
       "      <td>2</td>\n",
       "      <td>4000.0</td>\n",
       "      <td>673861625</td>\n",
       "      <td>past</td>\n",
       "      <td>2017</td>\n",
       "      <td>4</td>\n",
       "      <td>30</td>\n",
       "    </tr>\n",
       "    <tr>\n",
       "      <th>2</th>\n",
       "      <td>9491a960-206a-4a58-9177-e78cb1f05e70</td>\n",
       "      <td>1</td>\n",
       "      <td>14000.0</td>\n",
       "      <td>660764240</td>\n",
       "      <td>past</td>\n",
       "      <td>2017</td>\n",
       "      <td>4</td>\n",
       "      <td>30</td>\n",
       "    </tr>\n",
       "    <tr>\n",
       "      <th>3</th>\n",
       "      <td>fa623647-dfc9-49b4-bbb6-77cbacd599f4</td>\n",
       "      <td>64</td>\n",
       "      <td>168000.0</td>\n",
       "      <td>672658544</td>\n",
       "      <td>past</td>\n",
       "      <td>2017</td>\n",
       "      <td>4</td>\n",
       "      <td>30</td>\n",
       "    </tr>\n",
       "    <tr>\n",
       "      <th>4</th>\n",
       "      <td>9491a960-206a-4a58-9177-e78cb1f05e70</td>\n",
       "      <td>1</td>\n",
       "      <td>33000.0</td>\n",
       "      <td>660764240</td>\n",
       "      <td>past</td>\n",
       "      <td>2017</td>\n",
       "      <td>4</td>\n",
       "      <td>30</td>\n",
       "    </tr>\n",
       "  </tbody>\n",
       "</table>\n",
       "</div>"
      ],
      "text/plain": [
       "                                 userId  page_turn_count  view_duration  \\\n",
       "0  9491a960-206a-4a58-9177-e78cb1f05e70               30        95172.0   \n",
       "1  9491a960-206a-4a58-9177-e78cb1f05e70                2         4000.0   \n",
       "2  9491a960-206a-4a58-9177-e78cb1f05e70                1        14000.0   \n",
       "3  fa623647-dfc9-49b4-bbb6-77cbacd599f4               64       168000.0   \n",
       "4  9491a960-206a-4a58-9177-e78cb1f05e70                1        33000.0   \n",
       "\n",
       "   brochure_id origin  year  month  day  \n",
       "0    672239440   past  2017      4   30  \n",
       "1    673861625   past  2017      4   30  \n",
       "2    660764240   past  2017      4   30  \n",
       "3    672658544   past  2017      4   30  \n",
       "4    660764240   past  2017      4   30  "
      ]
     },
     "execution_count": 25,
     "metadata": {},
     "output_type": "execute_result"
    }
   ],
   "source": [
    "train_df.head()"
   ]
  },
  {
   "cell_type": "code",
   "execution_count": 26,
   "id": "7d64682f-614b-4889-b617-f6aca93cbe05",
   "metadata": {
    "pycharm": {
     "name": "#%%\n"
    }
   },
   "outputs": [
    {
     "data": {
      "text/html": [
       "<div>\n",
       "<style scoped>\n",
       "    .dataframe tbody tr th:only-of-type {\n",
       "        vertical-align: middle;\n",
       "    }\n",
       "\n",
       "    .dataframe tbody tr th {\n",
       "        vertical-align: top;\n",
       "    }\n",
       "\n",
       "    .dataframe thead th {\n",
       "        text-align: right;\n",
       "    }\n",
       "</style>\n",
       "<table border=\"1\" class=\"dataframe\">\n",
       "  <thead>\n",
       "    <tr style=\"text-align: right;\">\n",
       "      <th></th>\n",
       "      <th>userId</th>\n",
       "      <th>app_origin</th>\n",
       "      <th>productId</th>\n",
       "      <th>model</th>\n",
       "      <th>campaignId</th>\n",
       "      <th>year</th>\n",
       "      <th>month</th>\n",
       "      <th>day</th>\n",
       "      <th>install_year</th>\n",
       "      <th>install_month</th>\n",
       "      <th>install_day</th>\n",
       "    </tr>\n",
       "  </thead>\n",
       "  <tbody>\n",
       "    <tr>\n",
       "      <th>0</th>\n",
       "      <td>50e72534-a4f4-40d7-96d5-ecbe4eb314e9</td>\n",
       "      <td>past</td>\n",
       "      <td>com-bonial-kaufda</td>\n",
       "      <td>sm-g950f</td>\n",
       "      <td>000000</td>\n",
       "      <td>2017</td>\n",
       "      <td>6</td>\n",
       "      <td>30</td>\n",
       "      <td>2017</td>\n",
       "      <td>4</td>\n",
       "      <td>21</td>\n",
       "    </tr>\n",
       "    <tr>\n",
       "      <th>1</th>\n",
       "      <td>b3712849-595e-403f-84d2-4698439056b0</td>\n",
       "      <td>past</td>\n",
       "      <td>com-bonial-kaufda</td>\n",
       "      <td>sm-g935f</td>\n",
       "      <td>000000</td>\n",
       "      <td>2017</td>\n",
       "      <td>6</td>\n",
       "      <td>30</td>\n",
       "      <td>2017</td>\n",
       "      <td>4</td>\n",
       "      <td>28</td>\n",
       "    </tr>\n",
       "    <tr>\n",
       "      <th>2</th>\n",
       "      <td>99cea50b-3ecf-4102-8290-997eaf32a6b6</td>\n",
       "      <td>past</td>\n",
       "      <td>com-bonial-kaufda</td>\n",
       "      <td>sm-j510fn</td>\n",
       "      <td>000000</td>\n",
       "      <td>2017</td>\n",
       "      <td>6</td>\n",
       "      <td>28</td>\n",
       "      <td>2017</td>\n",
       "      <td>5</td>\n",
       "      <td>9</td>\n",
       "    </tr>\n",
       "    <tr>\n",
       "      <th>3</th>\n",
       "      <td>78c06433-9ea8-4835-aff5-f64b262d0fb4</td>\n",
       "      <td>past</td>\n",
       "      <td>com-bonial-kaufda</td>\n",
       "      <td>sm-g900f</td>\n",
       "      <td>000000</td>\n",
       "      <td>2017</td>\n",
       "      <td>6</td>\n",
       "      <td>27</td>\n",
       "      <td>2017</td>\n",
       "      <td>5</td>\n",
       "      <td>15</td>\n",
       "    </tr>\n",
       "    <tr>\n",
       "      <th>4</th>\n",
       "      <td>510c5f9e-de54-45ee-909c-c14103130e5e</td>\n",
       "      <td>past</td>\n",
       "      <td>com-bonial-kaufda</td>\n",
       "      <td>sm-t561</td>\n",
       "      <td>000000</td>\n",
       "      <td>2017</td>\n",
       "      <td>6</td>\n",
       "      <td>27</td>\n",
       "      <td>2017</td>\n",
       "      <td>5</td>\n",
       "      <td>7</td>\n",
       "    </tr>\n",
       "  </tbody>\n",
       "</table>\n",
       "</div>"
      ],
      "text/plain": [
       "                                 userId app_origin          productId  \\\n",
       "0  50e72534-a4f4-40d7-96d5-ecbe4eb314e9       past  com-bonial-kaufda   \n",
       "1  b3712849-595e-403f-84d2-4698439056b0       past  com-bonial-kaufda   \n",
       "2  99cea50b-3ecf-4102-8290-997eaf32a6b6       past  com-bonial-kaufda   \n",
       "3  78c06433-9ea8-4835-aff5-f64b262d0fb4       past  com-bonial-kaufda   \n",
       "4  510c5f9e-de54-45ee-909c-c14103130e5e       past  com-bonial-kaufda   \n",
       "\n",
       "       model campaignId  year  month  day  install_year  install_month  \\\n",
       "0   sm-g950f     000000  2017      6   30          2017              4   \n",
       "1   sm-g935f     000000  2017      6   30          2017              4   \n",
       "2  sm-j510fn     000000  2017      6   28          2017              5   \n",
       "3   sm-g900f     000000  2017      6   27          2017              5   \n",
       "4    sm-t561     000000  2017      6   27          2017              5   \n",
       "\n",
       "   install_day  \n",
       "0           21  \n",
       "1           28  \n",
       "2            9  \n",
       "3           15  \n",
       "4            7  "
      ]
     },
     "execution_count": 26,
     "metadata": {},
     "output_type": "execute_result"
    }
   ],
   "source": [
    "train_app_df2.head()"
   ]
  },
  {
   "cell_type": "code",
   "execution_count": 27,
   "id": "7e038d18-389a-4d85-b1f6-636b6e183334",
   "metadata": {
    "pycharm": {
     "name": "#%%\n"
    }
   },
   "outputs": [
    {
     "data": {
      "text/html": [
       "<div>\n",
       "<style scoped>\n",
       "    .dataframe tbody tr th:only-of-type {\n",
       "        vertical-align: middle;\n",
       "    }\n",
       "\n",
       "    .dataframe tbody tr th {\n",
       "        vertical-align: top;\n",
       "    }\n",
       "\n",
       "    .dataframe thead th {\n",
       "        text-align: right;\n",
       "    }\n",
       "</style>\n",
       "<table border=\"1\" class=\"dataframe\">\n",
       "  <thead>\n",
       "    <tr style=\"text-align: right;\">\n",
       "      <th></th>\n",
       "      <th>userId</th>\n",
       "      <th>page_turn_count</th>\n",
       "      <th>view_duration</th>\n",
       "      <th>brochure_id</th>\n",
       "      <th>origin</th>\n",
       "      <th>year</th>\n",
       "      <th>month</th>\n",
       "      <th>day</th>\n",
       "      <th>app_origin</th>\n",
       "      <th>productId</th>\n",
       "      <th>model</th>\n",
       "      <th>campaignId</th>\n",
       "      <th>install_year</th>\n",
       "      <th>install_month</th>\n",
       "      <th>install_day</th>\n",
       "    </tr>\n",
       "  </thead>\n",
       "  <tbody>\n",
       "    <tr>\n",
       "      <th>0</th>\n",
       "      <td>9491a960-206a-4a58-9177-e78cb1f05e70</td>\n",
       "      <td>30</td>\n",
       "      <td>95172.0</td>\n",
       "      <td>672239440</td>\n",
       "      <td>past</td>\n",
       "      <td>2017</td>\n",
       "      <td>4</td>\n",
       "      <td>30</td>\n",
       "      <td>past</td>\n",
       "      <td>com-bonial-kaufda</td>\n",
       "      <td>GT-I9505</td>\n",
       "      <td>m9l4xq</td>\n",
       "      <td>2017.0</td>\n",
       "      <td>4.0</td>\n",
       "      <td>2.0</td>\n",
       "    </tr>\n",
       "    <tr>\n",
       "      <th>1</th>\n",
       "      <td>9491a960-206a-4a58-9177-e78cb1f05e70</td>\n",
       "      <td>30</td>\n",
       "      <td>95172.0</td>\n",
       "      <td>672239440</td>\n",
       "      <td>past</td>\n",
       "      <td>2017</td>\n",
       "      <td>4</td>\n",
       "      <td>30</td>\n",
       "      <td>past</td>\n",
       "      <td>com-bonial-kaufda</td>\n",
       "      <td>GT-I9505</td>\n",
       "      <td>m9l4xq</td>\n",
       "      <td>2017.0</td>\n",
       "      <td>4.0</td>\n",
       "      <td>2.0</td>\n",
       "    </tr>\n",
       "    <tr>\n",
       "      <th>2</th>\n",
       "      <td>9491a960-206a-4a58-9177-e78cb1f05e70</td>\n",
       "      <td>2</td>\n",
       "      <td>4000.0</td>\n",
       "      <td>673861625</td>\n",
       "      <td>past</td>\n",
       "      <td>2017</td>\n",
       "      <td>4</td>\n",
       "      <td>30</td>\n",
       "      <td>past</td>\n",
       "      <td>com-bonial-kaufda</td>\n",
       "      <td>GT-I9505</td>\n",
       "      <td>m9l4xq</td>\n",
       "      <td>2017.0</td>\n",
       "      <td>4.0</td>\n",
       "      <td>2.0</td>\n",
       "    </tr>\n",
       "    <tr>\n",
       "      <th>3</th>\n",
       "      <td>9491a960-206a-4a58-9177-e78cb1f05e70</td>\n",
       "      <td>2</td>\n",
       "      <td>4000.0</td>\n",
       "      <td>673861625</td>\n",
       "      <td>past</td>\n",
       "      <td>2017</td>\n",
       "      <td>4</td>\n",
       "      <td>30</td>\n",
       "      <td>past</td>\n",
       "      <td>com-bonial-kaufda</td>\n",
       "      <td>GT-I9505</td>\n",
       "      <td>m9l4xq</td>\n",
       "      <td>2017.0</td>\n",
       "      <td>4.0</td>\n",
       "      <td>2.0</td>\n",
       "    </tr>\n",
       "    <tr>\n",
       "      <th>4</th>\n",
       "      <td>9491a960-206a-4a58-9177-e78cb1f05e70</td>\n",
       "      <td>1</td>\n",
       "      <td>14000.0</td>\n",
       "      <td>660764240</td>\n",
       "      <td>past</td>\n",
       "      <td>2017</td>\n",
       "      <td>4</td>\n",
       "      <td>30</td>\n",
       "      <td>past</td>\n",
       "      <td>com-bonial-kaufda</td>\n",
       "      <td>GT-I9505</td>\n",
       "      <td>m9l4xq</td>\n",
       "      <td>2017.0</td>\n",
       "      <td>4.0</td>\n",
       "      <td>2.0</td>\n",
       "    </tr>\n",
       "  </tbody>\n",
       "</table>\n",
       "</div>"
      ],
      "text/plain": [
       "                                 userId  page_turn_count  view_duration  \\\n",
       "0  9491a960-206a-4a58-9177-e78cb1f05e70               30        95172.0   \n",
       "1  9491a960-206a-4a58-9177-e78cb1f05e70               30        95172.0   \n",
       "2  9491a960-206a-4a58-9177-e78cb1f05e70                2         4000.0   \n",
       "3  9491a960-206a-4a58-9177-e78cb1f05e70                2         4000.0   \n",
       "4  9491a960-206a-4a58-9177-e78cb1f05e70                1        14000.0   \n",
       "\n",
       "   brochure_id origin  year  month  day app_origin          productId  \\\n",
       "0    672239440   past  2017      4   30       past  com-bonial-kaufda   \n",
       "1    672239440   past  2017      4   30       past  com-bonial-kaufda   \n",
       "2    673861625   past  2017      4   30       past  com-bonial-kaufda   \n",
       "3    673861625   past  2017      4   30       past  com-bonial-kaufda   \n",
       "4    660764240   past  2017      4   30       past  com-bonial-kaufda   \n",
       "\n",
       "      model campaignId  install_year  install_month  install_day  \n",
       "0  GT-I9505     m9l4xq        2017.0            4.0          2.0  \n",
       "1  GT-I9505     m9l4xq        2017.0            4.0          2.0  \n",
       "2  GT-I9505     m9l4xq        2017.0            4.0          2.0  \n",
       "3  GT-I9505     m9l4xq        2017.0            4.0          2.0  \n",
       "4  GT-I9505     m9l4xq        2017.0            4.0          2.0  "
      ]
     },
     "execution_count": 27,
     "metadata": {},
     "output_type": "execute_result"
    }
   ],
   "source": [
    "train_df2 = pd.merge(train_df, train_app_df2,\n",
    "                        how=\"left\", on=[\"userId\", \"year\", \"month\", \"day\"])\n",
    "train_df2.head()"
   ]
  },
  {
   "cell_type": "code",
   "execution_count": 28,
   "id": "99c3e997-69f7-4a8c-9d6c-0914a5d47449",
   "metadata": {
    "pycharm": {
     "name": "#%%\n"
    }
   },
   "outputs": [
    {
     "name": "stdout",
     "output_type": "stream",
     "text": [
      "Mem. usage decreased to 39.62 Mb (33.3% reduction)\n"
     ]
    }
   ],
   "source": [
    "train_df2 = reduce_mem_usage(train_df2)"
   ]
  },
  {
   "cell_type": "code",
   "execution_count": 29,
   "id": "2da0eb38-9840-4bcf-a1da-6427e5070269",
   "metadata": {
    "pycharm": {
     "name": "#%%\n"
    }
   },
   "outputs": [],
   "source": [
    "train_df2 = train_df2.drop_duplicates()"
   ]
  },
  {
   "cell_type": "code",
   "execution_count": 30,
   "id": "9b713d7d-1bfd-4840-80dd-a296c45f1e42",
   "metadata": {
    "pycharm": {
     "name": "#%%\n"
    }
   },
   "outputs": [
    {
     "data": {
      "text/plain": [
       "Index(['userId', 'page_turn_count', 'view_duration', 'brochure_id', 'origin',\n",
       "       'year', 'month', 'day', 'app_origin', 'productId', 'model',\n",
       "       'campaignId', 'install_year', 'install_month', 'install_day'],\n",
       "      dtype='object')"
      ]
     },
     "execution_count": 30,
     "metadata": {},
     "output_type": "execute_result"
    }
   ],
   "source": [
    "train_df2.columns"
   ]
  },
  {
   "cell_type": "code",
   "execution_count": 31,
   "id": "4ab68ed4-c4fc-435e-9557-221669684d4c",
   "metadata": {
    "pycharm": {
     "name": "#%%\n"
    }
   },
   "outputs": [],
   "source": [
    "train_df2.install_year = train_df2.install_year.fillna('2000')\n",
    "train_df2.install_month = train_df2.install_month.fillna('01')\n",
    "train_df2.install_day = train_df2.install_day.fillna('01')\n",
    "\n"
   ]
  },
  {
   "cell_type": "code",
   "execution_count": 32,
   "id": "ede5de76-40eb-4dee-a152-559466fea089",
   "metadata": {
    "pycharm": {
     "name": "#%%\n"
    }
   },
   "outputs": [
    {
     "data": {
      "text/plain": [
       "array([2017.0, '2000'], dtype=object)"
      ]
     },
     "execution_count": 32,
     "metadata": {},
     "output_type": "execute_result"
    }
   ],
   "source": [
    "train_df2.install_year.unique()"
   ]
  },
  {
   "cell_type": "code",
   "execution_count": 33,
   "id": "a1f394af-b26b-4a76-b1c1-04af4cdee37a",
   "metadata": {
    "pycharm": {
     "name": "#%%\n"
    }
   },
   "outputs": [
    {
     "data": {
      "text/plain": [
       "array([2017.0, '2000'], dtype=object)"
      ]
     },
     "execution_count": 33,
     "metadata": {},
     "output_type": "execute_result"
    }
   ],
   "source": [
    "train_df2.install_year.unique()"
   ]
  },
  {
   "cell_type": "code",
   "execution_count": 34,
   "id": "b332dc32-889b-4dba-b6e3-29c24759bd24",
   "metadata": {
    "pycharm": {
     "name": "#%%\n"
    }
   },
   "outputs": [
    {
     "data": {
      "text/html": [
       "<div>\n",
       "<style scoped>\n",
       "    .dataframe tbody tr th:only-of-type {\n",
       "        vertical-align: middle;\n",
       "    }\n",
       "\n",
       "    .dataframe tbody tr th {\n",
       "        vertical-align: top;\n",
       "    }\n",
       "\n",
       "    .dataframe thead tr th {\n",
       "        text-align: left;\n",
       "    }\n",
       "\n",
       "    .dataframe thead tr:last-of-type th {\n",
       "        text-align: right;\n",
       "    }\n",
       "</style>\n",
       "<table border=\"1\" class=\"dataframe\">\n",
       "  <thead>\n",
       "    <tr>\n",
       "      <th></th>\n",
       "      <th colspan=\"2\" halign=\"left\">dateCreated</th>\n",
       "    </tr>\n",
       "    <tr>\n",
       "      <th></th>\n",
       "      <th>amin</th>\n",
       "      <th>amax</th>\n",
       "    </tr>\n",
       "    <tr>\n",
       "      <th>userId</th>\n",
       "      <th></th>\n",
       "      <th></th>\n",
       "    </tr>\n",
       "  </thead>\n",
       "  <tbody>\n",
       "    <tr>\n",
       "      <th>0000bb01-a52b-4b4c-a0dd-8ef80f0a810c</th>\n",
       "      <td>2017-05-08 13:25:41.3060000</td>\n",
       "      <td>2017-05-08 13:25:41.3060000</td>\n",
       "    </tr>\n",
       "    <tr>\n",
       "      <th>0002c218-d30f-402e-ae08-1280ad4fb669</th>\n",
       "      <td>2017-04-24 22:44:19.1210000</td>\n",
       "      <td>2017-04-29 22:33:00.8390000</td>\n",
       "    </tr>\n",
       "    <tr>\n",
       "      <th>000691c6-4289-47f8-81f1-628e52ed5429</th>\n",
       "      <td>2017-04-25 17:04:05.2270000</td>\n",
       "      <td>2017-04-25 17:04:05.2270000</td>\n",
       "    </tr>\n",
       "    <tr>\n",
       "      <th>00095350-9e64-4b34-9112-b9869703248b</th>\n",
       "      <td>2017-04-07 11:59:03.8880000</td>\n",
       "      <td>2017-04-08 10:15:48.1170000</td>\n",
       "    </tr>\n",
       "    <tr>\n",
       "      <th>00095653-80f8-4fba-93d9-44ae70bb6263</th>\n",
       "      <td>2017-05-09 14:07:07.5480000</td>\n",
       "      <td>2017-06-21 15:51:46.1330000</td>\n",
       "    </tr>\n",
       "  </tbody>\n",
       "</table>\n",
       "</div>"
      ],
      "text/plain": [
       "                                                      dateCreated  \\\n",
       "                                                             amin   \n",
       "userId                                                              \n",
       "0000bb01-a52b-4b4c-a0dd-8ef80f0a810c  2017-05-08 13:25:41.3060000   \n",
       "0002c218-d30f-402e-ae08-1280ad4fb669  2017-04-24 22:44:19.1210000   \n",
       "000691c6-4289-47f8-81f1-628e52ed5429  2017-04-25 17:04:05.2270000   \n",
       "00095350-9e64-4b34-9112-b9869703248b  2017-04-07 11:59:03.8880000   \n",
       "00095653-80f8-4fba-93d9-44ae70bb6263  2017-05-09 14:07:07.5480000   \n",
       "\n",
       "                                                                   \n",
       "                                                             amax  \n",
       "userId                                                             \n",
       "0000bb01-a52b-4b4c-a0dd-8ef80f0a810c  2017-05-08 13:25:41.3060000  \n",
       "0002c218-d30f-402e-ae08-1280ad4fb669  2017-04-29 22:33:00.8390000  \n",
       "000691c6-4289-47f8-81f1-628e52ed5429  2017-04-25 17:04:05.2270000  \n",
       "00095350-9e64-4b34-9112-b9869703248b  2017-04-08 10:15:48.1170000  \n",
       "00095653-80f8-4fba-93d9-44ae70bb6263  2017-06-21 15:51:46.1330000  "
      ]
     },
     "execution_count": 34,
     "metadata": {},
     "output_type": "execute_result"
    }
   ],
   "source": [
    "df = train_app_df.copy()\n",
    "df = df.groupby([\"userId\"]).agg({'dateCreated': [np.min, np.max]})\n",
    "\n",
    "df.head()"
   ]
  },
  {
   "cell_type": "code",
   "execution_count": 35,
   "id": "8a816916-fcb6-4a6e-bf58-6be3c40af406",
   "metadata": {
    "pycharm": {
     "name": "#%%\n"
    }
   },
   "outputs": [
    {
     "data": {
      "text/html": [
       "<div>\n",
       "<style scoped>\n",
       "    .dataframe tbody tr th:only-of-type {\n",
       "        vertical-align: middle;\n",
       "    }\n",
       "\n",
       "    .dataframe tbody tr th {\n",
       "        vertical-align: top;\n",
       "    }\n",
       "\n",
       "    .dataframe thead th {\n",
       "        text-align: right;\n",
       "    }\n",
       "</style>\n",
       "<table border=\"1\" class=\"dataframe\">\n",
       "  <thead>\n",
       "    <tr style=\"text-align: right;\">\n",
       "      <th></th>\n",
       "      <th>userId</th>\n",
       "      <th>page_turn_count</th>\n",
       "      <th>view_duration</th>\n",
       "      <th>brochure_id</th>\n",
       "      <th>origin</th>\n",
       "      <th>year</th>\n",
       "      <th>month</th>\n",
       "      <th>day</th>\n",
       "      <th>app_origin</th>\n",
       "      <th>productId</th>\n",
       "      <th>model</th>\n",
       "      <th>campaignId</th>\n",
       "      <th>install_year</th>\n",
       "      <th>install_month</th>\n",
       "      <th>install_day</th>\n",
       "      <th>(dateCreated, amin)</th>\n",
       "      <th>(dateCreated, amax)</th>\n",
       "    </tr>\n",
       "  </thead>\n",
       "  <tbody>\n",
       "    <tr>\n",
       "      <th>0</th>\n",
       "      <td>9491a960-206a-4a58-9177-e78cb1f05e70</td>\n",
       "      <td>30</td>\n",
       "      <td>95172.0</td>\n",
       "      <td>672239440</td>\n",
       "      <td>past</td>\n",
       "      <td>2017</td>\n",
       "      <td>4</td>\n",
       "      <td>30</td>\n",
       "      <td>past</td>\n",
       "      <td>com-bonial-kaufda</td>\n",
       "      <td>GT-I9505</td>\n",
       "      <td>m9l4xq</td>\n",
       "      <td>2017.0</td>\n",
       "      <td>4.0</td>\n",
       "      <td>2.0</td>\n",
       "      <td>2017-04-02 09:50:54.0000000</td>\n",
       "      <td>2017-07-31 19:43:16.7780000</td>\n",
       "    </tr>\n",
       "    <tr>\n",
       "      <th>1</th>\n",
       "      <td>9491a960-206a-4a58-9177-e78cb1f05e70</td>\n",
       "      <td>2</td>\n",
       "      <td>4000.0</td>\n",
       "      <td>673861625</td>\n",
       "      <td>past</td>\n",
       "      <td>2017</td>\n",
       "      <td>4</td>\n",
       "      <td>30</td>\n",
       "      <td>past</td>\n",
       "      <td>com-bonial-kaufda</td>\n",
       "      <td>GT-I9505</td>\n",
       "      <td>m9l4xq</td>\n",
       "      <td>2017.0</td>\n",
       "      <td>4.0</td>\n",
       "      <td>2.0</td>\n",
       "      <td>2017-04-02 09:50:54.0000000</td>\n",
       "      <td>2017-07-31 19:43:16.7780000</td>\n",
       "    </tr>\n",
       "    <tr>\n",
       "      <th>2</th>\n",
       "      <td>9491a960-206a-4a58-9177-e78cb1f05e70</td>\n",
       "      <td>1</td>\n",
       "      <td>14000.0</td>\n",
       "      <td>660764240</td>\n",
       "      <td>past</td>\n",
       "      <td>2017</td>\n",
       "      <td>4</td>\n",
       "      <td>30</td>\n",
       "      <td>past</td>\n",
       "      <td>com-bonial-kaufda</td>\n",
       "      <td>GT-I9505</td>\n",
       "      <td>m9l4xq</td>\n",
       "      <td>2017.0</td>\n",
       "      <td>4.0</td>\n",
       "      <td>2.0</td>\n",
       "      <td>2017-04-02 09:50:54.0000000</td>\n",
       "      <td>2017-07-31 19:43:16.7780000</td>\n",
       "    </tr>\n",
       "    <tr>\n",
       "      <th>3</th>\n",
       "      <td>fa623647-dfc9-49b4-bbb6-77cbacd599f4</td>\n",
       "      <td>64</td>\n",
       "      <td>168000.0</td>\n",
       "      <td>672658544</td>\n",
       "      <td>past</td>\n",
       "      <td>2017</td>\n",
       "      <td>4</td>\n",
       "      <td>30</td>\n",
       "      <td>past</td>\n",
       "      <td>com-bonial-kaufda</td>\n",
       "      <td>HUAWEI+VNS-L31</td>\n",
       "      <td>z4l9l8</td>\n",
       "      <td>2017.0</td>\n",
       "      <td>4.0</td>\n",
       "      <td>1.0</td>\n",
       "      <td>2017-04-01 11:53:40.0000000</td>\n",
       "      <td>2017-06-21 11:44:13.1740000</td>\n",
       "    </tr>\n",
       "    <tr>\n",
       "      <th>4</th>\n",
       "      <td>9491a960-206a-4a58-9177-e78cb1f05e70</td>\n",
       "      <td>1</td>\n",
       "      <td>33000.0</td>\n",
       "      <td>660764240</td>\n",
       "      <td>past</td>\n",
       "      <td>2017</td>\n",
       "      <td>4</td>\n",
       "      <td>30</td>\n",
       "      <td>past</td>\n",
       "      <td>com-bonial-kaufda</td>\n",
       "      <td>GT-I9505</td>\n",
       "      <td>m9l4xq</td>\n",
       "      <td>2017.0</td>\n",
       "      <td>4.0</td>\n",
       "      <td>2.0</td>\n",
       "      <td>2017-04-02 09:50:54.0000000</td>\n",
       "      <td>2017-07-31 19:43:16.7780000</td>\n",
       "    </tr>\n",
       "  </tbody>\n",
       "</table>\n",
       "</div>"
      ],
      "text/plain": [
       "                                 userId  page_turn_count  view_duration  \\\n",
       "0  9491a960-206a-4a58-9177-e78cb1f05e70               30        95172.0   \n",
       "1  9491a960-206a-4a58-9177-e78cb1f05e70                2         4000.0   \n",
       "2  9491a960-206a-4a58-9177-e78cb1f05e70                1        14000.0   \n",
       "3  fa623647-dfc9-49b4-bbb6-77cbacd599f4               64       168000.0   \n",
       "4  9491a960-206a-4a58-9177-e78cb1f05e70                1        33000.0   \n",
       "\n",
       "   brochure_id origin  year  month  day app_origin          productId  \\\n",
       "0    672239440   past  2017      4   30       past  com-bonial-kaufda   \n",
       "1    673861625   past  2017      4   30       past  com-bonial-kaufda   \n",
       "2    660764240   past  2017      4   30       past  com-bonial-kaufda   \n",
       "3    672658544   past  2017      4   30       past  com-bonial-kaufda   \n",
       "4    660764240   past  2017      4   30       past  com-bonial-kaufda   \n",
       "\n",
       "            model campaignId install_year install_month install_day  \\\n",
       "0        GT-I9505     m9l4xq       2017.0           4.0         2.0   \n",
       "1        GT-I9505     m9l4xq       2017.0           4.0         2.0   \n",
       "2        GT-I9505     m9l4xq       2017.0           4.0         2.0   \n",
       "3  HUAWEI+VNS-L31     z4l9l8       2017.0           4.0         1.0   \n",
       "4        GT-I9505     m9l4xq       2017.0           4.0         2.0   \n",
       "\n",
       "           (dateCreated, amin)          (dateCreated, amax)  \n",
       "0  2017-04-02 09:50:54.0000000  2017-07-31 19:43:16.7780000  \n",
       "1  2017-04-02 09:50:54.0000000  2017-07-31 19:43:16.7780000  \n",
       "2  2017-04-02 09:50:54.0000000  2017-07-31 19:43:16.7780000  \n",
       "3  2017-04-01 11:53:40.0000000  2017-06-21 11:44:13.1740000  \n",
       "4  2017-04-02 09:50:54.0000000  2017-07-31 19:43:16.7780000  "
      ]
     },
     "execution_count": 35,
     "metadata": {},
     "output_type": "execute_result"
    }
   ],
   "source": [
    "train_df3 = pd.merge(train_df2, df,\n",
    "                        how=\"left\", on=[\"userId\"])\n",
    "train_df3.head()"
   ]
  },
  {
   "cell_type": "code",
   "execution_count": 36,
   "id": "a8ed2be2-aad4-4ded-9ff6-7f20f473301b",
   "metadata": {
    "pycharm": {
     "name": "#%%\n"
    }
   },
   "outputs": [],
   "source": [
    "train_df3['first_data_date'] = train_df3['dateCreated', 'amin']\n",
    "\n",
    "train_df3['last_data_date'] = train_df3['dateCreated', 'amax']\n"
   ]
  },
  {
   "cell_type": "code",
   "execution_count": 37,
   "id": "c43ff66e-3358-46ab-8a4d-bb0fb8060fa0",
   "metadata": {
    "pycharm": {
     "name": "#%%\n"
    }
   },
   "outputs": [
    {
     "data": {
      "text/plain": [
       "Index([               'userId',       'page_turn_count',\n",
       "               'view_duration',           'brochure_id',\n",
       "                      'origin',                  'year',\n",
       "                       'month',                   'day',\n",
       "                  'app_origin',             'productId',\n",
       "                       'model',            'campaignId',\n",
       "                'install_year',         'install_month',\n",
       "                 'install_day', ('dateCreated', 'amin'),\n",
       "       ('dateCreated', 'amax'),       'first_data_date',\n",
       "              'last_data_date'],\n",
       "      dtype='object')"
      ]
     },
     "execution_count": 37,
     "metadata": {},
     "output_type": "execute_result"
    }
   ],
   "source": [
    "train_df3.columns"
   ]
  },
  {
   "cell_type": "code",
   "execution_count": 38,
   "id": "79597d74-5209-4f1a-8950-f95620c904c6",
   "metadata": {
    "pycharm": {
     "name": "#%%\n"
    }
   },
   "outputs": [
    {
     "data": {
      "text/html": [
       "<div>\n",
       "<style scoped>\n",
       "    .dataframe tbody tr th:only-of-type {\n",
       "        vertical-align: middle;\n",
       "    }\n",
       "\n",
       "    .dataframe tbody tr th {\n",
       "        vertical-align: top;\n",
       "    }\n",
       "\n",
       "    .dataframe thead th {\n",
       "        text-align: right;\n",
       "    }\n",
       "</style>\n",
       "<table border=\"1\" class=\"dataframe\">\n",
       "  <thead>\n",
       "    <tr style=\"text-align: right;\">\n",
       "      <th></th>\n",
       "      <th>userId</th>\n",
       "      <th>page_turn_count</th>\n",
       "      <th>view_duration</th>\n",
       "      <th>brochure_id</th>\n",
       "      <th>origin</th>\n",
       "      <th>year</th>\n",
       "      <th>month</th>\n",
       "      <th>day</th>\n",
       "      <th>app_origin</th>\n",
       "      <th>productId</th>\n",
       "      <th>model</th>\n",
       "      <th>campaignId</th>\n",
       "      <th>install_year</th>\n",
       "      <th>install_month</th>\n",
       "      <th>install_day</th>\n",
       "      <th>first_data_date</th>\n",
       "      <th>last_data_date</th>\n",
       "    </tr>\n",
       "  </thead>\n",
       "  <tbody>\n",
       "    <tr>\n",
       "      <th>0</th>\n",
       "      <td>9491a960-206a-4a58-9177-e78cb1f05e70</td>\n",
       "      <td>30</td>\n",
       "      <td>95172.0</td>\n",
       "      <td>672239440</td>\n",
       "      <td>past</td>\n",
       "      <td>2017</td>\n",
       "      <td>4</td>\n",
       "      <td>30</td>\n",
       "      <td>past</td>\n",
       "      <td>com-bonial-kaufda</td>\n",
       "      <td>GT-I9505</td>\n",
       "      <td>m9l4xq</td>\n",
       "      <td>2017.0</td>\n",
       "      <td>4.0</td>\n",
       "      <td>2.0</td>\n",
       "      <td>2017-04-02 09:50:54.0000000</td>\n",
       "      <td>2017-07-31 19:43:16.7780000</td>\n",
       "    </tr>\n",
       "    <tr>\n",
       "      <th>1</th>\n",
       "      <td>9491a960-206a-4a58-9177-e78cb1f05e70</td>\n",
       "      <td>2</td>\n",
       "      <td>4000.0</td>\n",
       "      <td>673861625</td>\n",
       "      <td>past</td>\n",
       "      <td>2017</td>\n",
       "      <td>4</td>\n",
       "      <td>30</td>\n",
       "      <td>past</td>\n",
       "      <td>com-bonial-kaufda</td>\n",
       "      <td>GT-I9505</td>\n",
       "      <td>m9l4xq</td>\n",
       "      <td>2017.0</td>\n",
       "      <td>4.0</td>\n",
       "      <td>2.0</td>\n",
       "      <td>2017-04-02 09:50:54.0000000</td>\n",
       "      <td>2017-07-31 19:43:16.7780000</td>\n",
       "    </tr>\n",
       "    <tr>\n",
       "      <th>2</th>\n",
       "      <td>9491a960-206a-4a58-9177-e78cb1f05e70</td>\n",
       "      <td>1</td>\n",
       "      <td>14000.0</td>\n",
       "      <td>660764240</td>\n",
       "      <td>past</td>\n",
       "      <td>2017</td>\n",
       "      <td>4</td>\n",
       "      <td>30</td>\n",
       "      <td>past</td>\n",
       "      <td>com-bonial-kaufda</td>\n",
       "      <td>GT-I9505</td>\n",
       "      <td>m9l4xq</td>\n",
       "      <td>2017.0</td>\n",
       "      <td>4.0</td>\n",
       "      <td>2.0</td>\n",
       "      <td>2017-04-02 09:50:54.0000000</td>\n",
       "      <td>2017-07-31 19:43:16.7780000</td>\n",
       "    </tr>\n",
       "    <tr>\n",
       "      <th>3</th>\n",
       "      <td>fa623647-dfc9-49b4-bbb6-77cbacd599f4</td>\n",
       "      <td>64</td>\n",
       "      <td>168000.0</td>\n",
       "      <td>672658544</td>\n",
       "      <td>past</td>\n",
       "      <td>2017</td>\n",
       "      <td>4</td>\n",
       "      <td>30</td>\n",
       "      <td>past</td>\n",
       "      <td>com-bonial-kaufda</td>\n",
       "      <td>HUAWEI+VNS-L31</td>\n",
       "      <td>z4l9l8</td>\n",
       "      <td>2017.0</td>\n",
       "      <td>4.0</td>\n",
       "      <td>1.0</td>\n",
       "      <td>2017-04-01 11:53:40.0000000</td>\n",
       "      <td>2017-06-21 11:44:13.1740000</td>\n",
       "    </tr>\n",
       "    <tr>\n",
       "      <th>4</th>\n",
       "      <td>9491a960-206a-4a58-9177-e78cb1f05e70</td>\n",
       "      <td>1</td>\n",
       "      <td>33000.0</td>\n",
       "      <td>660764240</td>\n",
       "      <td>past</td>\n",
       "      <td>2017</td>\n",
       "      <td>4</td>\n",
       "      <td>30</td>\n",
       "      <td>past</td>\n",
       "      <td>com-bonial-kaufda</td>\n",
       "      <td>GT-I9505</td>\n",
       "      <td>m9l4xq</td>\n",
       "      <td>2017.0</td>\n",
       "      <td>4.0</td>\n",
       "      <td>2.0</td>\n",
       "      <td>2017-04-02 09:50:54.0000000</td>\n",
       "      <td>2017-07-31 19:43:16.7780000</td>\n",
       "    </tr>\n",
       "  </tbody>\n",
       "</table>\n",
       "</div>"
      ],
      "text/plain": [
       "                                 userId  page_turn_count  view_duration  \\\n",
       "0  9491a960-206a-4a58-9177-e78cb1f05e70               30        95172.0   \n",
       "1  9491a960-206a-4a58-9177-e78cb1f05e70                2         4000.0   \n",
       "2  9491a960-206a-4a58-9177-e78cb1f05e70                1        14000.0   \n",
       "3  fa623647-dfc9-49b4-bbb6-77cbacd599f4               64       168000.0   \n",
       "4  9491a960-206a-4a58-9177-e78cb1f05e70                1        33000.0   \n",
       "\n",
       "   brochure_id origin  year  month  day app_origin          productId  \\\n",
       "0    672239440   past  2017      4   30       past  com-bonial-kaufda   \n",
       "1    673861625   past  2017      4   30       past  com-bonial-kaufda   \n",
       "2    660764240   past  2017      4   30       past  com-bonial-kaufda   \n",
       "3    672658544   past  2017      4   30       past  com-bonial-kaufda   \n",
       "4    660764240   past  2017      4   30       past  com-bonial-kaufda   \n",
       "\n",
       "            model campaignId install_year install_month install_day  \\\n",
       "0        GT-I9505     m9l4xq       2017.0           4.0         2.0   \n",
       "1        GT-I9505     m9l4xq       2017.0           4.0         2.0   \n",
       "2        GT-I9505     m9l4xq       2017.0           4.0         2.0   \n",
       "3  HUAWEI+VNS-L31     z4l9l8       2017.0           4.0         1.0   \n",
       "4        GT-I9505     m9l4xq       2017.0           4.0         2.0   \n",
       "\n",
       "               first_data_date               last_data_date  \n",
       "0  2017-04-02 09:50:54.0000000  2017-07-31 19:43:16.7780000  \n",
       "1  2017-04-02 09:50:54.0000000  2017-07-31 19:43:16.7780000  \n",
       "2  2017-04-02 09:50:54.0000000  2017-07-31 19:43:16.7780000  \n",
       "3  2017-04-01 11:53:40.0000000  2017-06-21 11:44:13.1740000  \n",
       "4  2017-04-02 09:50:54.0000000  2017-07-31 19:43:16.7780000  "
      ]
     },
     "execution_count": 38,
     "metadata": {},
     "output_type": "execute_result"
    }
   ],
   "source": [
    "train_df4 = train_df3[['userId', 'page_turn_count', 'view_duration', 'brochure_id',\n",
    "                      'origin', 'year', 'month', 'day', 'app_origin', 'productId', \n",
    "                       'model', 'campaignId', 'install_year', 'install_month', 'install_day',\n",
    "                       'first_data_date', 'last_data_date']].copy()\n",
    "train_df4.head()"
   ]
  },
  {
   "cell_type": "code",
   "execution_count": null,
   "id": "397193a0-bac5-4083-85e8-d833790c5e06",
   "metadata": {
    "pycharm": {
     "name": "#%%\n"
    }
   },
   "outputs": [],
   "source": []
  },
  {
   "cell_type": "code",
   "execution_count": 39,
   "id": "c75d264c-dc36-4c96-958b-dfb0ad456cf9",
   "metadata": {
    "pycharm": {
     "name": "#%%\n"
    }
   },
   "outputs": [],
   "source": [
    "user_list = train_df4[train_df4.origin == \"past\"].userId.unique()\n",
    "active_list = train_df4[train_df4.origin == \"july\"].userId.unique()\n",
    "churn_list = set(user_list) - set(active_list)"
   ]
  },
  {
   "cell_type": "code",
   "execution_count": 40,
   "id": "3541a696-2855-4115-955f-0e3b36e23bc5",
   "metadata": {
    "pycharm": {
     "name": "#%%\n"
    }
   },
   "outputs": [
    {
     "data": {
      "text/plain": [
       "(10943, 3751, 7310)"
      ]
     },
     "execution_count": 40,
     "metadata": {},
     "output_type": "execute_result"
    }
   ],
   "source": [
    "len(user_list), len(active_list), len(churn_list)"
   ]
  },
  {
   "cell_type": "code",
   "execution_count": 41,
   "id": "bd20a476-f451-4280-8597-77b484ab9a3e",
   "metadata": {
    "pycharm": {
     "name": "#%%\n"
    }
   },
   "outputs": [],
   "source": [
    "churn_dictionary = dict.fromkeys(churn_list, 1)\n",
    "train_df4['churn'] = train_df4['userId'].map(churn_dictionary)\n",
    "train_df4['churn'].fillna(0, inplace=True)"
   ]
  },
  {
   "cell_type": "code",
   "execution_count": null,
   "id": "488aaaf3-cab1-42e8-8c59-24e624628b88",
   "metadata": {
    "pycharm": {
     "name": "#%%\n"
    }
   },
   "outputs": [],
   "source": []
  },
  {
   "cell_type": "code",
   "execution_count": null,
   "id": "122b9b45-7cc4-41bf-a58e-c9b118a21b7f",
   "metadata": {
    "pycharm": {
     "name": "#%%\n"
    }
   },
   "outputs": [],
   "source": []
  },
  {
   "cell_type": "code",
   "execution_count": 42,
   "id": "b21ce66e-dcf3-43f1-9466-9642ca58c66f",
   "metadata": {
    "pycharm": {
     "name": "#%%\n"
    }
   },
   "outputs": [
    {
     "data": {
      "text/plain": [
       "0.0    191062\n",
       "1.0     86720\n",
       "Name: churn, dtype: int64"
      ]
     },
     "execution_count": 42,
     "metadata": {},
     "output_type": "execute_result"
    }
   ],
   "source": [
    "train_df4[train_df4.origin == \"past\"].churn.value_counts()"
   ]
  },
  {
   "cell_type": "code",
   "execution_count": null,
   "id": "d15310bd-7d7b-442b-84a9-040d0fc4ffd2",
   "metadata": {
    "pycharm": {
     "name": "#%%\n"
    }
   },
   "outputs": [],
   "source": []
  },
  {
   "cell_type": "code",
   "execution_count": 45,
   "id": "67908bd1-cdb1-492d-9764-3049ff2d1c0a",
   "metadata": {
    "pycharm": {
     "name": "#%%\n"
    }
   },
   "outputs": [
    {
     "data": {
      "text/plain": [
       "(938, 619, 3, 22854)"
      ]
     },
     "execution_count": 45,
     "metadata": {},
     "output_type": "execute_result"
    }
   ],
   "source": [
    "train_df4.model.nunique(), train_df4.campaignId.nunique(), train_df4.productId.nunique(), train_df4.brochure_id.nunique()"
   ]
  },
  {
   "cell_type": "code",
   "execution_count": 46,
   "id": "93b28e35-ecf8-42e5-9819-b69aeaed4259",
   "metadata": {
    "pycharm": {
     "name": "#%%\n"
    }
   },
   "outputs": [
    {
     "data": {
      "text/plain": [
       "<AxesSubplot:xlabel='month', ylabel='Density'>"
      ]
     },
     "execution_count": 46,
     "metadata": {},
     "output_type": "execute_result"
    },
    {
     "data": {
      "image/png": "[encoded data removed]",
      "text/plain": [
       "<Figure size 864x504 with 2 Axes>"
      ]
     },
     "metadata": {
      "needs_background": "light"
     },
     "output_type": "display_data"
    }
   ],
   "source": [
    "fig, axes = plt.subplots(1,2, figsize=(12, 7))\n",
    "sns.distplot(train_df4[\"month\"], ax=axes[0])\n"
   ]
  },
  {
   "cell_type": "code",
   "execution_count": 47,
   "id": "7a1092de-a089-45eb-97c0-3805ebd198e4",
   "metadata": {
    "pycharm": {
     "name": "#%%\n"
    }
   },
   "outputs": [
    {
     "data": {
      "text/plain": [
       "<AxesSubplot:xlabel='campaignId', ylabel='count'>"
      ]
     },
     "execution_count": 47,
     "metadata": {},
     "output_type": "execute_result"
    },
    {
     "data": {
      "image/png": "[encoded data removed]",
      "text/plain": [
       "<Figure size 864x504 with 6 Axes>"
      ]
     },
     "metadata": {
      "needs_background": "light"
     },
     "output_type": "display_data"
    }
   ],
   "source": [
    "fig, axes = plt.subplots(2, 3, figsize=(12, 7), sharey=True)\n",
    "sns.countplot(\"brochure_id\", data=train_df4, ax=axes[0,0])\n",
    "sns.countplot(\"productId\", data=train_df4, ax=axes[0,1])\n",
    "sns.countplot(\"model\", data=train_df4, ax=axes[0,2])\n",
    "sns.countplot(\"campaignId\", data=train_df4, ax=axes[1,0])"
   ]
  },
  {
   "cell_type": "code",
   "execution_count": 48,
   "id": "e805d2e3-4356-4fb1-8713-e638f5b4f23e",
   "metadata": {
    "pycharm": {
     "name": "#%%\n"
    }
   },
   "outputs": [
    {
     "data": {
      "text/html": [
       "<div>\n",
       "<style scoped>\n",
       "    .dataframe tbody tr th:only-of-type {\n",
       "        vertical-align: middle;\n",
       "    }\n",
       "\n",
       "    .dataframe tbody tr th {\n",
       "        vertical-align: top;\n",
       "    }\n",
       "\n",
       "    .dataframe thead th {\n",
       "        text-align: right;\n",
       "    }\n",
       "</style>\n",
       "<table border=\"1\" class=\"dataframe\">\n",
       "  <thead>\n",
       "    <tr style=\"text-align: right;\">\n",
       "      <th></th>\n",
       "      <th>churn</th>\n",
       "    </tr>\n",
       "    <tr>\n",
       "      <th>productId</th>\n",
       "      <th></th>\n",
       "    </tr>\n",
       "  </thead>\n",
       "  <tbody>\n",
       "    <tr>\n",
       "      <th>com-bonial-kaufda</th>\n",
       "      <td>0.248051</td>\n",
       "    </tr>\n",
       "    <tr>\n",
       "      <th>de-kaufda-android</th>\n",
       "      <td>0.212519</td>\n",
       "    </tr>\n",
       "    <tr>\n",
       "      <th>de.kaufda.kaufda</th>\n",
       "      <td>0.630607</td>\n",
       "    </tr>\n",
       "  </tbody>\n",
       "</table>\n",
       "</div>"
      ],
      "text/plain": [
       "                      churn\n",
       "productId                  \n",
       "com-bonial-kaufda  0.248051\n",
       "de-kaufda-android  0.212519\n",
       "de.kaufda.kaufda   0.630607"
      ]
     },
     "execution_count": 48,
     "metadata": {},
     "output_type": "execute_result"
    }
   ],
   "source": [
    "train_df4[['productId','churn']].groupby(['productId']).mean()"
   ]
  },
  {
   "cell_type": "code",
   "execution_count": 49,
   "id": "3a8a8b55-40ae-4d42-a1d8-5ef2940ee645",
   "metadata": {
    "pycharm": {
     "name": "#%%\n"
    }
   },
   "outputs": [
    {
     "data": {
      "text/html": [
       "<div>\n",
       "<style scoped>\n",
       "    .dataframe tbody tr th:only-of-type {\n",
       "        vertical-align: middle;\n",
       "    }\n",
       "\n",
       "    .dataframe tbody tr th {\n",
       "        vertical-align: top;\n",
       "    }\n",
       "\n",
       "    .dataframe thead th {\n",
       "        text-align: right;\n",
       "    }\n",
       "</style>\n",
       "<table border=\"1\" class=\"dataframe\">\n",
       "  <thead>\n",
       "    <tr style=\"text-align: right;\">\n",
       "      <th></th>\n",
       "      <th>churn</th>\n",
       "    </tr>\n",
       "    <tr>\n",
       "      <th>month</th>\n",
       "      <th></th>\n",
       "    </tr>\n",
       "  </thead>\n",
       "  <tbody>\n",
       "    <tr>\n",
       "      <th>4</th>\n",
       "      <td>0.510315</td>\n",
       "    </tr>\n",
       "    <tr>\n",
       "      <th>5</th>\n",
       "      <td>0.348601</td>\n",
       "    </tr>\n",
       "    <tr>\n",
       "      <th>6</th>\n",
       "      <td>0.138982</td>\n",
       "    </tr>\n",
       "    <tr>\n",
       "      <th>7</th>\n",
       "      <td>0.000000</td>\n",
       "    </tr>\n",
       "  </tbody>\n",
       "</table>\n",
       "</div>"
      ],
      "text/plain": [
       "          churn\n",
       "month          \n",
       "4      0.510315\n",
       "5      0.348601\n",
       "6      0.138982\n",
       "7      0.000000"
      ]
     },
     "execution_count": 49,
     "metadata": {},
     "output_type": "execute_result"
    }
   ],
   "source": [
    "train_df4[['month','churn']].groupby(['month']).mean()"
   ]
  },
  {
   "cell_type": "code",
   "execution_count": 50,
   "id": "c7ae5a7a-07fc-4660-9c79-b9971a7edbad",
   "metadata": {
    "pycharm": {
     "name": "#%%\n"
    }
   },
   "outputs": [
    {
     "data": {
      "text/plain": [
       "Index(['userId', 'page_turn_count', 'view_duration', 'brochure_id', 'origin',\n",
       "       'year', 'month', 'day', 'app_origin', 'productId', 'model',\n",
       "       'campaignId', 'install_year', 'install_month', 'install_day',\n",
       "       'first_data_date', 'last_data_date', 'churn'],\n",
       "      dtype='object')"
      ]
     },
     "execution_count": 50,
     "metadata": {},
     "output_type": "execute_result"
    }
   ],
   "source": [
    "train_df4.columns"
   ]
  },
  {
   "cell_type": "code",
   "execution_count": 51,
   "id": "784773da-6ac8-4e0c-82d2-fc0ad9f05c59",
   "metadata": {
    "pycharm": {
     "name": "#%%\n"
    }
   },
   "outputs": [],
   "source": [
    "train_df4['last_data_date'] = pd.to_datetime(train_df4['last_data_date'], format='%Y-%m-%d')\n",
    "train_df4['last_data_date'] = train_df4['last_data_date'].dt.strftime('%Y-%m-%d')\n",
    "\n",
    "train_df4.last_data_date = train_df4.last_data_date.fillna('2000-01-01 00:00:01.0000000')\n",
    "train_df4['last_year'] = pd.DatetimeIndex(train_df4['last_data_date']).year\n",
    "train_df4['last_month'] = pd.DatetimeIndex(train_df4['last_data_date']).month\n",
    "train_df4['last_day'] = pd.DatetimeIndex(train_df4['last_data_date']).day\n",
    "\n",
    "train_df4 = train_df4.drop(columns='last_data_date')\n",
    "\n",
    "train_df4['first_data_date'] = pd.to_datetime(train_df4['first_data_date'], format='%Y-%m-%d')\n",
    "train_df4['first_data_date'] = train_df4['first_data_date'].dt.strftime('%Y-%m-%d')\n",
    "\n",
    "train_df4.first_data_date = train_df4.first_data_date.fillna('2000-01-01 00:00:01.0000000')\n",
    "train_df4['first_year'] = pd.DatetimeIndex(train_df4['first_data_date']).year\n",
    "train_df4['first_month'] = pd.DatetimeIndex(train_df4['first_data_date']).month\n",
    "train_df4['first_day'] = pd.DatetimeIndex(train_df4['first_data_date']).day\n",
    "\n",
    "train_df4 = train_df4.drop(columns='first_data_date')"
   ]
  },
  {
   "cell_type": "code",
   "execution_count": 52,
   "id": "11418148-3925-4ca6-bbae-7fb18e19164e",
   "metadata": {
    "pycharm": {
     "name": "#%%\n"
    }
   },
   "outputs": [],
   "source": [
    "train_df4.InstallDate = train_df4.install_year.fillna(\"2000\")\n",
    "train_df4.InstallDate = train_df4.install_month.fillna('01')\n",
    "train_df4.InstallDate = train_df4.install_day.fillna('01')"
   ]
  },
  {
   "cell_type": "code",
   "execution_count": 53,
   "id": "807669ec-d7eb-4b49-9395-61a32639f29c",
   "metadata": {
    "pycharm": {
     "name": "#%%\n"
    }
   },
   "outputs": [
    {
     "data": {
      "text/plain": [
       "array([2017., 2000.])"
      ]
     },
     "execution_count": 53,
     "metadata": {},
     "output_type": "execute_result"
    }
   ],
   "source": [
    "train_df4.install_year.unique()"
   ]
  },
  {
   "cell_type": "code",
   "execution_count": 54,
   "id": "4ae19f3f-7782-42f0-b8dc-4305143df4f3",
   "metadata": {
    "pycharm": {
     "name": "#%%\n"
    }
   },
   "outputs": [
    {
     "data": {
      "text/html": [
       "<div>\n",
       "<style scoped>\n",
       "    .dataframe tbody tr th:only-of-type {\n",
       "        vertical-align: middle;\n",
       "    }\n",
       "\n",
       "    .dataframe tbody tr th {\n",
       "        vertical-align: top;\n",
       "    }\n",
       "\n",
       "    .dataframe thead th {\n",
       "        text-align: right;\n",
       "    }\n",
       "</style>\n",
       "<table border=\"1\" class=\"dataframe\">\n",
       "  <thead>\n",
       "    <tr style=\"text-align: right;\">\n",
       "      <th></th>\n",
       "      <th>userId</th>\n",
       "      <th>page_turn_count</th>\n",
       "      <th>view_duration</th>\n",
       "      <th>brochure_id</th>\n",
       "      <th>origin</th>\n",
       "      <th>year</th>\n",
       "      <th>month</th>\n",
       "      <th>day</th>\n",
       "      <th>app_origin</th>\n",
       "      <th>productId</th>\n",
       "      <th>...</th>\n",
       "      <th>install_year</th>\n",
       "      <th>install_month</th>\n",
       "      <th>install_day</th>\n",
       "      <th>churn</th>\n",
       "      <th>last_year</th>\n",
       "      <th>last_month</th>\n",
       "      <th>last_day</th>\n",
       "      <th>first_year</th>\n",
       "      <th>first_month</th>\n",
       "      <th>first_day</th>\n",
       "    </tr>\n",
       "  </thead>\n",
       "  <tbody>\n",
       "    <tr>\n",
       "      <th>0</th>\n",
       "      <td>9491a960-206a-4a58-9177-e78cb1f05e70</td>\n",
       "      <td>30</td>\n",
       "      <td>95172.0</td>\n",
       "      <td>672239440</td>\n",
       "      <td>past</td>\n",
       "      <td>2017</td>\n",
       "      <td>4</td>\n",
       "      <td>30</td>\n",
       "      <td>past</td>\n",
       "      <td>com-bonial-kaufda</td>\n",
       "      <td>...</td>\n",
       "      <td>2017.0</td>\n",
       "      <td>4.0</td>\n",
       "      <td>2.0</td>\n",
       "      <td>0.0</td>\n",
       "      <td>2017</td>\n",
       "      <td>7</td>\n",
       "      <td>31</td>\n",
       "      <td>2017</td>\n",
       "      <td>4</td>\n",
       "      <td>2</td>\n",
       "    </tr>\n",
       "    <tr>\n",
       "      <th>1</th>\n",
       "      <td>9491a960-206a-4a58-9177-e78cb1f05e70</td>\n",
       "      <td>2</td>\n",
       "      <td>4000.0</td>\n",
       "      <td>673861625</td>\n",
       "      <td>past</td>\n",
       "      <td>2017</td>\n",
       "      <td>4</td>\n",
       "      <td>30</td>\n",
       "      <td>past</td>\n",
       "      <td>com-bonial-kaufda</td>\n",
       "      <td>...</td>\n",
       "      <td>2017.0</td>\n",
       "      <td>4.0</td>\n",
       "      <td>2.0</td>\n",
       "      <td>0.0</td>\n",
       "      <td>2017</td>\n",
       "      <td>7</td>\n",
       "      <td>31</td>\n",
       "      <td>2017</td>\n",
       "      <td>4</td>\n",
       "      <td>2</td>\n",
       "    </tr>\n",
       "    <tr>\n",
       "      <th>2</th>\n",
       "      <td>9491a960-206a-4a58-9177-e78cb1f05e70</td>\n",
       "      <td>1</td>\n",
       "      <td>14000.0</td>\n",
       "      <td>660764240</td>\n",
       "      <td>past</td>\n",
       "      <td>2017</td>\n",
       "      <td>4</td>\n",
       "      <td>30</td>\n",
       "      <td>past</td>\n",
       "      <td>com-bonial-kaufda</td>\n",
       "      <td>...</td>\n",
       "      <td>2017.0</td>\n",
       "      <td>4.0</td>\n",
       "      <td>2.0</td>\n",
       "      <td>0.0</td>\n",
       "      <td>2017</td>\n",
       "      <td>7</td>\n",
       "      <td>31</td>\n",
       "      <td>2017</td>\n",
       "      <td>4</td>\n",
       "      <td>2</td>\n",
       "    </tr>\n",
       "    <tr>\n",
       "      <th>3</th>\n",
       "      <td>fa623647-dfc9-49b4-bbb6-77cbacd599f4</td>\n",
       "      <td>64</td>\n",
       "      <td>168000.0</td>\n",
       "      <td>672658544</td>\n",
       "      <td>past</td>\n",
       "      <td>2017</td>\n",
       "      <td>4</td>\n",
       "      <td>30</td>\n",
       "      <td>past</td>\n",
       "      <td>com-bonial-kaufda</td>\n",
       "      <td>...</td>\n",
       "      <td>2017.0</td>\n",
       "      <td>4.0</td>\n",
       "      <td>1.0</td>\n",
       "      <td>1.0</td>\n",
       "      <td>2017</td>\n",
       "      <td>6</td>\n",
       "      <td>21</td>\n",
       "      <td>2017</td>\n",
       "      <td>4</td>\n",
       "      <td>1</td>\n",
       "    </tr>\n",
       "    <tr>\n",
       "      <th>4</th>\n",
       "      <td>9491a960-206a-4a58-9177-e78cb1f05e70</td>\n",
       "      <td>1</td>\n",
       "      <td>33000.0</td>\n",
       "      <td>660764240</td>\n",
       "      <td>past</td>\n",
       "      <td>2017</td>\n",
       "      <td>4</td>\n",
       "      <td>30</td>\n",
       "      <td>past</td>\n",
       "      <td>com-bonial-kaufda</td>\n",
       "      <td>...</td>\n",
       "      <td>2017.0</td>\n",
       "      <td>4.0</td>\n",
       "      <td>2.0</td>\n",
       "      <td>0.0</td>\n",
       "      <td>2017</td>\n",
       "      <td>7</td>\n",
       "      <td>31</td>\n",
       "      <td>2017</td>\n",
       "      <td>4</td>\n",
       "      <td>2</td>\n",
       "    </tr>\n",
       "  </tbody>\n",
       "</table>\n",
       "<p>5 rows × 22 columns</p>\n",
       "</div>"
      ],
      "text/plain": [
       "                                 userId  page_turn_count  view_duration  \\\n",
       "0  9491a960-206a-4a58-9177-e78cb1f05e70               30        95172.0   \n",
       "1  9491a960-206a-4a58-9177-e78cb1f05e70                2         4000.0   \n",
       "2  9491a960-206a-4a58-9177-e78cb1f05e70                1        14000.0   \n",
       "3  fa623647-dfc9-49b4-bbb6-77cbacd599f4               64       168000.0   \n",
       "4  9491a960-206a-4a58-9177-e78cb1f05e70                1        33000.0   \n",
       "\n",
       "   brochure_id origin  year  month  day app_origin          productId  ...  \\\n",
       "0    672239440   past  2017      4   30       past  com-bonial-kaufda  ...   \n",
       "1    673861625   past  2017      4   30       past  com-bonial-kaufda  ...   \n",
       "2    660764240   past  2017      4   30       past  com-bonial-kaufda  ...   \n",
       "3    672658544   past  2017      4   30       past  com-bonial-kaufda  ...   \n",
       "4    660764240   past  2017      4   30       past  com-bonial-kaufda  ...   \n",
       "\n",
       "  install_year install_month  install_day  churn  last_year  last_month  \\\n",
       "0       2017.0           4.0          2.0    0.0       2017           7   \n",
       "1       2017.0           4.0          2.0    0.0       2017           7   \n",
       "2       2017.0           4.0          2.0    0.0       2017           7   \n",
       "3       2017.0           4.0          1.0    1.0       2017           6   \n",
       "4       2017.0           4.0          2.0    0.0       2017           7   \n",
       "\n",
       "   last_day  first_year  first_month  first_day  \n",
       "0        31        2017            4          2  \n",
       "1        31        2017            4          2  \n",
       "2        31        2017            4          2  \n",
       "3        21        2017            4          1  \n",
       "4        31        2017            4          2  \n",
       "\n",
       "[5 rows x 22 columns]"
      ]
     },
     "execution_count": 54,
     "metadata": {},
     "output_type": "execute_result"
    }
   ],
   "source": [
    "train_df4.to_csv(\"../dataset/brochure_view_dataset.csv\", index=False)\n",
    "train_df4 = pd.read_csv(\"../dataset/brochure_view_dataset.csv\")\n",
    "train_df4.head()"
   ]
  },
  {
   "cell_type": "code",
   "execution_count": 122,
   "id": "54db2df9-ec55-4ab1-9aba-dce5330d1b9d",
   "metadata": {
    "pycharm": {
     "name": "#%%\n"
    }
   },
   "outputs": [
    {
     "data": {
      "text/html": [
       "<div>\n",
       "<style scoped>\n",
       "    .dataframe tbody tr th:only-of-type {\n",
       "        vertical-align: middle;\n",
       "    }\n",
       "\n",
       "    .dataframe tbody tr th {\n",
       "        vertical-align: top;\n",
       "    }\n",
       "\n",
       "    .dataframe thead th {\n",
       "        text-align: right;\n",
       "    }\n",
       "</style>\n",
       "<table border=\"1\" class=\"dataframe\">\n",
       "  <thead>\n",
       "    <tr style=\"text-align: right;\">\n",
       "      <th></th>\n",
       "      <th>userId</th>\n",
       "      <th>page_turn_count</th>\n",
       "      <th>view_duration</th>\n",
       "      <th>brochure_id</th>\n",
       "      <th>origin</th>\n",
       "      <th>year</th>\n",
       "      <th>month</th>\n",
       "      <th>day</th>\n",
       "      <th>app_origin</th>\n",
       "      <th>model</th>\n",
       "      <th>...</th>\n",
       "      <th>churn</th>\n",
       "      <th>last_year</th>\n",
       "      <th>last_month</th>\n",
       "      <th>last_day</th>\n",
       "      <th>first_year</th>\n",
       "      <th>first_month</th>\n",
       "      <th>first_day</th>\n",
       "      <th>product_cat__com-bonial-kaufda</th>\n",
       "      <th>product_cat__de-kaufda-android</th>\n",
       "      <th>product_cat__de.kaufda.kaufda</th>\n",
       "    </tr>\n",
       "  </thead>\n",
       "  <tbody>\n",
       "    <tr>\n",
       "      <th>0</th>\n",
       "      <td>9491a960-206a-4a58-9177-e78cb1f05e70</td>\n",
       "      <td>30</td>\n",
       "      <td>95172.0</td>\n",
       "      <td>672239440</td>\n",
       "      <td>past</td>\n",
       "      <td>2017</td>\n",
       "      <td>4</td>\n",
       "      <td>30</td>\n",
       "      <td>past</td>\n",
       "      <td>GT-I9505</td>\n",
       "      <td>...</td>\n",
       "      <td>0.0</td>\n",
       "      <td>2017</td>\n",
       "      <td>7</td>\n",
       "      <td>31</td>\n",
       "      <td>2017</td>\n",
       "      <td>4</td>\n",
       "      <td>2</td>\n",
       "      <td>1</td>\n",
       "      <td>0</td>\n",
       "      <td>0</td>\n",
       "    </tr>\n",
       "    <tr>\n",
       "      <th>1</th>\n",
       "      <td>9491a960-206a-4a58-9177-e78cb1f05e70</td>\n",
       "      <td>2</td>\n",
       "      <td>4000.0</td>\n",
       "      <td>673861625</td>\n",
       "      <td>past</td>\n",
       "      <td>2017</td>\n",
       "      <td>4</td>\n",
       "      <td>30</td>\n",
       "      <td>past</td>\n",
       "      <td>GT-I9505</td>\n",
       "      <td>...</td>\n",
       "      <td>0.0</td>\n",
       "      <td>2017</td>\n",
       "      <td>7</td>\n",
       "      <td>31</td>\n",
       "      <td>2017</td>\n",
       "      <td>4</td>\n",
       "      <td>2</td>\n",
       "      <td>1</td>\n",
       "      <td>0</td>\n",
       "      <td>0</td>\n",
       "    </tr>\n",
       "    <tr>\n",
       "      <th>2</th>\n",
       "      <td>9491a960-206a-4a58-9177-e78cb1f05e70</td>\n",
       "      <td>1</td>\n",
       "      <td>14000.0</td>\n",
       "      <td>660764240</td>\n",
       "      <td>past</td>\n",
       "      <td>2017</td>\n",
       "      <td>4</td>\n",
       "      <td>30</td>\n",
       "      <td>past</td>\n",
       "      <td>GT-I9505</td>\n",
       "      <td>...</td>\n",
       "      <td>0.0</td>\n",
       "      <td>2017</td>\n",
       "      <td>7</td>\n",
       "      <td>31</td>\n",
       "      <td>2017</td>\n",
       "      <td>4</td>\n",
       "      <td>2</td>\n",
       "      <td>1</td>\n",
       "      <td>0</td>\n",
       "      <td>0</td>\n",
       "    </tr>\n",
       "    <tr>\n",
       "      <th>3</th>\n",
       "      <td>fa623647-dfc9-49b4-bbb6-77cbacd599f4</td>\n",
       "      <td>64</td>\n",
       "      <td>168000.0</td>\n",
       "      <td>672658544</td>\n",
       "      <td>past</td>\n",
       "      <td>2017</td>\n",
       "      <td>4</td>\n",
       "      <td>30</td>\n",
       "      <td>past</td>\n",
       "      <td>HUAWEI+VNS-L31</td>\n",
       "      <td>...</td>\n",
       "      <td>1.0</td>\n",
       "      <td>2017</td>\n",
       "      <td>6</td>\n",
       "      <td>21</td>\n",
       "      <td>2017</td>\n",
       "      <td>4</td>\n",
       "      <td>1</td>\n",
       "      <td>1</td>\n",
       "      <td>0</td>\n",
       "      <td>0</td>\n",
       "    </tr>\n",
       "    <tr>\n",
       "      <th>4</th>\n",
       "      <td>9491a960-206a-4a58-9177-e78cb1f05e70</td>\n",
       "      <td>1</td>\n",
       "      <td>33000.0</td>\n",
       "      <td>660764240</td>\n",
       "      <td>past</td>\n",
       "      <td>2017</td>\n",
       "      <td>4</td>\n",
       "      <td>30</td>\n",
       "      <td>past</td>\n",
       "      <td>GT-I9505</td>\n",
       "      <td>...</td>\n",
       "      <td>0.0</td>\n",
       "      <td>2017</td>\n",
       "      <td>7</td>\n",
       "      <td>31</td>\n",
       "      <td>2017</td>\n",
       "      <td>4</td>\n",
       "      <td>2</td>\n",
       "      <td>1</td>\n",
       "      <td>0</td>\n",
       "      <td>0</td>\n",
       "    </tr>\n",
       "  </tbody>\n",
       "</table>\n",
       "<p>5 rows × 24 columns</p>\n",
       "</div>"
      ],
      "text/plain": [
       "                                 userId  page_turn_count  view_duration  \\\n",
       "0  9491a960-206a-4a58-9177-e78cb1f05e70               30        95172.0   \n",
       "1  9491a960-206a-4a58-9177-e78cb1f05e70                2         4000.0   \n",
       "2  9491a960-206a-4a58-9177-e78cb1f05e70                1        14000.0   \n",
       "3  fa623647-dfc9-49b4-bbb6-77cbacd599f4               64       168000.0   \n",
       "4  9491a960-206a-4a58-9177-e78cb1f05e70                1        33000.0   \n",
       "\n",
       "   brochure_id origin  year  month  day app_origin           model  ... churn  \\\n",
       "0    672239440   past  2017      4   30       past        GT-I9505  ...   0.0   \n",
       "1    673861625   past  2017      4   30       past        GT-I9505  ...   0.0   \n",
       "2    660764240   past  2017      4   30       past        GT-I9505  ...   0.0   \n",
       "3    672658544   past  2017      4   30       past  HUAWEI+VNS-L31  ...   1.0   \n",
       "4    660764240   past  2017      4   30       past        GT-I9505  ...   0.0   \n",
       "\n",
       "   last_year  last_month  last_day  first_year  first_month  first_day  \\\n",
       "0       2017           7        31        2017            4          2   \n",
       "1       2017           7        31        2017            4          2   \n",
       "2       2017           7        31        2017            4          2   \n",
       "3       2017           6        21        2017            4          1   \n",
       "4       2017           7        31        2017            4          2   \n",
       "\n",
       "   product_cat__com-bonial-kaufda  product_cat__de-kaufda-android  \\\n",
       "0                               1                               0   \n",
       "1                               1                               0   \n",
       "2                               1                               0   \n",
       "3                               1                               0   \n",
       "4                               1                               0   \n",
       "\n",
       "   product_cat__de.kaufda.kaufda  \n",
       "0                              0  \n",
       "1                              0  \n",
       "2                              0  \n",
       "3                              0  \n",
       "4                              0  \n",
       "\n",
       "[5 rows x 24 columns]"
      ]
     },
     "execution_count": 122,
     "metadata": {},
     "output_type": "execute_result"
    }
   ],
   "source": [
    "train_df4 = pd.concat([train_df4, pd.get_dummies(train_df4[\"productId\"],prefix=\"product_cat_\")], axis=1)\n",
    "train_df4.drop(columns=[\"productId\"], axis=1, inplace=True)\n",
    "\n",
    "train_df4.head()"
   ]
  },
  {
   "cell_type": "code",
   "execution_count": 123,
   "id": "2c7b4b5a-fa76-4823-b4d1-b970b7b5cbb8",
   "metadata": {
    "pycharm": {
     "name": "#%%\n"
    }
   },
   "outputs": [
    {
     "data": {
      "text/plain": [
       "array(['past', 'july'], dtype=object)"
      ]
     },
     "execution_count": 123,
     "metadata": {},
     "output_type": "execute_result"
    }
   ],
   "source": [
    "train_df4.origin.unique()"
   ]
  },
  {
   "cell_type": "code",
   "execution_count": 124,
   "id": "48389866-2947-41d8-9ea6-a2278014d2a6",
   "metadata": {
    "pycharm": {
     "name": "#%%\n"
    }
   },
   "outputs": [],
   "source": [
    "train_df4[\"origin\"] = train_df4[\"origin\"].replace('past', 0)\n",
    "train_df4[\"origin\"] = train_df4[\"origin\"].replace('july', 1)\n",
    "train_df4[\"origin\"] = train_df4[\"origin\"].fillna(-1)\n",
    "\n",
    "train_df4[\"app_origin\"] = train_df4[\"app_origin\"].replace('past', 0)\n",
    "train_df4[\"app_origin\"] = train_df4[\"app_origin\"].replace('july', 1)\n",
    "train_df4[\"app_origin\"] = train_df4[\"app_origin\"].fillna(-1)"
   ]
  },
  {
   "cell_type": "raw",
   "id": "b4a5558d-391e-463b-a74f-bd4c2adb5a61",
   "metadata": {
    "pycharm": {
     "name": "#%% raw\n"
    }
   },
   "source": [
    "product_dict = {'com-bonial-kaufda':1,\n",
    "                'de-kaufda-android':2,\n",
    "                'de.kaufda.kaufda':3,\n",
    "                'other': 99}\n",
    "\n",
    "train_df4[\"productId\"] = train_df4[\"productId\"].replace(product_dict.keys(), product_dict.values())"
   ]
  },
  {
   "cell_type": "code",
   "execution_count": 125,
   "id": "579d5452-6c17-483e-9333-43ad9f627c8a",
   "metadata": {
    "pycharm": {
     "name": "#%%\n"
    }
   },
   "outputs": [],
   "source": [
    "train_df4.model = train_df4.model.str.lower()"
   ]
  },
  {
   "cell_type": "code",
   "execution_count": 126,
   "id": "92bcd529-63b2-456e-ab9f-00336828032e",
   "metadata": {
    "collapsed": true,
    "jupyter": {
     "outputs_hidden": true
    },
    "pycharm": {
     "name": "#%%\n"
    },
    "tags": []
   },
   "outputs": [
    {
     "data": {
      "text/plain": [
       "array(['gt', 'huawei', 'other', 'sm', 'lg', 'vie', 'moto', 'htc', 'c6903',\n",
       "       'e2303', 'd6603', 'power', 'd6503', 'medion', 'odys', 'vtr', 'a3',\n",
       "       'zte', 'f3311', 's57', 'lenovo', 'mha', 'lenny2', 'discovery',\n",
       "       'g3121', 'redmi', 'cynus', 'e5603', 'a1', 'frd', 'ale', 'was',\n",
       "       'eva', '5051d', 't09', 't08', 'e6653', 'xt1032', 'xxx', 'e5823',\n",
       "       'nexus', 'm20', 'c6902', 'a', 'pra', 'sgpt12', 'archos', 'highway',\n",
       "       'c6603', 'v81', 'f5121', 'pulp', 'd5803', 'gigaset', 'smartbook',\n",
       "       'f8331', 'lifetab', 'bv5000', 'x550', 'f5321', 'phicomm', 'hp',\n",
       "       'd5503', 'z520', 'e6833', 'plus', 'p1040x', 'motog3', 'i545',\n",
       "       'x11', 'rainbow', 'z10', 'oneplus', 'neo6', 'fever', 's60',\n",
       "       'ahiga', 's10q', '3007', 'vf', 'plk', 'f3111', 'satellite',\n",
       "       'xt1650', 'e6853', 'jerry', 'e6553', 'me302c', 'sd4930ur', 't07',\n",
       "       'cubot', 'metal', 'p9000', 'vfd', 'elephone', 'c6503', 'aquaris',\n",
       "       'maven', 'turb02', 'surftab', 'coolpad', 'one', 'l52', 'b3',\n",
       "       'xt1562', 'mediapad', 'lenny', 'bluboo', 'e1050x', 'vky', 'gem',\n",
       "       'k960', 'kffowi', 'e691x', 'u972', 'nx512j', 'ideataba2109a',\n",
       "       'xt1068', 'timmy', 'qmv7a', 'f8131', 'xoom', 'c1505', 'qmobile',\n",
       "       'c5303', 'l1002', 's30', 'm3', 'asus', 'g630', 'p851x', 'd2303',\n",
       "       'leap', 't1', 'k6000', 'e39', 'g620s', 'ridge', 'rapid7lte', 'jy',\n",
       "       'robby', '8050d', 'padfone', 'btv', 'k016', 'tpc', 'terra',\n",
       "       'x1030x', 'space10', 'alcatel', '709v82', 'lenny3', '5095k',\n",
       "       'kfthwi', 'mi', 'h60', 'e6633', 't03', 'sgp521', 'ideatab',\n",
       "       'vodafone', 'm1009b', 'breeze', 'a0001', 'chc', 'sgp771', 'd6633',\n",
       "       'kftbwi', 'pixel', 'tolino tab 7', 's7q', 'neffos', 'telekom',\n",
       "       'b1', 'y6', 'r6', 'fdr', 'london', 'voyager2', 'd5103', 'z',\n",
       "       'mark', 'slade', 'bln', 'xt1080', 'stv100', 'l53', 'shield',\n",
       "       'z200', 's50', 'xt1039', '8079', 'a1601', 'rise', 'f3211',\n",
       "       'xt1072', 'z1', 'apollo', 'd2403', 'h2', 'tp9', 'z2', 'thor', 'g',\n",
       "       'b10', 'sth100', 'z100', 'ht7', 'nem', 'x17', '8030y', 'iphone7',\n",
       "       'z500', 'ipad4', 'iphone9', 'ipad5', 'iphone8', 'sunny', 'iphone6',\n",
       "       'iphone5', 'iphone4', 'ipad2', 'x600', 'ipad3', 'me173x', 'ipad6',\n",
       "       'x98', 'i216x', 't02', 'irulu', '6055k', 'sgp511', 'zp952',\n",
       "       '5080x', 'gs53', 'hs', 'nx529j', 'p021', 'x15', 'u007', 't06',\n",
       "       'galaxy', 'u', '5045d', 'kazam', 'shark', 'infocus', 'x16', 'x9',\n",
       "       'thl', 'le', 'kfgiwi', '6070k', 'x10', 'a8', 't10', 'pmt5487',\n",
       "       'kiw', 'slide', 'oppo', 'm2', 'c1905', 'c', 'vt10416', 'f8132',\n",
       "       's40', '9010x', 'p1050x', 'sgh', 'nx511j', 'taq', 'mpqc96i',\n",
       "       'e6533', 'e5303', 'che2', '7048x', 'tab2a7', 'infinix', 'cam',\n",
       "       'xintroni10', 'adm8000kp', 'y635', 'p027', 'ple', 'lt26i',\n",
       "       'po9659taq', 'cavion', 'v3', 'd2005', 'ideataba1000', 'zuk',\n",
       "       'c2005', 'cph1605', 'po', 't11', 'x5pro', 'x10quad', 'transformer',\n",
       "       'sgp611', 'xt1700', 'x12', 'score', 'dg800', 'umi', 'yoga',\n",
       "       'vowney', 'k107', 'a510', 'd2203', 'g7', 'k10000', 'kfsowi',\n",
       "       '5070d', 'xelio10', 'ieos', 'kfmewi', 'a210', 'vito', 'st70216',\n",
       "       'p01t', 'unknown', 'samsung', 'picasso', 'x534', 'fire', 'c3',\n",
       "       'trekstor', 'bv6000', '6045k'], dtype=object)"
      ]
     },
     "execution_count": 126,
     "metadata": {},
     "output_type": "execute_result"
    }
   ],
   "source": [
    "train_df4[\"model\"] = train_df4[\"model\"].fillna(\"other\")\n",
    "\n",
    "train_df4[\"model\"] = train_df4[\"model\"].apply(lambda x: x.split(\"-\")[0])\n",
    "train_df4[\"model\"] = train_df4[\"model\"].apply(lambda x: x.split(\"+\")[0])\n",
    "train_df4[\"model\"] = train_df4[\"model\"].apply(lambda x: x.split(\"_\")[0])\n",
    "train_df4[\"model\"] = train_df4[\"model\"].apply(lambda x: x.split(\",\")[0])\n",
    "train_df4[\"model\"] = train_df4[\"model\"].apply(lambda x: x.split(\".\")[0])\n",
    "train_df4.model.unique()"
   ]
  },
  {
   "cell_type": "code",
   "execution_count": 127,
   "id": "cea9b878-b76c-405c-be67-3457b425a571",
   "metadata": {
    "pycharm": {
     "name": "#%%\n"
    }
   },
   "outputs": [
    {
     "data": {
      "text/plain": [
       "195"
      ]
     },
     "execution_count": 127,
     "metadata": {},
     "output_type": "execute_result"
    }
   ],
   "source": [
    "train_df4[\"model\"] = train_df4[\"model\"].str.replace('\\d+', '')\n",
    "train_df4.model.nunique()"
   ]
  },
  {
   "cell_type": "code",
   "execution_count": 128,
   "id": "7398a55e-0294-442e-89aa-afdc0780089c",
   "metadata": {
    "pycharm": {
     "name": "#%%\n"
    }
   },
   "outputs": [],
   "source": [
    "model_undefined_list = ['c', 'e', 'd', 'a', 'f', 's', 'g',\n",
    "                         't',  'm', 'v', 'x', 'z', 'i', '',\n",
    "                         'p', 'l', 'b', 'k', 'u', 'h', 'y', 'r']\n",
    "samsung_list = ['sm', 'galaxy', 'one']\n",
    "apple_list = ['xpro', 'ipad', 'iphone']\n",
    "xiaomi_list = ['mi', 'redmi']"
   ]
  },
  {
   "cell_type": "code",
   "execution_count": 129,
   "id": "ee26a1f6-feb2-43c1-83b5-bacecfcc7d6b",
   "metadata": {
    "pycharm": {
     "name": "#%%\n"
    }
   },
   "outputs": [],
   "source": [
    "train_df4.loc[train_df4['model'].isin(model_undefined_list), ['model']] = 'undefined'\n",
    "train_df4.loc[train_df4['model'] .isin(samsung_list), ['model']] = 'samsung'\n",
    "train_df4.loc[train_df4['model'].isin(apple_list), ['model']] = 'apple'\n",
    "train_df4.loc[train_df4['model'].isin(xiaomi_list), ['model']] = 'xiaomi'\n",
    "train_df4.loc[train_df4['model'] == 'tolino tab ', ['model']] = 'tolino'\n",
    "\n",
    "\n"
   ]
  },
  {
   "cell_type": "code",
   "execution_count": 130,
   "id": "28a605d6-a8d6-48c5-80e6-c50d0175fc27",
   "metadata": {
    "pycharm": {
     "name": "#%%\n"
    }
   },
   "outputs": [
    {
     "data": {
      "text/plain": [
       "168"
      ]
     },
     "execution_count": 130,
     "metadata": {},
     "output_type": "execute_result"
    }
   ],
   "source": [
    "train_df4['model'].nunique()"
   ]
  },
  {
   "cell_type": "code",
   "execution_count": 131,
   "id": "a1d533a1-7662-430a-b3fb-919fdf7584d1",
   "metadata": {
    "pycharm": {
     "name": "#%%\n"
    }
   },
   "outputs": [
    {
     "data": {
      "text/html": [
       "<div>\n",
       "<style scoped>\n",
       "    .dataframe tbody tr th:only-of-type {\n",
       "        vertical-align: middle;\n",
       "    }\n",
       "\n",
       "    .dataframe tbody tr th {\n",
       "        vertical-align: top;\n",
       "    }\n",
       "\n",
       "    .dataframe thead th {\n",
       "        text-align: right;\n",
       "    }\n",
       "</style>\n",
       "<table border=\"1\" class=\"dataframe\">\n",
       "  <thead>\n",
       "    <tr style=\"text-align: right;\">\n",
       "      <th></th>\n",
       "      <th>userId</th>\n",
       "      <th>page_turn_count</th>\n",
       "      <th>view_duration</th>\n",
       "      <th>brochure_id</th>\n",
       "      <th>origin</th>\n",
       "      <th>year</th>\n",
       "      <th>month</th>\n",
       "      <th>day</th>\n",
       "      <th>app_origin</th>\n",
       "      <th>model</th>\n",
       "      <th>...</th>\n",
       "      <th>churn</th>\n",
       "      <th>last_year</th>\n",
       "      <th>last_month</th>\n",
       "      <th>last_day</th>\n",
       "      <th>first_year</th>\n",
       "      <th>first_month</th>\n",
       "      <th>first_day</th>\n",
       "      <th>product_cat__com-bonial-kaufda</th>\n",
       "      <th>product_cat__de-kaufda-android</th>\n",
       "      <th>product_cat__de.kaufda.kaufda</th>\n",
       "    </tr>\n",
       "  </thead>\n",
       "  <tbody>\n",
       "    <tr>\n",
       "      <th>0</th>\n",
       "      <td>9491a960-206a-4a58-9177-e78cb1f05e70</td>\n",
       "      <td>30</td>\n",
       "      <td>95172.0</td>\n",
       "      <td>672239440</td>\n",
       "      <td>0</td>\n",
       "      <td>2017</td>\n",
       "      <td>4</td>\n",
       "      <td>30</td>\n",
       "      <td>0.0</td>\n",
       "      <td>gt</td>\n",
       "      <td>...</td>\n",
       "      <td>0.0</td>\n",
       "      <td>2017</td>\n",
       "      <td>7</td>\n",
       "      <td>31</td>\n",
       "      <td>2017</td>\n",
       "      <td>4</td>\n",
       "      <td>2</td>\n",
       "      <td>1</td>\n",
       "      <td>0</td>\n",
       "      <td>0</td>\n",
       "    </tr>\n",
       "    <tr>\n",
       "      <th>1</th>\n",
       "      <td>9491a960-206a-4a58-9177-e78cb1f05e70</td>\n",
       "      <td>2</td>\n",
       "      <td>4000.0</td>\n",
       "      <td>673861625</td>\n",
       "      <td>0</td>\n",
       "      <td>2017</td>\n",
       "      <td>4</td>\n",
       "      <td>30</td>\n",
       "      <td>0.0</td>\n",
       "      <td>gt</td>\n",
       "      <td>...</td>\n",
       "      <td>0.0</td>\n",
       "      <td>2017</td>\n",
       "      <td>7</td>\n",
       "      <td>31</td>\n",
       "      <td>2017</td>\n",
       "      <td>4</td>\n",
       "      <td>2</td>\n",
       "      <td>1</td>\n",
       "      <td>0</td>\n",
       "      <td>0</td>\n",
       "    </tr>\n",
       "    <tr>\n",
       "      <th>2</th>\n",
       "      <td>9491a960-206a-4a58-9177-e78cb1f05e70</td>\n",
       "      <td>1</td>\n",
       "      <td>14000.0</td>\n",
       "      <td>660764240</td>\n",
       "      <td>0</td>\n",
       "      <td>2017</td>\n",
       "      <td>4</td>\n",
       "      <td>30</td>\n",
       "      <td>0.0</td>\n",
       "      <td>gt</td>\n",
       "      <td>...</td>\n",
       "      <td>0.0</td>\n",
       "      <td>2017</td>\n",
       "      <td>7</td>\n",
       "      <td>31</td>\n",
       "      <td>2017</td>\n",
       "      <td>4</td>\n",
       "      <td>2</td>\n",
       "      <td>1</td>\n",
       "      <td>0</td>\n",
       "      <td>0</td>\n",
       "    </tr>\n",
       "    <tr>\n",
       "      <th>3</th>\n",
       "      <td>fa623647-dfc9-49b4-bbb6-77cbacd599f4</td>\n",
       "      <td>64</td>\n",
       "      <td>168000.0</td>\n",
       "      <td>672658544</td>\n",
       "      <td>0</td>\n",
       "      <td>2017</td>\n",
       "      <td>4</td>\n",
       "      <td>30</td>\n",
       "      <td>0.0</td>\n",
       "      <td>huawei</td>\n",
       "      <td>...</td>\n",
       "      <td>1.0</td>\n",
       "      <td>2017</td>\n",
       "      <td>6</td>\n",
       "      <td>21</td>\n",
       "      <td>2017</td>\n",
       "      <td>4</td>\n",
       "      <td>1</td>\n",
       "      <td>1</td>\n",
       "      <td>0</td>\n",
       "      <td>0</td>\n",
       "    </tr>\n",
       "    <tr>\n",
       "      <th>4</th>\n",
       "      <td>9491a960-206a-4a58-9177-e78cb1f05e70</td>\n",
       "      <td>1</td>\n",
       "      <td>33000.0</td>\n",
       "      <td>660764240</td>\n",
       "      <td>0</td>\n",
       "      <td>2017</td>\n",
       "      <td>4</td>\n",
       "      <td>30</td>\n",
       "      <td>0.0</td>\n",
       "      <td>gt</td>\n",
       "      <td>...</td>\n",
       "      <td>0.0</td>\n",
       "      <td>2017</td>\n",
       "      <td>7</td>\n",
       "      <td>31</td>\n",
       "      <td>2017</td>\n",
       "      <td>4</td>\n",
       "      <td>2</td>\n",
       "      <td>1</td>\n",
       "      <td>0</td>\n",
       "      <td>0</td>\n",
       "    </tr>\n",
       "  </tbody>\n",
       "</table>\n",
       "<p>5 rows × 24 columns</p>\n",
       "</div>"
      ],
      "text/plain": [
       "                                 userId  page_turn_count  view_duration  \\\n",
       "0  9491a960-206a-4a58-9177-e78cb1f05e70               30        95172.0   \n",
       "1  9491a960-206a-4a58-9177-e78cb1f05e70                2         4000.0   \n",
       "2  9491a960-206a-4a58-9177-e78cb1f05e70                1        14000.0   \n",
       "3  fa623647-dfc9-49b4-bbb6-77cbacd599f4               64       168000.0   \n",
       "4  9491a960-206a-4a58-9177-e78cb1f05e70                1        33000.0   \n",
       "\n",
       "   brochure_id  origin  year  month  day  app_origin   model  ... churn  \\\n",
       "0    672239440       0  2017      4   30         0.0      gt  ...   0.0   \n",
       "1    673861625       0  2017      4   30         0.0      gt  ...   0.0   \n",
       "2    660764240       0  2017      4   30         0.0      gt  ...   0.0   \n",
       "3    672658544       0  2017      4   30         0.0  huawei  ...   1.0   \n",
       "4    660764240       0  2017      4   30         0.0      gt  ...   0.0   \n",
       "\n",
       "   last_year  last_month  last_day  first_year  first_month  first_day  \\\n",
       "0       2017           7        31        2017            4          2   \n",
       "1       2017           7        31        2017            4          2   \n",
       "2       2017           7        31        2017            4          2   \n",
       "3       2017           6        21        2017            4          1   \n",
       "4       2017           7        31        2017            4          2   \n",
       "\n",
       "   product_cat__com-bonial-kaufda  product_cat__de-kaufda-android  \\\n",
       "0                               1                               0   \n",
       "1                               1                               0   \n",
       "2                               1                               0   \n",
       "3                               1                               0   \n",
       "4                               1                               0   \n",
       "\n",
       "   product_cat__de.kaufda.kaufda  \n",
       "0                              0  \n",
       "1                              0  \n",
       "2                              0  \n",
       "3                              0  \n",
       "4                              0  \n",
       "\n",
       "[5 rows x 24 columns]"
      ]
     },
     "execution_count": 131,
     "metadata": {},
     "output_type": "execute_result"
    }
   ],
   "source": [
    "train_df4.head()"
   ]
  },
  {
   "cell_type": "code",
   "execution_count": 132,
   "id": "97f8a60a-e486-4bc1-b982-f8a36994af04",
   "metadata": {
    "pycharm": {
     "name": "#%%\n"
    }
   },
   "outputs": [
    {
     "data": {
      "text/html": [
       "<div>\n",
       "<style scoped>\n",
       "    .dataframe tbody tr th:only-of-type {\n",
       "        vertical-align: middle;\n",
       "    }\n",
       "\n",
       "    .dataframe tbody tr th {\n",
       "        vertical-align: top;\n",
       "    }\n",
       "\n",
       "    .dataframe thead th {\n",
       "        text-align: right;\n",
       "    }\n",
       "</style>\n",
       "<table border=\"1\" class=\"dataframe\">\n",
       "  <thead>\n",
       "    <tr style=\"text-align: right;\">\n",
       "      <th></th>\n",
       "      <th>userId</th>\n",
       "      <th>page_turn_count</th>\n",
       "      <th>view_duration</th>\n",
       "      <th>brochure_id</th>\n",
       "      <th>origin</th>\n",
       "      <th>year</th>\n",
       "      <th>month</th>\n",
       "      <th>day</th>\n",
       "      <th>app_origin</th>\n",
       "      <th>model</th>\n",
       "      <th>...</th>\n",
       "      <th>churn</th>\n",
       "      <th>last_year</th>\n",
       "      <th>last_month</th>\n",
       "      <th>last_day</th>\n",
       "      <th>first_year</th>\n",
       "      <th>first_month</th>\n",
       "      <th>first_day</th>\n",
       "      <th>product_cat__com-bonial-kaufda</th>\n",
       "      <th>product_cat__de-kaufda-android</th>\n",
       "      <th>product_cat__de.kaufda.kaufda</th>\n",
       "    </tr>\n",
       "  </thead>\n",
       "  <tbody>\n",
       "    <tr>\n",
       "      <th>0</th>\n",
       "      <td>9491a960-206a-4a58-9177-e78cb1f05e70</td>\n",
       "      <td>30</td>\n",
       "      <td>95172.0</td>\n",
       "      <td>672239440</td>\n",
       "      <td>0</td>\n",
       "      <td>2017</td>\n",
       "      <td>4</td>\n",
       "      <td>30</td>\n",
       "      <td>0.0</td>\n",
       "      <td>34</td>\n",
       "      <td>...</td>\n",
       "      <td>0.0</td>\n",
       "      <td>2017</td>\n",
       "      <td>7</td>\n",
       "      <td>31</td>\n",
       "      <td>2017</td>\n",
       "      <td>4</td>\n",
       "      <td>2</td>\n",
       "      <td>1</td>\n",
       "      <td>0</td>\n",
       "      <td>0</td>\n",
       "    </tr>\n",
       "    <tr>\n",
       "      <th>1</th>\n",
       "      <td>9491a960-206a-4a58-9177-e78cb1f05e70</td>\n",
       "      <td>2</td>\n",
       "      <td>4000.0</td>\n",
       "      <td>673861625</td>\n",
       "      <td>0</td>\n",
       "      <td>2017</td>\n",
       "      <td>4</td>\n",
       "      <td>30</td>\n",
       "      <td>0.0</td>\n",
       "      <td>34</td>\n",
       "      <td>...</td>\n",
       "      <td>0.0</td>\n",
       "      <td>2017</td>\n",
       "      <td>7</td>\n",
       "      <td>31</td>\n",
       "      <td>2017</td>\n",
       "      <td>4</td>\n",
       "      <td>2</td>\n",
       "      <td>1</td>\n",
       "      <td>0</td>\n",
       "      <td>0</td>\n",
       "    </tr>\n",
       "    <tr>\n",
       "      <th>2</th>\n",
       "      <td>9491a960-206a-4a58-9177-e78cb1f05e70</td>\n",
       "      <td>1</td>\n",
       "      <td>14000.0</td>\n",
       "      <td>660764240</td>\n",
       "      <td>0</td>\n",
       "      <td>2017</td>\n",
       "      <td>4</td>\n",
       "      <td>30</td>\n",
       "      <td>0.0</td>\n",
       "      <td>34</td>\n",
       "      <td>...</td>\n",
       "      <td>0.0</td>\n",
       "      <td>2017</td>\n",
       "      <td>7</td>\n",
       "      <td>31</td>\n",
       "      <td>2017</td>\n",
       "      <td>4</td>\n",
       "      <td>2</td>\n",
       "      <td>1</td>\n",
       "      <td>0</td>\n",
       "      <td>0</td>\n",
       "    </tr>\n",
       "    <tr>\n",
       "      <th>3</th>\n",
       "      <td>fa623647-dfc9-49b4-bbb6-77cbacd599f4</td>\n",
       "      <td>64</td>\n",
       "      <td>168000.0</td>\n",
       "      <td>672658544</td>\n",
       "      <td>0</td>\n",
       "      <td>2017</td>\n",
       "      <td>4</td>\n",
       "      <td>30</td>\n",
       "      <td>0.0</td>\n",
       "      <td>40</td>\n",
       "      <td>...</td>\n",
       "      <td>1.0</td>\n",
       "      <td>2017</td>\n",
       "      <td>6</td>\n",
       "      <td>21</td>\n",
       "      <td>2017</td>\n",
       "      <td>4</td>\n",
       "      <td>1</td>\n",
       "      <td>1</td>\n",
       "      <td>0</td>\n",
       "      <td>0</td>\n",
       "    </tr>\n",
       "    <tr>\n",
       "      <th>4</th>\n",
       "      <td>9491a960-206a-4a58-9177-e78cb1f05e70</td>\n",
       "      <td>1</td>\n",
       "      <td>33000.0</td>\n",
       "      <td>660764240</td>\n",
       "      <td>0</td>\n",
       "      <td>2017</td>\n",
       "      <td>4</td>\n",
       "      <td>30</td>\n",
       "      <td>0.0</td>\n",
       "      <td>34</td>\n",
       "      <td>...</td>\n",
       "      <td>0.0</td>\n",
       "      <td>2017</td>\n",
       "      <td>7</td>\n",
       "      <td>31</td>\n",
       "      <td>2017</td>\n",
       "      <td>4</td>\n",
       "      <td>2</td>\n",
       "      <td>1</td>\n",
       "      <td>0</td>\n",
       "      <td>0</td>\n",
       "    </tr>\n",
       "  </tbody>\n",
       "</table>\n",
       "<p>5 rows × 24 columns</p>\n",
       "</div>"
      ],
      "text/plain": [
       "                                 userId  page_turn_count  view_duration  \\\n",
       "0  9491a960-206a-4a58-9177-e78cb1f05e70               30        95172.0   \n",
       "1  9491a960-206a-4a58-9177-e78cb1f05e70                2         4000.0   \n",
       "2  9491a960-206a-4a58-9177-e78cb1f05e70                1        14000.0   \n",
       "3  fa623647-dfc9-49b4-bbb6-77cbacd599f4               64       168000.0   \n",
       "4  9491a960-206a-4a58-9177-e78cb1f05e70                1        33000.0   \n",
       "\n",
       "   brochure_id  origin  year  month  day  app_origin  model  ...  churn  \\\n",
       "0    672239440       0  2017      4   30         0.0     34  ...    0.0   \n",
       "1    673861625       0  2017      4   30         0.0     34  ...    0.0   \n",
       "2    660764240       0  2017      4   30         0.0     34  ...    0.0   \n",
       "3    672658544       0  2017      4   30         0.0     40  ...    1.0   \n",
       "4    660764240       0  2017      4   30         0.0     34  ...    0.0   \n",
       "\n",
       "   last_year  last_month  last_day  first_year  first_month  first_day  \\\n",
       "0       2017           7        31        2017            4          2   \n",
       "1       2017           7        31        2017            4          2   \n",
       "2       2017           7        31        2017            4          2   \n",
       "3       2017           6        21        2017            4          1   \n",
       "4       2017           7        31        2017            4          2   \n",
       "\n",
       "   product_cat__com-bonial-kaufda  product_cat__de-kaufda-android  \\\n",
       "0                               1                               0   \n",
       "1                               1                               0   \n",
       "2                               1                               0   \n",
       "3                               1                               0   \n",
       "4                               1                               0   \n",
       "\n",
       "   product_cat__de.kaufda.kaufda  \n",
       "0                              0  \n",
       "1                              0  \n",
       "2                              0  \n",
       "3                              0  \n",
       "4                              0  \n",
       "\n",
       "[5 rows x 24 columns]"
      ]
     },
     "execution_count": 132,
     "metadata": {},
     "output_type": "execute_result"
    }
   ],
   "source": [
    "# creating instance of labelencoder\n",
    "labelencoder = LabelEncoder()\n",
    "# Assigning numerical values and storing in another column\n",
    "train_df4['model'] = labelencoder.fit_transform(train_df4['model'])\n",
    "train_df4['campaignId'] = labelencoder.fit_transform(train_df4['campaignId'])\n",
    "\n",
    "train_df4.head()"
   ]
  },
  {
   "cell_type": "code",
   "execution_count": 133,
   "id": "706a301a-2a9f-444e-b6f6-f0020f05dcb3",
   "metadata": {
    "pycharm": {
     "name": "#%%\n"
    }
   },
   "outputs": [],
   "source": [
    "train_df4['view_duration'] = train_df4['view_duration'].fillna(0.1)"
   ]
  },
  {
   "cell_type": "code",
   "execution_count": 134,
   "id": "c0a0969b-c199-4fa8-a711-c97028ad08cb",
   "metadata": {
    "pycharm": {
     "name": "#%%\n"
    }
   },
   "outputs": [],
   "source": [
    "sc = MinMaxScaler()\n",
    "ptc = sc.fit_transform(train_df4[['page_turn_count']])\n",
    "vd = sc.fit_transform(train_df4[['view_duration']])\n",
    "train_df4['page_turn_count'] = ptc\n",
    "train_df4['view_duration'] = vd"
   ]
  },
  {
   "cell_type": "code",
   "execution_count": 135,
   "id": "e773ee5c-c54b-40a5-bc16-0ef9cc09a2c8",
   "metadata": {
    "pycharm": {
     "name": "#%%\n"
    }
   },
   "outputs": [
    {
     "data": {
      "text/plain": [
       "Text(0.5, 1.0, 'Class Distribution Before Resampling')"
      ]
     },
     "execution_count": 135,
     "metadata": {},
     "output_type": "execute_result"
    },
    {
     "data": {
      "image/png": "[encoded data removed]",
      "text/plain": [
       "<Figure size 432x288 with 1 Axes>"
      ]
     },
     "metadata": {
      "needs_background": "light"
     },
     "output_type": "display_data"
    }
   ],
   "source": [
    "sns.countplot('churn', data=train_df4).set_title('Class Distribution Before Resampling')"
   ]
  },
  {
   "cell_type": "raw",
   "id": "0f6c9e21-393b-4b16-bc48-6f252bd39502",
   "metadata": {
    "pycharm": {
     "name": "#%% raw\n"
    }
   },
   "source": [
    "user_list = train_df4.userId\n",
    "train_df4 = train_df4.drop(columns='userId')"
   ]
  },
  {
   "cell_type": "code",
   "execution_count": 136,
   "id": "18ad2c31-da3b-48ba-be71-2eaacf8edb23",
   "metadata": {
    "pycharm": {
     "name": "#%%\n"
    }
   },
   "outputs": [],
   "source": [
    "train_df4.to_csv(\"../dataset/churn_dataset.csv\", index=False)"
   ]
  }
 ],
 "metadata": {
  "kernelspec": {
   "display_name": "Python 3 (ipykernel)",
   "language": "python",
   "name": "python3"
  },
  "language_info": {
   "codemirror_mode": {
    "name": "ipython",
    "version": 3
   },
   "file_extension": ".py",
   "mimetype": "text/x-python",
   "name": "python",
   "nbconvert_exporter": "python",
   "pygments_lexer": "ipython3",
   "version": "3.10.6"
  }
 },
 "nbformat": 4,
 "nbformat_minor": 5
}